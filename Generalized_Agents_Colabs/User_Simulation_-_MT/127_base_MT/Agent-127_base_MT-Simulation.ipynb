{
  "cells": [
    {
      "cell_type": "markdown",
      "id": "43fff46b",
      "metadata": {
        "id": "43fff46b"
      },
      "source": [
        "**Sample ID**: 127\n",
        "\n",
        "**Query**:\n",
        "\n",
        "Can you restore some blog posts for me?\n",
        "\n",
        "**DB Type**: Base Case\n",
        "\n",
        "**Case Description**:\n",
        "\n",
        "The user wants to restore blog posts that have been moved to the trash in their Confluence 'BLOG' space. There are two blog posts, \"Annual Tech Summit Recap\"  and \"Q3 Marketing Goals\" both of which currently have a \"trashed\" status. The user will confirm that both should be restored.\n",
        "\n",
        "```\n",
        "<multiturn info>\n",
        "Space Name: They're in the 'BLOG' space. (Information Gathering)\n",
        "Confirmation: \"Annual Tech Summit Recap\" and \"Q3 Marketing Goals\".(Information Gathering)\n",
        "</multiturn info>\n",
        "```\n",
        "\n",
        "**Global/Context Variables:**\n",
        "\n",
        "\n",
        "**APIs:**\n",
        "\n",
        "- confluence\n"
      ]
    },
    {
      "cell_type": "markdown",
      "id": "792cbeb6",
      "metadata": {
        "id": "792cbeb6"
      },
      "source": [
        "# Set Up"
      ]
    },
    {
      "cell_type": "markdown",
      "id": "9c914cd1",
      "metadata": {
        "id": "9c914cd1"
      },
      "source": [
        "## Download relevant files"
      ]
    },
    {
      "cell_type": "code",
      "execution_count": 20,
      "id": "04ebe16f",
      "metadata": {
        "colab": {
          "base_uri": "https://localhost:8080/"
        },
        "id": "04ebe16f",
        "outputId": "6a06794d-d075-4ad9-e26d-32499ab7ee17"
      },
      "outputs": [
        {
          "output_type": "stream",
          "name": "stdout",
          "text": [
            "Searching for APIs zip file with version 0.1.4 in folder: 1QpkAZxXhVFzIbm8qPGPRP1YqXEvJ4uD4...\n",
            "Found matching file: APIs_V0.1.4.zip (ID: 1TnAaWGfVrMxWTilyhy46-Aue_bh0XkNk)\n",
            "Downloading APIs zip file with ID: 1TnAaWGfVrMxWTilyhy46-Aue_bh0XkNk...\n",
            "Download progress: 100%\n",
            "Extracting specific items from /content/APIs_V0.1.4.zip to /content...\n",
            "\n",
            "Verifying extracted items:\n",
            "✅ /content/APIs is present.\n",
            "✅ /content/DBs is present.\n",
            "✅ /content/Scripts is present.\n",
            "\n",
            "✅ Setup complete! Required items extracted to /content.\n"
          ]
        }
      ],
      "source": [
        "import io\n",
        "import os\n",
        "import sys\n",
        "import zipfile\n",
        "import shutil\n",
        "import re\n",
        "from google.colab import auth\n",
        "from googleapiclient.discovery import build\n",
        "from googleapiclient.http import MediaIoBaseDownload\n",
        "\n",
        "# Version to download\n",
        "VERSION = \"0.1.4\"  # This will be replaced dynamically\n",
        "\n",
        "# Define paths\n",
        "CONTENT_DIR = '/content'\n",
        "APIS_DIR = os.path.join(CONTENT_DIR, 'APIs')\n",
        "DBS_DIR = os.path.join(CONTENT_DIR, 'DBs')\n",
        "SCRIPTS_DIR = os.path.join(CONTENT_DIR, 'Scripts')\n",
        "FC_DIR = os.path.join(CONTENT_DIR, 'Schemas')\n",
        "ZIP_PATH = os.path.join(CONTENT_DIR, f'APIs_V{VERSION}.zip')\n",
        "\n",
        "# Google Drive Folder ID where versioned APIs zip files are stored\n",
        "APIS_FOLDER_ID = '1QpkAZxXhVFzIbm8qPGPRP1YqXEvJ4uD4'\n",
        "\n",
        "# List of items to extract from the zip file\n",
        "ITEMS_TO_EXTRACT = ['APIs/', 'DBs/', 'Scripts/', 'Schemas/']\n",
        "\n",
        "# Clean up existing directories and files\n",
        "for path in [APIS_DIR, DBS_DIR, SCRIPTS_DIR, FC_DIR, ZIP_PATH]:\n",
        "    if os.path.exists(path):\n",
        "        if os.path.isdir(path):\n",
        "            shutil.rmtree(path)\n",
        "        else:\n",
        "            os.remove(path)\n",
        "\n",
        "# Authenticate and create the drive service\n",
        "auth.authenticate_user()\n",
        "drive_service = build('drive', 'v3')\n",
        "\n",
        "# Helper function to download a file from Google Drive\n",
        "def download_drive_file(service, file_id, output_path, file_name=None, show_progress=True):\n",
        "    \"\"\"Downloads a file from Google Drive\"\"\"\n",
        "    destination = output_path\n",
        "    request = service.files().get_media(fileId=file_id)\n",
        "    with io.FileIO(destination, 'wb') as fh:\n",
        "        downloader = MediaIoBaseDownload(fh, request)\n",
        "        done = False\n",
        "        while not done:\n",
        "            status, done = downloader.next_chunk()\n",
        "            if show_progress:\n",
        "                print(f\"Download progress: {int(status.progress() * 100)}%\")\n",
        "\n",
        "# 1. List files in the specified APIs folder\n",
        "print(f\"Searching for APIs zip file with version {VERSION} in folder: {APIS_FOLDER_ID}...\")\n",
        "apis_file_id = None\n",
        "\n",
        "try:\n",
        "    query = f\"'{APIS_FOLDER_ID}' in parents and trashed=false\"\n",
        "    results = drive_service.files().list(q=query, fields=\"files(id, name)\").execute()\n",
        "    files = results.get('files', [])\n",
        "    for file in files:\n",
        "        file_name = file.get('name', '')\n",
        "        if file_name.lower() == f'apis_v{VERSION.lower()}.zip':\n",
        "            apis_file_id = file.get('id')\n",
        "            print(f\"Found matching file: {file_name} (ID: {apis_file_id})\")\n",
        "            break\n",
        "\n",
        "except Exception as e:\n",
        "    print(f\"An error occurred while listing files in Google Drive: {e}\")\n",
        "\n",
        "if not apis_file_id:\n",
        "    print(f\"Error: Could not find APIs zip file with version {VERSION} in the specified folder.\")\n",
        "    sys.exit(\"Required APIs zip file not found.\")\n",
        "\n",
        "# 2. Download the found APIs zip file\n",
        "print(f\"Downloading APIs zip file with ID: {apis_file_id}...\")\n",
        "download_drive_file(drive_service, apis_file_id, ZIP_PATH, file_name=f'APIs_V{VERSION}.zip')\n",
        "\n",
        "# 3. Extract specific items from the zip file to /content\n",
        "print(f\"Extracting specific items from {ZIP_PATH} to {CONTENT_DIR}...\")\n",
        "try:\n",
        "    with zipfile.ZipFile(ZIP_PATH, 'r') as zip_ref:\n",
        "        zip_contents = zip_ref.namelist()\n",
        "\n",
        "        for member in zip_contents:\n",
        "            extracted = False\n",
        "            for item_prefix in ITEMS_TO_EXTRACT:\n",
        "                if member == item_prefix or member.startswith(item_prefix):\n",
        "                    zip_ref.extract(member, CONTENT_DIR)\n",
        "                    extracted = True\n",
        "                    break\n",
        "\n",
        "except zipfile.BadZipFile:\n",
        "    print(f\"Error: The downloaded file at {ZIP_PATH} is not a valid zip file.\")\n",
        "    sys.exit(\"Invalid zip file downloaded.\")\n",
        "except Exception as e:\n",
        "    print(f\"An error occurred during extraction: {e}\")\n",
        "    sys.exit(\"Extraction failed.\")\n",
        "\n",
        "# 4. Clean up\n",
        "if os.path.exists(ZIP_PATH):\n",
        "    os.remove(ZIP_PATH)\n",
        "\n",
        "# 5. Add APIs to path\n",
        "if os.path.exists(APIS_DIR):\n",
        "    sys.path.append(APIS_DIR)\n",
        "else:\n",
        "    print(f\"Error: APIS directory not found at {APIS_DIR} after extraction. Cannot add to path.\")\n",
        "\n",
        "# 6. Quick verification\n",
        "# Check for the presence of the extracted items\n",
        "verification_paths = [APIS_DIR, DBS_DIR, SCRIPTS_DIR]\n",
        "all_present = True\n",
        "print(\"\\nVerifying extracted items:\")\n",
        "for path in verification_paths:\n",
        "    if os.path.exists(path):\n",
        "        print(f\"✅ {path} is present.\")\n",
        "    else:\n",
        "        print(f\"❌ {path} is MISSING!\")\n",
        "        all_present = False\n",
        "\n",
        "if all_present:\n",
        "    print(f\"\\n✅ Setup complete! Required items extracted to {CONTENT_DIR}.\")\n",
        "else:\n",
        "    print(\"\\n❌ Setup failed! Not all required items were extracted.\")\n",
        "os.chdir(CONTENT_DIR)"
      ]
    },
    {
      "cell_type": "markdown",
      "id": "7cbb288d",
      "metadata": {
        "id": "7cbb288d"
      },
      "source": [
        "## Install Dependencies and Clone Repositories"
      ]
    },
    {
      "cell_type": "code",
      "execution_count": 21,
      "id": "89e94fcb",
      "metadata": {
        "colab": {
          "base_uri": "https://localhost:8080/"
        },
        "id": "89e94fcb",
        "outputId": "712e62f0-5336-4842-ff67-1998c457790e"
      },
      "outputs": [
        {
          "output_type": "stream",
          "name": "stdout",
          "text": [
            "Requirement already satisfied: pytest==8.3.5 in /usr/local/lib/python3.12/dist-packages (from -r /content/APIs/requirements.txt (line 1)) (8.3.5)\n",
            "Requirement already satisfied: bleach==6.2.0 in /usr/local/lib/python3.12/dist-packages (from -r /content/APIs/requirements.txt (line 2)) (6.2.0)\n",
            "Requirement already satisfied: coverage==7.8.0 in /usr/local/lib/python3.12/dist-packages (from -r /content/APIs/requirements.txt (line 3)) (7.8.0)\n",
            "Requirement already satisfied: python-dateutil==2.9.0.post0 in /usr/local/lib/python3.12/dist-packages (from -r /content/APIs/requirements.txt (line 4)) (2.9.0.post0)\n",
            "Requirement already satisfied: pydantic==2.11.4 in /usr/local/lib/python3.12/dist-packages (from pydantic[email]==2.11.4->-r /content/APIs/requirements.txt (line 5)) (2.11.4)\n",
            "Requirement already satisfied: email_validator==2.2.0 in /usr/local/lib/python3.12/dist-packages (from -r /content/APIs/requirements.txt (line 6)) (2.2.0)\n",
            "Requirement already satisfied: thefuzz==0.22.1 in /usr/local/lib/python3.12/dist-packages (from -r /content/APIs/requirements.txt (line 7)) (0.22.1)\n",
            "Requirement already satisfied: python-Levenshtein==0.27.1 in /usr/local/lib/python3.12/dist-packages (from -r /content/APIs/requirements.txt (line 8)) (0.27.1)\n",
            "Requirement already satisfied: google-genai==1.38.0 in /usr/local/lib/python3.12/dist-packages (from -r /content/APIs/requirements.txt (line 9)) (1.38.0)\n",
            "Requirement already satisfied: python-dotenv==1.1.0 in /usr/local/lib/python3.12/dist-packages (from -r /content/APIs/requirements.txt (line 10)) (1.1.0)\n",
            "Requirement already satisfied: json-repair==0.44.1 in /usr/local/lib/python3.12/dist-packages (from -r /content/APIs/requirements.txt (line 11)) (0.44.1)\n",
            "Requirement already satisfied: beautifulsoup4==4.13.4 in /usr/local/lib/python3.12/dist-packages (from -r /content/APIs/requirements.txt (line 12)) (4.13.4)\n",
            "Requirement already satisfied: readability-lxml==0.8.4.1 in /usr/local/lib/python3.12/dist-packages (from -r /content/APIs/requirements.txt (line 13)) (0.8.4.1)\n",
            "Requirement already satisfied: requests==2.32.3 in /usr/local/lib/python3.12/dist-packages (from -r /content/APIs/requirements.txt (line 14)) (2.32.3)\n",
            "Requirement already satisfied: pymongo==4.13.0 in /usr/local/lib/python3.12/dist-packages (from -r /content/APIs/requirements.txt (line 15)) (4.13.0)\n",
            "Requirement already satisfied: mongomock==4.3.0 in /usr/local/lib/python3.12/dist-packages (from -r /content/APIs/requirements.txt (line 16)) (4.3.0)\n",
            "Requirement already satisfied: pymongo-schema==0.4.1 in /usr/local/lib/python3.12/dist-packages (from -r /content/APIs/requirements.txt (line 17)) (0.4.1)\n",
            "Requirement already satisfied: duckdb==1.3.0 in /usr/local/lib/python3.12/dist-packages (from -r /content/APIs/requirements.txt (line 18)) (1.3.0)\n",
            "Requirement already satisfied: sqlglot==26.25.3 in /usr/local/lib/python3.12/dist-packages (from sqlglot[rs]==26.25.3->-r /content/APIs/requirements.txt (line 19)) (26.25.3)\n",
            "Requirement already satisfied: playwright==1.52.0 in /usr/local/lib/python3.12/dist-packages (from -r /content/APIs/requirements.txt (line 20)) (1.52.0)\n",
            "Requirement already satisfied: nest-asyncio==1.6.0 in /usr/local/lib/python3.12/dist-packages (from -r /content/APIs/requirements.txt (line 21)) (1.6.0)\n",
            "Requirement already satisfied: docstring_parser==0.16 in /usr/local/lib/python3.12/dist-packages (from -r /content/APIs/requirements.txt (line 22)) (0.16)\n",
            "Requirement already satisfied: quickjs==1.19.4 in /usr/local/lib/python3.12/dist-packages (from -r /content/APIs/requirements.txt (line 23)) (1.19.4)\n",
            "Requirement already satisfied: mermaid-python==0.1 in /usr/local/lib/python3.12/dist-packages (from -r /content/APIs/requirements.txt (line 24)) (0.1)\n",
            "Requirement already satisfied: tzlocal==5.3.1 in /usr/local/lib/python3.12/dist-packages (from -r /content/APIs/requirements.txt (line 25)) (5.3.1)\n",
            "Requirement already satisfied: qdrant-client==1.14.3 in /usr/local/lib/python3.12/dist-packages (from -r /content/APIs/requirements.txt (line 26)) (1.14.3)\n",
            "Requirement already satisfied: Whoosh==2.7.4 in /usr/local/lib/python3.12/dist-packages (from -r /content/APIs/requirements.txt (line 27)) (2.7.4)\n",
            "Requirement already satisfied: gdown==5.2.0 in /usr/local/lib/python3.12/dist-packages (from -r /content/APIs/requirements.txt (line 28)) (5.2.0)\n",
            "Requirement already satisfied: openpyxl==3.1.2 in /usr/local/lib/python3.12/dist-packages (from -r /content/APIs/requirements.txt (line 29)) (3.1.2)\n",
            "Requirement already satisfied: python-pptx==0.6.21 in /usr/local/lib/python3.12/dist-packages (from -r /content/APIs/requirements.txt (line 30)) (0.6.21)\n",
            "Requirement already satisfied: tqdm==4.66.1 in /usr/local/lib/python3.12/dist-packages (from -r /content/APIs/requirements.txt (line 31)) (4.66.1)\n",
            "Requirement already satisfied: libcst===1.8.2 in /usr/local/lib/python3.12/dist-packages (from -r /content/APIs/requirements.txt (line 32)) (1.8.2)\n",
            "Requirement already satisfied: google-generativeai==0.8.5 in /usr/local/lib/python3.12/dist-packages (from -r /content/APIs/requirements.txt (line 33)) (0.8.5)\n",
            "Requirement already satisfied: PyPDF2==3.0.1 in /usr/local/lib/python3.12/dist-packages (from -r /content/APIs/requirements.txt (line 34)) (3.0.1)\n",
            "Requirement already satisfied: freezegun==1.5.2 in /usr/local/lib/python3.12/dist-packages (from -r /content/APIs/requirements.txt (line 35)) (1.5.2)\n",
            "Requirement already satisfied: tabulate==0.9.0 in /usr/local/lib/python3.12/dist-packages (from -r /content/APIs/requirements.txt (line 36)) (0.9.0)\n",
            "Requirement already satisfied: uvicorn==0.35.0 in /usr/local/lib/python3.12/dist-packages (from -r /content/APIs/requirements.txt (line 37)) (0.35.0)\n",
            "Requirement already satisfied: starlette==0.47.2 in /usr/local/lib/python3.12/dist-packages (from -r /content/APIs/requirements.txt (line 38)) (0.47.2)\n",
            "Requirement already satisfied: psutil==7.0.0 in /usr/local/lib/python3.12/dist-packages (from -r /content/APIs/requirements.txt (line 39)) (7.0.0)\n",
            "Requirement already satisfied: mcp==1.12.4 in /usr/local/lib/python3.12/dist-packages (from -r /content/APIs/requirements.txt (line 40)) (1.12.4)\n",
            "Requirement already satisfied: jsonpath_ng==1.7.0 in /usr/local/lib/python3.12/dist-packages (from -r /content/APIs/requirements.txt (line 41)) (1.7.0)\n",
            "Requirement already satisfied: phonenumbers==9.0.12 in /usr/local/lib/python3.12/dist-packages (from -r /content/APIs/requirements.txt (line 42)) (9.0.12)\n",
            "Requirement already satisfied: langchain==0.3.27 in /usr/local/lib/python3.12/dist-packages (from -r /content/APIs/requirements.txt (line 43)) (0.3.27)\n",
            "Requirement already satisfied: langchain_openai==0.3.30 in /usr/local/lib/python3.12/dist-packages (from -r /content/APIs/requirements.txt (line 44)) (0.3.30)\n",
            "Requirement already satisfied: langchain_anthropic==0.3.19 in /usr/local/lib/python3.12/dist-packages (from -r /content/APIs/requirements.txt (line 45)) (0.3.19)\n",
            "Requirement already satisfied: deepdiff==8.6.0 in /usr/local/lib/python3.12/dist-packages (from -r /content/APIs/requirements.txt (line 46)) (8.6.0)\n",
            "Requirement already satisfied: wcmatch==10.1 in /usr/local/lib/python3.12/dist-packages (from -r /content/APIs/requirements.txt (line 48)) (10.1)\n",
            "Requirement already satisfied: rfc3339_validator==0.1.4 in /usr/local/lib/python3.12/dist-packages (from -r /content/APIs/requirements.txt (line 49)) (0.1.4)\n",
            "Requirement already satisfied: reportlab==4.4.4 in /usr/local/lib/python3.12/dist-packages (from -r /content/APIs/requirements.txt (line 50)) (4.4.4)\n",
            "Requirement already satisfied: iniconfig in /usr/local/lib/python3.12/dist-packages (from pytest==8.3.5->-r /content/APIs/requirements.txt (line 1)) (2.3.0)\n",
            "Requirement already satisfied: packaging in /usr/local/lib/python3.12/dist-packages (from pytest==8.3.5->-r /content/APIs/requirements.txt (line 1)) (25.0)\n",
            "Requirement already satisfied: pluggy<2,>=1.5 in /usr/local/lib/python3.12/dist-packages (from pytest==8.3.5->-r /content/APIs/requirements.txt (line 1)) (1.6.0)\n",
            "Requirement already satisfied: webencodings in /usr/local/lib/python3.12/dist-packages (from bleach==6.2.0->-r /content/APIs/requirements.txt (line 2)) (0.5.1)\n",
            "Requirement already satisfied: six>=1.5 in /usr/local/lib/python3.12/dist-packages (from python-dateutil==2.9.0.post0->-r /content/APIs/requirements.txt (line 4)) (1.17.0)\n",
            "Requirement already satisfied: annotated-types>=0.6.0 in /usr/local/lib/python3.12/dist-packages (from pydantic==2.11.4->pydantic[email]==2.11.4->-r /content/APIs/requirements.txt (line 5)) (0.7.0)\n",
            "Requirement already satisfied: pydantic-core==2.33.2 in /usr/local/lib/python3.12/dist-packages (from pydantic==2.11.4->pydantic[email]==2.11.4->-r /content/APIs/requirements.txt (line 5)) (2.33.2)\n",
            "Requirement already satisfied: typing-extensions>=4.12.2 in /usr/local/lib/python3.12/dist-packages (from pydantic==2.11.4->pydantic[email]==2.11.4->-r /content/APIs/requirements.txt (line 5)) (4.15.0)\n",
            "Requirement already satisfied: typing-inspection>=0.4.0 in /usr/local/lib/python3.12/dist-packages (from pydantic==2.11.4->pydantic[email]==2.11.4->-r /content/APIs/requirements.txt (line 5)) (0.4.2)\n",
            "Requirement already satisfied: dnspython>=2.0.0 in /usr/local/lib/python3.12/dist-packages (from email_validator==2.2.0->-r /content/APIs/requirements.txt (line 6)) (2.8.0)\n",
            "Requirement already satisfied: idna>=2.0.0 in /usr/local/lib/python3.12/dist-packages (from email_validator==2.2.0->-r /content/APIs/requirements.txt (line 6)) (3.11)\n",
            "Requirement already satisfied: rapidfuzz<4.0.0,>=3.0.0 in /usr/local/lib/python3.12/dist-packages (from thefuzz==0.22.1->-r /content/APIs/requirements.txt (line 7)) (3.14.1)\n",
            "Requirement already satisfied: Levenshtein==0.27.1 in /usr/local/lib/python3.12/dist-packages (from python-Levenshtein==0.27.1->-r /content/APIs/requirements.txt (line 8)) (0.27.1)\n",
            "Requirement already satisfied: anyio<5.0.0,>=4.8.0 in /usr/local/lib/python3.12/dist-packages (from google-genai==1.38.0->-r /content/APIs/requirements.txt (line 9)) (4.11.0)\n",
            "Requirement already satisfied: google-auth<3.0.0,>=2.14.1 in /usr/local/lib/python3.12/dist-packages (from google-genai==1.38.0->-r /content/APIs/requirements.txt (line 9)) (2.38.0)\n",
            "Requirement already satisfied: httpx<1.0.0,>=0.28.1 in /usr/local/lib/python3.12/dist-packages (from google-genai==1.38.0->-r /content/APIs/requirements.txt (line 9)) (0.28.1)\n",
            "Requirement already satisfied: tenacity<9.2.0,>=8.2.3 in /usr/local/lib/python3.12/dist-packages (from google-genai==1.38.0->-r /content/APIs/requirements.txt (line 9)) (8.5.0)\n",
            "Requirement already satisfied: websockets<15.1.0,>=13.0.0 in /usr/local/lib/python3.12/dist-packages (from google-genai==1.38.0->-r /content/APIs/requirements.txt (line 9)) (15.0.1)\n",
            "Requirement already satisfied: soupsieve>1.2 in /usr/local/lib/python3.12/dist-packages (from beautifulsoup4==4.13.4->-r /content/APIs/requirements.txt (line 12)) (2.8)\n",
            "Requirement already satisfied: chardet in /usr/local/lib/python3.12/dist-packages (from readability-lxml==0.8.4.1->-r /content/APIs/requirements.txt (line 13)) (5.2.0)\n",
            "Requirement already satisfied: lxml[html_clean] in /usr/local/lib/python3.12/dist-packages (from readability-lxml==0.8.4.1->-r /content/APIs/requirements.txt (line 13)) (5.4.0)\n",
            "Requirement already satisfied: cssselect in /usr/local/lib/python3.12/dist-packages (from readability-lxml==0.8.4.1->-r /content/APIs/requirements.txt (line 13)) (1.3.0)\n",
            "Requirement already satisfied: charset-normalizer<4,>=2 in /usr/local/lib/python3.12/dist-packages (from requests==2.32.3->-r /content/APIs/requirements.txt (line 14)) (3.4.4)\n",
            "Requirement already satisfied: urllib3<3,>=1.21.1 in /usr/local/lib/python3.12/dist-packages (from requests==2.32.3->-r /content/APIs/requirements.txt (line 14)) (2.5.0)\n",
            "Requirement already satisfied: certifi>=2017.4.17 in /usr/local/lib/python3.12/dist-packages (from requests==2.32.3->-r /content/APIs/requirements.txt (line 14)) (2025.10.5)\n",
            "Requirement already satisfied: pytz in /usr/local/lib/python3.12/dist-packages (from mongomock==4.3.0->-r /content/APIs/requirements.txt (line 16)) (2025.2)\n",
            "Requirement already satisfied: sentinels in /usr/local/lib/python3.12/dist-packages (from mongomock==4.3.0->-r /content/APIs/requirements.txt (line 16)) (1.1.1)\n",
            "Requirement already satisfied: pyyaml in /usr/local/lib/python3.12/dist-packages (from pymongo-schema==0.4.1->-r /content/APIs/requirements.txt (line 17)) (6.0.3)\n",
            "Requirement already satisfied: docopt in /usr/local/lib/python3.12/dist-packages (from pymongo-schema==0.4.1->-r /content/APIs/requirements.txt (line 17)) (0.6.2)\n",
            "Requirement already satisfied: ete3 in /usr/local/lib/python3.12/dist-packages (from pymongo-schema==0.4.1->-r /content/APIs/requirements.txt (line 17)) (3.1.3)\n",
            "Requirement already satisfied: pandas in /usr/local/lib/python3.12/dist-packages (from pymongo-schema==0.4.1->-r /content/APIs/requirements.txt (line 17)) (2.2.2)\n",
            "Requirement already satisfied: xlwt in /usr/local/lib/python3.12/dist-packages (from pymongo-schema==0.4.1->-r /content/APIs/requirements.txt (line 17)) (1.3.0)\n",
            "Requirement already satisfied: xlsxwriter in /usr/local/lib/python3.12/dist-packages (from pymongo-schema==0.4.1->-r /content/APIs/requirements.txt (line 17)) (3.2.9)\n",
            "Requirement already satisfied: jinja2 in /usr/local/lib/python3.12/dist-packages (from pymongo-schema==0.4.1->-r /content/APIs/requirements.txt (line 17)) (3.1.6)\n",
            "Requirement already satisfied: future>=0.18.0 in /usr/local/lib/python3.12/dist-packages (from pymongo-schema==0.4.1->-r /content/APIs/requirements.txt (line 17)) (1.0.0)\n",
            "Requirement already satisfied: scipy in /usr/local/lib/python3.12/dist-packages (from pymongo-schema==0.4.1->-r /content/APIs/requirements.txt (line 17)) (1.16.2)\n",
            "Requirement already satisfied: pyee<14,>=13 in /usr/local/lib/python3.12/dist-packages (from playwright==1.52.0->-r /content/APIs/requirements.txt (line 20)) (13.0.0)\n",
            "Requirement already satisfied: greenlet<4.0.0,>=3.1.1 in /usr/local/lib/python3.12/dist-packages (from playwright==1.52.0->-r /content/APIs/requirements.txt (line 20)) (3.2.4)\n",
            "Requirement already satisfied: ipython in /usr/local/lib/python3.12/dist-packages (from mermaid-python==0.1->-r /content/APIs/requirements.txt (line 24)) (7.34.0)\n",
            "Requirement already satisfied: grpcio>=1.41.0 in /usr/local/lib/python3.12/dist-packages (from qdrant-client==1.14.3->-r /content/APIs/requirements.txt (line 26)) (1.76.0)\n",
            "Requirement already satisfied: numpy>=1.26 in /usr/local/lib/python3.12/dist-packages (from qdrant-client==1.14.3->-r /content/APIs/requirements.txt (line 26)) (2.0.2)\n",
            "Requirement already satisfied: portalocker<3.0.0,>=2.7.0 in /usr/local/lib/python3.12/dist-packages (from qdrant-client==1.14.3->-r /content/APIs/requirements.txt (line 26)) (2.10.1)\n",
            "Requirement already satisfied: protobuf>=3.20.0 in /usr/local/lib/python3.12/dist-packages (from qdrant-client==1.14.3->-r /content/APIs/requirements.txt (line 26)) (5.29.5)\n",
            "Requirement already satisfied: filelock in /usr/local/lib/python3.12/dist-packages (from gdown==5.2.0->-r /content/APIs/requirements.txt (line 28)) (3.20.0)\n",
            "Requirement already satisfied: et-xmlfile in /usr/local/lib/python3.12/dist-packages (from openpyxl==3.1.2->-r /content/APIs/requirements.txt (line 29)) (2.0.0)\n",
            "Requirement already satisfied: Pillow>=3.3.2 in /usr/local/lib/python3.12/dist-packages (from python-pptx==0.6.21->-r /content/APIs/requirements.txt (line 30)) (11.3.0)\n",
            "Requirement already satisfied: google-ai-generativelanguage==0.6.15 in /usr/local/lib/python3.12/dist-packages (from google-generativeai==0.8.5->-r /content/APIs/requirements.txt (line 33)) (0.6.15)\n",
            "Requirement already satisfied: google-api-core in /usr/local/lib/python3.12/dist-packages (from google-generativeai==0.8.5->-r /content/APIs/requirements.txt (line 33)) (2.27.0)\n",
            "Requirement already satisfied: google-api-python-client in /usr/local/lib/python3.12/dist-packages (from google-generativeai==0.8.5->-r /content/APIs/requirements.txt (line 33)) (2.185.0)\n",
            "Requirement already satisfied: click>=7.0 in /usr/local/lib/python3.12/dist-packages (from uvicorn==0.35.0->-r /content/APIs/requirements.txt (line 37)) (8.3.0)\n",
            "Requirement already satisfied: h11>=0.8 in /usr/local/lib/python3.12/dist-packages (from uvicorn==0.35.0->-r /content/APIs/requirements.txt (line 37)) (0.16.0)\n",
            "Requirement already satisfied: httpx-sse>=0.4 in /usr/local/lib/python3.12/dist-packages (from mcp==1.12.4->-r /content/APIs/requirements.txt (line 40)) (0.4.3)\n",
            "Requirement already satisfied: jsonschema>=4.20.0 in /usr/local/lib/python3.12/dist-packages (from mcp==1.12.4->-r /content/APIs/requirements.txt (line 40)) (4.25.1)\n",
            "Requirement already satisfied: pydantic-settings>=2.5.2 in /usr/local/lib/python3.12/dist-packages (from mcp==1.12.4->-r /content/APIs/requirements.txt (line 40)) (2.11.0)\n",
            "Requirement already satisfied: python-multipart>=0.0.9 in /usr/local/lib/python3.12/dist-packages (from mcp==1.12.4->-r /content/APIs/requirements.txt (line 40)) (0.0.20)\n",
            "Requirement already satisfied: sse-starlette>=1.6.1 in /usr/local/lib/python3.12/dist-packages (from mcp==1.12.4->-r /content/APIs/requirements.txt (line 40)) (3.0.2)\n",
            "Requirement already satisfied: ply in /usr/local/lib/python3.12/dist-packages (from jsonpath_ng==1.7.0->-r /content/APIs/requirements.txt (line 41)) (3.11)\n",
            "Requirement already satisfied: langchain-core<1.0.0,>=0.3.72 in /usr/local/lib/python3.12/dist-packages (from langchain==0.3.27->-r /content/APIs/requirements.txt (line 43)) (0.3.79)\n",
            "Requirement already satisfied: langchain-text-splitters<1.0.0,>=0.3.9 in /usr/local/lib/python3.12/dist-packages (from langchain==0.3.27->-r /content/APIs/requirements.txt (line 43)) (0.3.11)\n",
            "Requirement already satisfied: langsmith>=0.1.17 in /usr/local/lib/python3.12/dist-packages (from langchain==0.3.27->-r /content/APIs/requirements.txt (line 43)) (0.4.38)\n",
            "Requirement already satisfied: SQLAlchemy<3,>=1.4 in /usr/local/lib/python3.12/dist-packages (from langchain==0.3.27->-r /content/APIs/requirements.txt (line 43)) (2.0.44)\n",
            "Requirement already satisfied: openai<2.0.0,>=1.99.9 in /usr/local/lib/python3.12/dist-packages (from langchain_openai==0.3.30->-r /content/APIs/requirements.txt (line 44)) (1.109.1)\n",
            "Requirement already satisfied: tiktoken<1,>=0.7 in /usr/local/lib/python3.12/dist-packages (from langchain_openai==0.3.30->-r /content/APIs/requirements.txt (line 44)) (0.12.0)\n",
            "Requirement already satisfied: anthropic<1,>=0.64.0 in /usr/local/lib/python3.12/dist-packages (from langchain_anthropic==0.3.19->-r /content/APIs/requirements.txt (line 45)) (0.72.0)\n",
            "Requirement already satisfied: orderly-set<6,>=5.4.1 in /usr/local/lib/python3.12/dist-packages (from deepdiff==8.6.0->-r /content/APIs/requirements.txt (line 46)) (5.5.0)\n",
            "Requirement already satisfied: bracex>=2.1.1 in /usr/local/lib/python3.12/dist-packages (from wcmatch==10.1->-r /content/APIs/requirements.txt (line 48)) (2.6)\n",
            "Requirement already satisfied: sqlglotrs==0.6.1 in /usr/local/lib/python3.12/dist-packages (from sqlglot[rs]==26.25.3->-r /content/APIs/requirements.txt (line 19)) (0.6.1)\n",
            "Requirement already satisfied: proto-plus<2.0.0dev,>=1.22.3 in /usr/local/lib/python3.12/dist-packages (from google-ai-generativelanguage==0.6.15->google-generativeai==0.8.5->-r /content/APIs/requirements.txt (line 33)) (1.26.1)\n",
            "Requirement already satisfied: distro<2,>=1.7.0 in /usr/local/lib/python3.12/dist-packages (from anthropic<1,>=0.64.0->langchain_anthropic==0.3.19->-r /content/APIs/requirements.txt (line 45)) (1.9.0)\n",
            "Requirement already satisfied: jiter<1,>=0.4.0 in /usr/local/lib/python3.12/dist-packages (from anthropic<1,>=0.64.0->langchain_anthropic==0.3.19->-r /content/APIs/requirements.txt (line 45)) (0.11.1)\n",
            "Requirement already satisfied: sniffio in /usr/local/lib/python3.12/dist-packages (from anthropic<1,>=0.64.0->langchain_anthropic==0.3.19->-r /content/APIs/requirements.txt (line 45)) (1.3.1)\n",
            "Requirement already satisfied: googleapis-common-protos<2.0.0,>=1.56.2 in /usr/local/lib/python3.12/dist-packages (from google-api-core->google-generativeai==0.8.5->-r /content/APIs/requirements.txt (line 33)) (1.71.0)\n",
            "Requirement already satisfied: cachetools<6.0,>=2.0.0 in /usr/local/lib/python3.12/dist-packages (from google-auth<3.0.0,>=2.14.1->google-genai==1.38.0->-r /content/APIs/requirements.txt (line 9)) (5.5.2)\n",
            "Requirement already satisfied: pyasn1-modules>=0.2.1 in /usr/local/lib/python3.12/dist-packages (from google-auth<3.0.0,>=2.14.1->google-genai==1.38.0->-r /content/APIs/requirements.txt (line 9)) (0.4.2)\n",
            "Requirement already satisfied: rsa<5,>=3.1.4 in /usr/local/lib/python3.12/dist-packages (from google-auth<3.0.0,>=2.14.1->google-genai==1.38.0->-r /content/APIs/requirements.txt (line 9)) (4.9.1)\n",
            "Requirement already satisfied: httpcore==1.* in /usr/local/lib/python3.12/dist-packages (from httpx<1.0.0,>=0.28.1->google-genai==1.38.0->-r /content/APIs/requirements.txt (line 9)) (1.0.9)\n",
            "Requirement already satisfied: h2<5,>=3 in /usr/local/lib/python3.12/dist-packages (from httpx[http2]>=0.20.0->qdrant-client==1.14.3->-r /content/APIs/requirements.txt (line 26)) (4.3.0)\n",
            "Requirement already satisfied: attrs>=22.2.0 in /usr/local/lib/python3.12/dist-packages (from jsonschema>=4.20.0->mcp==1.12.4->-r /content/APIs/requirements.txt (line 40)) (25.4.0)\n",
            "Requirement already satisfied: jsonschema-specifications>=2023.03.6 in /usr/local/lib/python3.12/dist-packages (from jsonschema>=4.20.0->mcp==1.12.4->-r /content/APIs/requirements.txt (line 40)) (2025.9.1)\n",
            "Requirement already satisfied: referencing>=0.28.4 in /usr/local/lib/python3.12/dist-packages (from jsonschema>=4.20.0->mcp==1.12.4->-r /content/APIs/requirements.txt (line 40)) (0.37.0)\n",
            "Requirement already satisfied: rpds-py>=0.7.1 in /usr/local/lib/python3.12/dist-packages (from jsonschema>=4.20.0->mcp==1.12.4->-r /content/APIs/requirements.txt (line 40)) (0.28.0)\n",
            "Requirement already satisfied: jsonpatch<2.0.0,>=1.33.0 in /usr/local/lib/python3.12/dist-packages (from langchain-core<1.0.0,>=0.3.72->langchain==0.3.27->-r /content/APIs/requirements.txt (line 43)) (1.33)\n",
            "Requirement already satisfied: orjson>=3.9.14 in /usr/local/lib/python3.12/dist-packages (from langsmith>=0.1.17->langchain==0.3.27->-r /content/APIs/requirements.txt (line 43)) (3.11.4)\n",
            "Requirement already satisfied: requests-toolbelt>=1.0.0 in /usr/local/lib/python3.12/dist-packages (from langsmith>=0.1.17->langchain==0.3.27->-r /content/APIs/requirements.txt (line 43)) (1.0.0)\n",
            "Requirement already satisfied: zstandard>=0.23.0 in /usr/local/lib/python3.12/dist-packages (from langsmith>=0.1.17->langchain==0.3.27->-r /content/APIs/requirements.txt (line 43)) (0.25.0)\n",
            "Requirement already satisfied: regex>=2022.1.18 in /usr/local/lib/python3.12/dist-packages (from tiktoken<1,>=0.7->langchain_openai==0.3.30->-r /content/APIs/requirements.txt (line 44)) (2024.11.6)\n",
            "Requirement already satisfied: httplib2<1.0.0,>=0.19.0 in /usr/local/lib/python3.12/dist-packages (from google-api-python-client->google-generativeai==0.8.5->-r /content/APIs/requirements.txt (line 33)) (0.31.0)\n",
            "Requirement already satisfied: google-auth-httplib2<1.0.0,>=0.2.0 in /usr/local/lib/python3.12/dist-packages (from google-api-python-client->google-generativeai==0.8.5->-r /content/APIs/requirements.txt (line 33)) (0.2.0)\n",
            "Requirement already satisfied: uritemplate<5,>=3.0.1 in /usr/local/lib/python3.12/dist-packages (from google-api-python-client->google-generativeai==0.8.5->-r /content/APIs/requirements.txt (line 33)) (4.2.0)\n",
            "Requirement already satisfied: setuptools>=18.5 in /usr/local/lib/python3.12/dist-packages (from ipython->mermaid-python==0.1->-r /content/APIs/requirements.txt (line 24)) (75.2.0)\n",
            "Requirement already satisfied: jedi>=0.16 in /usr/local/lib/python3.12/dist-packages (from ipython->mermaid-python==0.1->-r /content/APIs/requirements.txt (line 24)) (0.19.2)\n",
            "Requirement already satisfied: decorator in /usr/local/lib/python3.12/dist-packages (from ipython->mermaid-python==0.1->-r /content/APIs/requirements.txt (line 24)) (4.4.2)\n",
            "Requirement already satisfied: pickleshare in /usr/local/lib/python3.12/dist-packages (from ipython->mermaid-python==0.1->-r /content/APIs/requirements.txt (line 24)) (0.7.5)\n",
            "Requirement already satisfied: traitlets>=4.2 in /usr/local/lib/python3.12/dist-packages (from ipython->mermaid-python==0.1->-r /content/APIs/requirements.txt (line 24)) (5.7.1)\n",
            "Requirement already satisfied: prompt-toolkit!=3.0.0,!=3.0.1,<3.1.0,>=2.0.0 in /usr/local/lib/python3.12/dist-packages (from ipython->mermaid-python==0.1->-r /content/APIs/requirements.txt (line 24)) (3.0.52)\n",
            "Requirement already satisfied: pygments in /usr/local/lib/python3.12/dist-packages (from ipython->mermaid-python==0.1->-r /content/APIs/requirements.txt (line 24)) (2.19.2)\n",
            "Requirement already satisfied: backcall in /usr/local/lib/python3.12/dist-packages (from ipython->mermaid-python==0.1->-r /content/APIs/requirements.txt (line 24)) (0.2.0)\n",
            "Requirement already satisfied: matplotlib-inline in /usr/local/lib/python3.12/dist-packages (from ipython->mermaid-python==0.1->-r /content/APIs/requirements.txt (line 24)) (0.2.1)\n",
            "Requirement already satisfied: pexpect>4.3 in /usr/local/lib/python3.12/dist-packages (from ipython->mermaid-python==0.1->-r /content/APIs/requirements.txt (line 24)) (4.9.0)\n",
            "Requirement already satisfied: MarkupSafe>=2.0 in /usr/local/lib/python3.12/dist-packages (from jinja2->pymongo-schema==0.4.1->-r /content/APIs/requirements.txt (line 17)) (3.0.3)\n",
            "Requirement already satisfied: lxml_html_clean in /usr/local/lib/python3.12/dist-packages (from lxml[html_clean]->readability-lxml==0.8.4.1->-r /content/APIs/requirements.txt (line 13)) (0.4.3)\n",
            "Requirement already satisfied: tzdata>=2022.7 in /usr/local/lib/python3.12/dist-packages (from pandas->pymongo-schema==0.4.1->-r /content/APIs/requirements.txt (line 17)) (2025.2)\n",
            "Requirement already satisfied: PySocks!=1.5.7,>=1.5.6 in /usr/local/lib/python3.12/dist-packages (from requests[socks]->gdown==5.2.0->-r /content/APIs/requirements.txt (line 28)) (1.7.1)\n",
            "Requirement already satisfied: grpcio-status<2.0.0,>=1.33.2 in /usr/local/lib/python3.12/dist-packages (from google-api-core[grpc]!=2.0.*,!=2.1.*,!=2.10.*,!=2.2.*,!=2.3.*,!=2.4.*,!=2.5.*,!=2.6.*,!=2.7.*,!=2.8.*,!=2.9.*,<3.0.0dev,>=1.34.1->google-ai-generativelanguage==0.6.15->google-generativeai==0.8.5->-r /content/APIs/requirements.txt (line 33)) (1.71.2)\n",
            "Requirement already satisfied: hyperframe<7,>=6.1 in /usr/local/lib/python3.12/dist-packages (from h2<5,>=3->httpx[http2]>=0.20.0->qdrant-client==1.14.3->-r /content/APIs/requirements.txt (line 26)) (6.1.0)\n",
            "Requirement already satisfied: hpack<5,>=4.1 in /usr/local/lib/python3.12/dist-packages (from h2<5,>=3->httpx[http2]>=0.20.0->qdrant-client==1.14.3->-r /content/APIs/requirements.txt (line 26)) (4.1.0)\n",
            "Requirement already satisfied: pyparsing<4,>=3.0.4 in /usr/local/lib/python3.12/dist-packages (from httplib2<1.0.0,>=0.19.0->google-api-python-client->google-generativeai==0.8.5->-r /content/APIs/requirements.txt (line 33)) (3.2.5)\n",
            "Requirement already satisfied: parso<0.9.0,>=0.8.4 in /usr/local/lib/python3.12/dist-packages (from jedi>=0.16->ipython->mermaid-python==0.1->-r /content/APIs/requirements.txt (line 24)) (0.8.5)\n",
            "Requirement already satisfied: jsonpointer>=1.9 in /usr/local/lib/python3.12/dist-packages (from jsonpatch<2.0.0,>=1.33.0->langchain-core<1.0.0,>=0.3.72->langchain==0.3.27->-r /content/APIs/requirements.txt (line 43)) (3.0.0)\n",
            "Requirement already satisfied: ptyprocess>=0.5 in /usr/local/lib/python3.12/dist-packages (from pexpect>4.3->ipython->mermaid-python==0.1->-r /content/APIs/requirements.txt (line 24)) (0.7.0)\n",
            "Requirement already satisfied: wcwidth in /usr/local/lib/python3.12/dist-packages (from prompt-toolkit!=3.0.0,!=3.0.1,<3.1.0,>=2.0.0->ipython->mermaid-python==0.1->-r /content/APIs/requirements.txt (line 24)) (0.2.14)\n",
            "Requirement already satisfied: pyasn1<0.7.0,>=0.6.1 in /usr/local/lib/python3.12/dist-packages (from pyasn1-modules>=0.2.1->google-auth<3.0.0,>=2.14.1->google-genai==1.38.0->-r /content/APIs/requirements.txt (line 9)) (0.6.1)\n"
          ]
        }
      ],
      "source": [
        "!pip install -r /content/APIs/requirements.txt"
      ]
    },
    {
      "cell_type": "markdown",
      "id": "e83f6d45",
      "metadata": {
        "id": "e83f6d45"
      },
      "source": [
        "## Import APIs and initiate DBs"
      ]
    },
    {
      "cell_type": "code",
      "execution_count": 22,
      "id": "63f2ae24",
      "metadata": {
        "id": "63f2ae24"
      },
      "outputs": [],
      "source": [
        "# proto_ignore\n",
        "import random\n",
        "import sys\n",
        "import uuid\n",
        "\n",
        "def patch_uuid4_deterministic(seed=42):\n",
        "    rng = random.Random(seed)\n",
        "\n",
        "    def deterministic_uuid4():\n",
        "        return uuid.UUID(int=rng.getrandbits(128))\n",
        "\n",
        "    sys.modules['uuid'].uuid4 = deterministic_uuid4\n",
        "\n",
        "patch_uuid4_deterministic()"
      ]
    },
    {
      "cell_type": "code",
      "execution_count": 23,
      "id": "c41dd3eb",
      "metadata": {
        "id": "c41dd3eb"
      },
      "outputs": [],
      "source": [
        "import confluence\n",
        "\n",
        "confluence.SimulationEngine.db.load_state(\"/content/DBs/ConfluenceDefaultDB.json\")\n",
        "\n",
        "# Initialize Global variables\n",
        "space = \"BLOG\"\n",
        "post_1=\"Annual Tech Summit Recap\"\n",
        "post_2=\"Q3 Marketing Goals\"\n",
        "\n",
        "# Create two blog posts in the same blog space\n",
        "\n",
        "# Post 1: Annual Tech Summit Recap\n",
        "tech_summit_post = confluence.create_content({\n",
        "    \"type\": \"blogpost\",\n",
        "    \"spaceKey\": space,\n",
        "    \"title\": post_1,\n",
        "    \"body\": {\n",
        "        \"storage\": {\n",
        "            \"value\": \"The Annual Tech Summit featured discussions on AI, quantum computing, and next-gen networking. Keynote sessions highlighted industry shifts and future strategies.\",\n",
        "            \"representation\": \"storage\"\n",
        "        }\n",
        "    }\n",
        "})\n",
        "\n",
        "# Post 2: Q3 Marketing Goals\n",
        "q3_goals_post = confluence.create_content({\n",
        "    \"type\": \"blogpost\",\n",
        "    \"spaceKey\": space,\n",
        "    \"title\": post_2,\n",
        "    \"body\": {\n",
        "        \"storage\": {\n",
        "            \"value\": \"Our Q3 marketing goals include expanding outreach in Europe, boosting engagement through webinars, and launching a new social media campaign for product awareness.\",\n",
        "            \"representation\": \"storage\"\n",
        "        }\n",
        "    }\n",
        "})\n",
        "\n",
        "confluence.delete_content(tech_summit_post[\"id\"])\n",
        "confluence.delete_content(q3_goals_post[\"id\"])"
      ]
    },
    {
      "cell_type": "markdown",
      "id": "0888b530",
      "metadata": {
        "id": "0888b530"
      },
      "source": [
        "# Initial Assertion\n",
        "\n",
        "1. Assert that \"BLOG\" space exists.\n",
        "2. Assert that there are exactly 2 blog posts in the \"BLOG\" space.\n",
        "3. Assert that blog posts, \"Annual Tech Summit Recap\"  and \"Q3 Marketing Goals\" have the status \"trashed\"."
      ]
    },
    {
      "cell_type": "code",
      "source": [
        "from Scripts.assertions_utils import *\n",
        "import confluence\n",
        "\n",
        "# --- Constants ---\n",
        "space = \"BLOG\"\n",
        "post_1 = \"Annual Tech Summit Recap\"\n",
        "post_2 = \"Q3 Marketing Goals\"\n",
        "\n",
        "# --- Assertion 1: Assert that the Confluence space \"BLOG\" exists ---\n",
        "api_error_1 = None\n",
        "all_spaces = []\n",
        "\n",
        "try:\n",
        "    all_spaces = confluence.get_spaces()\n",
        "except Exception as e:\n",
        "    api_error_1 = str(e)\n",
        "\n",
        "# Use compare_is_list_subset utility for membership check\n",
        "assert_condition_1 = (\n",
        "    api_error_1 is None and\n",
        "    compare_is_list_subset(space, [s.get(\"spaceKey\") for s in all_spaces])\n",
        ")\n",
        "assert_message_1 = (\n",
        "    f\"Assertion 1 Failed: Error occurred while fetching spaces: {api_error_1}\"\n",
        "    if api_error_1 else\n",
        "    f\"Assertion 1 Failed: Expected a Confluence space with key '{space}', but none was found.\"\n",
        ")\n",
        "assert assert_condition_1, assert_message_1\n",
        "\n",
        "\n",
        "# --- Assertion 2: Assert that there are exactly 2 blog posts in the \"BLOG\" space ---\n",
        "api_error_2 = None\n",
        "blog_posts = []\n",
        "\n",
        "try:\n",
        "    blog_space = confluence.get_content_list(spaceKey=space, status=\"any\")\n",
        "    blog_posts = [\n",
        "        post for post in blog_space\n",
        "        if compare_strings(post.get(\"type\"), \"blogpost\")\n",
        "    ]\n",
        "except Exception as e:\n",
        "    api_error_2 = str(e)\n",
        "\n",
        "assert_condition_2 = api_error_2 is None and len(blog_posts) >= 2\n",
        "# Updated message: more accurate reflection of count expectation\n",
        "assert_message_2 = (\n",
        "    f\"Assertion 2 Failed: Error occurred while fetching content for space '{space}': {api_error_2}\"\n",
        "    if api_error_2 else\n",
        "    f\"Assertion 2 Failed: Expected at least 2 blog posts in the '{space}' space, but found {len(blog_posts)}.\"\n",
        ")\n",
        "assert assert_condition_2, assert_message_2\n",
        "\n",
        "\n",
        "# --- Assertion 3: Assert that both specified blog posts are present in the \"trashed\" state in the space ---\n",
        "api_error_3 = None\n",
        "trashed_titles = set()\n",
        "\n",
        "try:\n",
        "    trashed_blogposts = confluence.get_content_list(spaceKey=space, status=\"trashed\")\n",
        "    trashed_blogposts = [\n",
        "        post for post in trashed_blogposts\n",
        "        if compare_strings(post.get(\"type\"), \"blogpost\")\n",
        "    ]\n",
        "    trashed_titles = {post.get(\"title\") for post in trashed_blogposts}\n",
        "except Exception as e:\n",
        "    api_error_3 = str(e)\n",
        "\n",
        "assert_condition_3 = (\n",
        "    api_error_3 is None and\n",
        "    compare_is_list_subset([post_1, post_2], list(trashed_titles), list_comparison_function=\"all\")\n",
        ")\n",
        "assert_message_3 = (\n",
        "    f\"Assertion 3 Failed: Error occurred while fetching trashed blog posts: {api_error_3}\"\n",
        "    if api_error_3 else\n",
        "    f\"Assertion 3 Failed: Expected both '{post_1}' and '{post_2}' to be present in the trashed state in space '{space}', \"\n",
        "    f\"but one or both were missing.\"\n",
        ")\n",
        "assert assert_condition_3, assert_message_3\n"
      ],
      "metadata": {
        "id": "8G9bPunBiGVD"
      },
      "id": "8G9bPunBiGVD",
      "execution_count": 24,
      "outputs": []
    },
    {
      "cell_type": "markdown",
      "id": "7a0ecfea",
      "metadata": {
        "id": "7a0ecfea"
      },
      "source": [
        "# Action"
      ]
    },
    {
      "cell_type": "code",
      "execution_count": 25,
      "id": "17fc695a",
      "metadata": {
        "id": "17fc695a"
      },
      "outputs": [],
      "source": [
        "# proto_ignore\n",
        "import confluence"
      ]
    },
    {
      "cell_type": "markdown",
      "id": "972a8469",
      "metadata": {
        "id": "972a8469"
      },
      "source": [
        "**Simulated User**: Can you restore some blog posts for me?\n",
        "\n",
        "**Action Agent**: Of course. I can help with that. Do you have the titles of the blog posts you would like to restore?\n",
        "\n",
        "**Simulated User**: \"Annual Tech Summit Recap\"  and \"Q3 Marketing Goals\"."
      ]
    },
    {
      "cell_type": "code",
      "execution_count": 26,
      "id": "c8aHluVdzObO",
      "metadata": {
        "colab": {
          "base_uri": "https://localhost:8080/"
        },
        "id": "c8aHluVdzObO",
        "outputId": "d0e05a45-bc6c-4a6b-bd46-d62b5e529df7"
      },
      "outputs": [
        {
          "output_type": "execute_result",
          "data": {
            "text/plain": [
              "[{'spaceKey': 'DOC',\n",
              "  'name': 'Documentation Space',\n",
              "  'description': 'All official documentation'},\n",
              " {'spaceKey': 'BLOG',\n",
              "  'name': 'Blog Space',\n",
              "  'description': 'ECorporate blog posts'},\n",
              " {'spaceKey': 'MARKETING',\n",
              "  'name': 'Marketing',\n",
              "  'description': 'Marketing strategies and campaigns'}]"
            ]
          },
          "metadata": {},
          "execution_count": 26
        }
      ],
      "source": [
        "confluence.get_spaces()"
      ]
    },
    {
      "cell_type": "code",
      "execution_count": 27,
      "id": "s9bi3pAppS_M",
      "metadata": {
        "colab": {
          "base_uri": "https://localhost:8080/"
        },
        "id": "s9bi3pAppS_M",
        "outputId": "748706d4-b625-4546-e23d-3b33f43a2fe2"
      },
      "outputs": [
        {
          "output_type": "execute_result",
          "data": {
            "text/plain": [
              "[{'id': '4',\n",
              "  'type': 'blogpost',\n",
              "  'spaceKey': 'BLOG',\n",
              "  'title': 'Weekly Update',\n",
              "  'status': 'trashed',\n",
              "  'body': {'storage': '<p>This post is trashed.</p>'},\n",
              "  'postingDay': '2024-01-10'},\n",
              " {'id': '6',\n",
              "  'type': 'blogpost',\n",
              "  'spaceKey': 'BLOG',\n",
              "  'title': 'Annual Tech Summit Recap',\n",
              "  'status': 'trashed',\n",
              "  'body': {'storage': {'value': 'The Annual Tech Summit featured discussions on AI, quantum computing, and next-gen networking. Keynote sessions highlighted industry shifts and future strategies.',\n",
              "    'representation': 'storage'}},\n",
              "  'postingDay': None,\n",
              "  'link': '/content/6'},\n",
              " {'id': '7',\n",
              "  'type': 'blogpost',\n",
              "  'spaceKey': 'BLOG',\n",
              "  'title': 'Q3 Marketing Goals',\n",
              "  'status': 'trashed',\n",
              "  'body': {'storage': {'value': 'Our Q3 marketing goals include expanding outreach in Europe, boosting engagement through webinars, and launching a new social media campaign for product awareness.',\n",
              "    'representation': 'storage'}},\n",
              "  'postingDay': None,\n",
              "  'link': '/content/7'}]"
            ]
          },
          "metadata": {},
          "execution_count": 27
        }
      ],
      "source": [
        "confluence.get_content_list(spaceKey=\"BLOG\", status=\"trashed\")"
      ]
    },
    {
      "cell_type": "code",
      "execution_count": 28,
      "id": "bd9c66b3",
      "metadata": {
        "colab": {
          "base_uri": "https://localhost:8080/"
        },
        "id": "bd9c66b3",
        "outputId": "2bd53bce-cd17-4b4f-c964-634d9890e2ab"
      },
      "outputs": [
        {
          "output_type": "execute_result",
          "data": {
            "text/plain": [
              "{'id': '6',\n",
              " 'type': 'blogpost',\n",
              " 'spaceKey': 'BLOG',\n",
              " 'title': 'Annual Tech Summit Recap',\n",
              " 'status': 'current',\n",
              " 'body': {'storage': {'value': 'The Annual Tech Summit featured discussions on AI, quantum computing, and next-gen networking. Keynote sessions highlighted industry shifts and future strategies.',\n",
              "   'representation': 'storage'}},\n",
              " 'postingDay': None,\n",
              " 'link': '/content/6',\n",
              " 'version': {'number': 1, 'minorEdit': False}}"
            ]
          },
          "metadata": {},
          "execution_count": 28
        }
      ],
      "source": [
        "confluence.update_content(id='6', body={'status': 'current'})"
      ]
    },
    {
      "cell_type": "code",
      "execution_count": 29,
      "id": "23b8c1e9",
      "metadata": {
        "colab": {
          "base_uri": "https://localhost:8080/"
        },
        "id": "23b8c1e9",
        "outputId": "094b9e7f-10d6-4780-ec97-20bf213970f0"
      },
      "outputs": [
        {
          "output_type": "execute_result",
          "data": {
            "text/plain": [
              "{'id': '7',\n",
              " 'type': 'blogpost',\n",
              " 'spaceKey': 'BLOG',\n",
              " 'title': 'Q3 Marketing Goals',\n",
              " 'status': 'current',\n",
              " 'body': {'storage': {'value': 'Our Q3 marketing goals include expanding outreach in Europe, boosting engagement through webinars, and launching a new social media campaign for product awareness.',\n",
              "   'representation': 'storage'}},\n",
              " 'postingDay': None,\n",
              " 'link': '/content/7',\n",
              " 'version': {'number': 1, 'minorEdit': False}}"
            ]
          },
          "metadata": {},
          "execution_count": 29
        }
      ],
      "source": [
        "confluence.update_content(id='7', body={'status': 'current'})"
      ]
    },
    {
      "cell_type": "markdown",
      "id": "bdd640fb",
      "metadata": {
        "id": "bdd640fb"
      },
      "source": [
        "**Action Agent**: I have restored the blog posts titled \"Annual Tech Summit Recap\" and \"Q3 Marketing Goals\"."
      ]
    },
    {
      "cell_type": "markdown",
      "id": "66059c58",
      "metadata": {
        "id": "66059c58"
      },
      "source": [
        "# Final Assertion\n",
        "\n",
        "1. Assert that the posts \"Annual Tech Summit Recap\" and \"Q3 Marketing Goals\" in the \"BLOG\" space do not have the status \"trashed\"."
      ]
    },
    {
      "cell_type": "code",
      "source": [
        "from Scripts.assertions_utils import *\n",
        "import confluence\n",
        "\n",
        "# --- Constants ---\n",
        "space = \"BLOG\"\n",
        "post_1 = \"Annual Tech Summit Recap\"\n",
        "post_2 = \"Q3 Marketing Goals\"\n",
        "\n",
        "# --- Assertion 1: Assert that both posts are restored and appear in the current state in the \"BLOG\" space ---\n",
        "api_error_2 = None\n",
        "current_titles = set()\n",
        "\n",
        "try:\n",
        "    # Fetch all current (active) blog posts from the \"BLOG\" space\n",
        "    current_blogposts = confluence.get_content_list(spaceKey=space, status=\"current\")\n",
        "    current_blogposts = [\n",
        "        post for post in current_blogposts\n",
        "        if compare_strings(post.get(\"type\"), \"blogpost\")\n",
        "    ]\n",
        "    current_titles = {post.get(\"title\") for post in current_blogposts}\n",
        "except Exception as e:\n",
        "    api_error_2 = str(e)\n",
        "\n",
        "# --- Assertion condition (simplified) ---\n",
        "# We only verify that both posts exist in the current state\n",
        "assert_condition_1 = (\n",
        "    api_error_2 is None and\n",
        "    compare_is_list_subset([post_1, post_2], list(current_titles), list_comparison_function=\"all\")\n",
        ")\n",
        "\n",
        "# --- Assertion message ---\n",
        "assert_message_1 = (\n",
        "    f\"Assertion 1 Failed: Error occurred while fetching content: {api_error_2}\"\n",
        "    if api_error_2\n",
        "    else f\"Assertion 1 Failed: Expected blog posts '{post_1}' and '{post_2}' to be present in the current state, \"\n",
        "         f\"but missing from current: {[title for title in [post_1, post_2] if title not in current_titles]}\"\n",
        ")\n",
        "\n",
        "# --- Final check ---\n",
        "assert assert_condition_1, assert_message_1\n"
      ],
      "metadata": {
        "id": "Y9Cc88RUh3GZ"
      },
      "id": "Y9Cc88RUh3GZ",
      "execution_count": 30,
      "outputs": []
    }
  ],
  "metadata": {
    "colab": {
      "collapsed_sections": [
        "792cbeb6",
        "9c914cd1",
        "7cbb288d",
        "e83f6d45"
      ],
      "provenance": []
    },
    "kernelspec": {
      "display_name": "Python 3",
      "name": "python3"
    },
    "language_info": {
      "name": "python"
    }
  },
  "nbformat": 4,
  "nbformat_minor": 5
}