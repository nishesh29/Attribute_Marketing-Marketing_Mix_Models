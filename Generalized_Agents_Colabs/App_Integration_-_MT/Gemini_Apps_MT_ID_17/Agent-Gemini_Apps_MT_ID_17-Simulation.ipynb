{
  "cells": [
    {
      "cell_type": "markdown",
      "id": "0c487220",
      "metadata": {
        "id": "0c487220"
      },
      "source": [
        "**Sample ID**: Gemini_Apps_MT_ID_17\n",
        "\n",
        "**Query**:\n",
        "\n",
        "Schedule Alarm for 6 AM tomorrow\n",
        "\n",
        "**DB Type**: Base Case\n",
        "\n",
        "**Case Description**: Initially, there is no alarm set for 6 AM, Do Not Disturb is not enabled, and no recent WhatsApp messages are received from Riya. Finally, an alarm for 6 AM tomorrow is scheduled, Do Not Disturb remains disabled, and a phone call is placed to Riya on her mobile.\n",
        "\n",
        "```\n",
        "<multiturn info>\n",
        "Query 2: Turn on Do Not Disturb (Follow Up Request)\n",
        "Query 3: Cancel previous DND request and check for new WhatsApp messages from Riya (Follow Up Request)\n",
        "Query 4: Call her (Follow Up Request)\n",
        "Call Clarification: Call Riya's mobile (Ambiguity Resolution)\n",
        "Channel Info: Via Phone (Information Gathering)\n",
        "</multiturn info>\n",
        "```\n",
        "\n",
        "**Global/Context Variables:**\n",
        "\n",
        "\n",
        "**Datetime Context Variables**:\n",
        "\n",
        "- current_date = \"2025-07-21\"\n",
        "\n",
        "\n",
        "**APIs:**\n",
        "- clock\n",
        "- notifications\n",
        "- phone\n",
        "- google_people\n",
        "\n",
        "**Databases:**"
      ]
    },
    {
      "cell_type": "markdown",
      "id": "d714e906",
      "metadata": {
        "id": "d714e906"
      },
      "source": [
        "# Set Up"
      ]
    },
    {
      "cell_type": "markdown",
      "id": "1e802be3",
      "metadata": {
        "id": "1e802be3"
      },
      "source": [
        "## Download relevant files"
      ]
    },
    {
      "cell_type": "code",
      "execution_count": null,
      "id": "989a3920",
      "metadata": {
        "colab": {
          "base_uri": "https://localhost:8080/"
        },
        "id": "989a3920",
        "outputId": "690c63f0-7767-484c-b6c3-6e4f7204bf75"
      },
      "outputs": [
        {
          "name": "stdout",
          "output_type": "stream",
          "text": [
            "Searching for APIs zip file with version 0.1.3 in folder: 1QpkAZxXhVFzIbm8qPGPRP1YqXEvJ4uD4...\n",
            "Found matching file: APIs_V0.1.3.zip (ID: 1F6agaMHV1HaEz2pYX5G2GLTXPvjrivQP)\n",
            "Downloading APIs zip file with ID: 1F6agaMHV1HaEz2pYX5G2GLTXPvjrivQP...\n",
            "\n",
            "Verifying extracted items:\n",
            "✅ /content/APIs is present.\n",
            "✅ /content/DBs is present.\n",
            "✅ /content/Scripts is present.\n",
            "\n",
            "✅ Setup complete! Required items extracted to /content.\n",
            "\n",
            "Generating FC Schemas\n",
            "✅ Successfully generated 68 FC Schemas to /content/Schemas\n"
          ]
        }
      ],
      "source": [
        "import io\n",
        "import os\n",
        "import sys\n",
        "import zipfile\n",
        "import shutil\n",
        "import re\n",
        "from google.colab import auth\n",
        "from googleapiclient.discovery import build\n",
        "from googleapiclient.http import MediaIoBaseDownload\n",
        "\n",
        "# Version to download\n",
        "VERSION = \"0.1.4\"  # This will be replaced dynamically\n",
        "\n",
        "# Define paths\n",
        "CONTENT_DIR = '/content'\n",
        "APIS_DIR = os.path.join(CONTENT_DIR, 'APIs')\n",
        "DBS_DIR = os.path.join(CONTENT_DIR, 'DBs')\n",
        "SCRIPTS_DIR = os.path.join(CONTENT_DIR, 'Scripts')\n",
        "FC_DIR = os.path.join(CONTENT_DIR, 'Schemas')\n",
        "ZIP_PATH = os.path.join(CONTENT_DIR, f'APIs_V{VERSION}.zip')\n",
        "\n",
        "# Google Drive Folder ID where versioned APIs zip files are stored\n",
        "APIS_FOLDER_ID = '1QpkAZxXhVFzIbm8qPGPRP1YqXEvJ4uD4'\n",
        "\n",
        "# List of items to extract from the zip file\n",
        "ITEMS_TO_EXTRACT = ['APIs/', 'DBs/', 'Scripts/', 'Schemas/']\n",
        "\n",
        "# Clean up existing directories and files\n",
        "for path in [APIS_DIR, DBS_DIR, SCRIPTS_DIR, FC_DIR, ZIP_PATH]:\n",
        "    if os.path.exists(path):\n",
        "        if os.path.isdir(path):\n",
        "            shutil.rmtree(path)\n",
        "        else:\n",
        "            os.remove(path)\n",
        "\n",
        "# Authenticate and create the drive service\n",
        "auth.authenticate_user()\n",
        "drive_service = build('drive', 'v3')\n",
        "\n",
        "# Helper function to download a file from Google Drive\n",
        "def download_drive_file(service, file_id, output_path, file_name=None, show_progress=True):\n",
        "    \"\"\"Downloads a file from Google Drive\"\"\"\n",
        "    destination = output_path\n",
        "    request = service.files().get_media(fileId=file_id)\n",
        "    with io.FileIO(destination, 'wb') as fh:\n",
        "        downloader = MediaIoBaseDownload(fh, request)\n",
        "        done = False\n",
        "        while not done:\n",
        "            status, done = downloader.next_chunk()\n",
        "            if show_progress:\n",
        "                print(f\"Download progress: {int(status.progress() * 100)}%\")\n",
        "\n",
        "# 1. List files in the specified APIs folder\n",
        "print(f\"Searching for APIs zip file with version {VERSION} in folder: {APIS_FOLDER_ID}...\")\n",
        "apis_file_id = None\n",
        "\n",
        "try:\n",
        "    query = f\"'{APIS_FOLDER_ID}' in parents and trashed=false\"\n",
        "    results = drive_service.files().list(q=query, fields=\"files(id, name)\").execute()\n",
        "    files = results.get('files', [])\n",
        "    for file in files:\n",
        "        file_name = file.get('name', '')\n",
        "        if file_name.lower() == f'apis_v{VERSION.lower()}.zip':\n",
        "            apis_file_id = file.get('id')\n",
        "            print(f\"Found matching file: {file_name} (ID: {apis_file_id})\")\n",
        "            break\n",
        "\n",
        "except Exception as e:\n",
        "    print(f\"An error occurred while listing files in Google Drive: {e}\")\n",
        "\n",
        "if not apis_file_id:\n",
        "    print(f\"Error: Could not find APIs zip file with version {VERSION} in the specified folder.\")\n",
        "    sys.exit(\"Required APIs zip file not found.\")\n",
        "\n",
        "# 2. Download the found APIs zip file\n",
        "print(f\"Downloading APIs zip file with ID: {apis_file_id}...\")\n",
        "download_drive_file(drive_service, apis_file_id, ZIP_PATH, file_name=f'APIs_V{VERSION}.zip')\n",
        "\n",
        "# 3. Extract specific items from the zip file to /content\n",
        "print(f\"Extracting specific items from {ZIP_PATH} to {CONTENT_DIR}...\")\n",
        "try:\n",
        "    with zipfile.ZipFile(ZIP_PATH, 'r') as zip_ref:\n",
        "        zip_contents = zip_ref.namelist()\n",
        "\n",
        "        for member in zip_contents:\n",
        "            extracted = False\n",
        "            for item_prefix in ITEMS_TO_EXTRACT:\n",
        "                if member == item_prefix or member.startswith(item_prefix):\n",
        "                    zip_ref.extract(member, CONTENT_DIR)\n",
        "                    extracted = True\n",
        "                    break\n",
        "\n",
        "except zipfile.BadZipFile:\n",
        "    print(f\"Error: The downloaded file at {ZIP_PATH} is not a valid zip file.\")\n",
        "    sys.exit(\"Invalid zip file downloaded.\")\n",
        "except Exception as e:\n",
        "    print(f\"An error occurred during extraction: {e}\")\n",
        "    sys.exit(\"Extraction failed.\")\n",
        "\n",
        "# 4. Clean up\n",
        "if os.path.exists(ZIP_PATH):\n",
        "    os.remove(ZIP_PATH)\n",
        "\n",
        "# 5. Add APIs to path\n",
        "if os.path.exists(APIS_DIR):\n",
        "    sys.path.append(APIS_DIR)\n",
        "else:\n",
        "    print(f\"Error: APIS directory not found at {APIS_DIR} after extraction. Cannot add to path.\")\n",
        "\n",
        "# 6. Quick verification\n",
        "# Check for the presence of the extracted items\n",
        "verification_paths = [APIS_DIR, DBS_DIR, SCRIPTS_DIR]\n",
        "all_present = True\n",
        "print(\"\\nVerifying extracted items:\")\n",
        "for path in verification_paths:\n",
        "    if os.path.exists(path):\n",
        "        print(f\"✅ {path} is present.\")\n",
        "    else:\n",
        "        print(f\"❌ {path} is MISSING!\")\n",
        "        all_present = False\n",
        "\n",
        "if all_present:\n",
        "    print(f\"\\n✅ Setup complete! Required items extracted to {CONTENT_DIR}.\")\n",
        "else:\n",
        "    print(\"\\n❌ Setup failed! Not all required items were extracted.\")\n",
        "os.chdir(CONTENT_DIR)"
      ]
    },
    {
      "cell_type": "markdown",
      "id": "be1310d9",
      "metadata": {
        "id": "be1310d9"
      },
      "source": [
        "## Install Dependencies and Clone Repositories"
      ]
    },
    {
      "cell_type": "code",
      "execution_count": null,
      "id": "771569d2",
      "metadata": {
        "colab": {
          "base_uri": "https://localhost:8080/"
        },
        "id": "771569d2",
        "outputId": "902dc76d-422f-4984-841c-04c102a4e1fe",
        "vscode": {
          "languageId": "plaintext"
        }
      },
      "outputs": [
        {
          "name": "stdout",
          "output_type": "stream",
          "text": [
            "Requirement already satisfied: pytest==8.3.5 in /usr/local/lib/python3.12/dist-packages (from -r /content/APIs/requirements.txt (line 1)) (8.3.5)\n",
            "Requirement already satisfied: coverage==7.8.0 in /usr/local/lib/python3.12/dist-packages (from -r /content/APIs/requirements.txt (line 2)) (7.8.0)\n",
            "Requirement already satisfied: python-dateutil==2.9.0.post0 in /usr/local/lib/python3.12/dist-packages (from -r /content/APIs/requirements.txt (line 3)) (2.9.0.post0)\n",
            "Requirement already satisfied: pydantic==2.11.4 in /usr/local/lib/python3.12/dist-packages (from pydantic[email]==2.11.4->-r /content/APIs/requirements.txt (line 4)) (2.11.4)\n",
            "Requirement already satisfied: email_validator==2.2.0 in /usr/local/lib/python3.12/dist-packages (from -r /content/APIs/requirements.txt (line 5)) (2.2.0)\n",
            "Requirement already satisfied: thefuzz==0.22.1 in /usr/local/lib/python3.12/dist-packages (from -r /content/APIs/requirements.txt (line 6)) (0.22.1)\n",
            "Requirement already satisfied: python-Levenshtein==0.27.1 in /usr/local/lib/python3.12/dist-packages (from -r /content/APIs/requirements.txt (line 7)) (0.27.1)\n",
            "Requirement already satisfied: google-genai==1.14.0 in /usr/local/lib/python3.12/dist-packages (from -r /content/APIs/requirements.txt (line 8)) (1.14.0)\n",
            "Requirement already satisfied: python-dotenv==1.1.0 in /usr/local/lib/python3.12/dist-packages (from -r /content/APIs/requirements.txt (line 9)) (1.1.0)\n",
            "Requirement already satisfied: json-repair==0.44.1 in /usr/local/lib/python3.12/dist-packages (from -r /content/APIs/requirements.txt (line 10)) (0.44.1)\n",
            "Requirement already satisfied: beautifulsoup4==4.13.4 in /usr/local/lib/python3.12/dist-packages (from -r /content/APIs/requirements.txt (line 11)) (4.13.4)\n",
            "Requirement already satisfied: readability-lxml==0.8.4.1 in /usr/local/lib/python3.12/dist-packages (from -r /content/APIs/requirements.txt (line 12)) (0.8.4.1)\n",
            "Requirement already satisfied: requests==2.32.3 in /usr/local/lib/python3.12/dist-packages (from -r /content/APIs/requirements.txt (line 13)) (2.32.3)\n",
            "Requirement already satisfied: pymongo==4.13.0 in /usr/local/lib/python3.12/dist-packages (from -r /content/APIs/requirements.txt (line 14)) (4.13.0)\n",
            "Requirement already satisfied: mongomock==4.3.0 in /usr/local/lib/python3.12/dist-packages (from -r /content/APIs/requirements.txt (line 15)) (4.3.0)\n",
            "Requirement already satisfied: pymongo-schema==0.4.1 in /usr/local/lib/python3.12/dist-packages (from -r /content/APIs/requirements.txt (line 16)) (0.4.1)\n",
            "Requirement already satisfied: duckdb==1.3.0 in /usr/local/lib/python3.12/dist-packages (from -r /content/APIs/requirements.txt (line 17)) (1.3.0)\n",
            "Requirement already satisfied: sqlglot==26.25.3 in /usr/local/lib/python3.12/dist-packages (from sqlglot[rs]==26.25.3->-r /content/APIs/requirements.txt (line 18)) (26.25.3)\n",
            "Requirement already satisfied: playwright==1.52.0 in /usr/local/lib/python3.12/dist-packages (from -r /content/APIs/requirements.txt (line 19)) (1.52.0)\n",
            "Requirement already satisfied: nest-asyncio==1.6.0 in /usr/local/lib/python3.12/dist-packages (from -r /content/APIs/requirements.txt (line 20)) (1.6.0)\n",
            "Requirement already satisfied: docstring_parser==0.16 in /usr/local/lib/python3.12/dist-packages (from -r /content/APIs/requirements.txt (line 21)) (0.16)\n",
            "Requirement already satisfied: quickjs==1.19.4 in /usr/local/lib/python3.12/dist-packages (from -r /content/APIs/requirements.txt (line 22)) (1.19.4)\n",
            "Requirement already satisfied: mermaid-python==0.1 in /usr/local/lib/python3.12/dist-packages (from -r /content/APIs/requirements.txt (line 23)) (0.1)\n",
            "Requirement already satisfied: tzlocal==5.3.1 in /usr/local/lib/python3.12/dist-packages (from -r /content/APIs/requirements.txt (line 24)) (5.3.1)\n",
            "Requirement already satisfied: qdrant-client==1.14.3 in /usr/local/lib/python3.12/dist-packages (from -r /content/APIs/requirements.txt (line 25)) (1.14.3)\n",
            "Requirement already satisfied: Whoosh==2.7.4 in /usr/local/lib/python3.12/dist-packages (from -r /content/APIs/requirements.txt (line 26)) (2.7.4)\n",
            "Requirement already satisfied: gdown==5.2.0 in /usr/local/lib/python3.12/dist-packages (from -r /content/APIs/requirements.txt (line 27)) (5.2.0)\n",
            "Requirement already satisfied: openpyxl==3.1.2 in /usr/local/lib/python3.12/dist-packages (from -r /content/APIs/requirements.txt (line 28)) (3.1.2)\n",
            "Requirement already satisfied: python-pptx==0.6.21 in /usr/local/lib/python3.12/dist-packages (from -r /content/APIs/requirements.txt (line 29)) (0.6.21)\n",
            "Requirement already satisfied: tqdm==4.66.1 in /usr/local/lib/python3.12/dist-packages (from -r /content/APIs/requirements.txt (line 30)) (4.66.1)\n",
            "Requirement already satisfied: libcst===1.8.2 in /usr/local/lib/python3.12/dist-packages (from -r /content/APIs/requirements.txt (line 31)) (1.8.2)\n",
            "Requirement already satisfied: google-generativeai==0.8.5 in /usr/local/lib/python3.12/dist-packages (from -r /content/APIs/requirements.txt (line 32)) (0.8.5)\n",
            "Requirement already satisfied: PyPDF2==3.0.1 in /usr/local/lib/python3.12/dist-packages (from -r /content/APIs/requirements.txt (line 33)) (3.0.1)\n",
            "Requirement already satisfied: freezegun==1.5.2 in /usr/local/lib/python3.12/dist-packages (from -r /content/APIs/requirements.txt (line 34)) (1.5.2)\n",
            "Requirement already satisfied: tabulate==0.9.0 in /usr/local/lib/python3.12/dist-packages (from -r /content/APIs/requirements.txt (line 35)) (0.9.0)\n",
            "Requirement already satisfied: uvicorn==0.35.0 in /usr/local/lib/python3.12/dist-packages (from -r /content/APIs/requirements.txt (line 36)) (0.35.0)\n",
            "Requirement already satisfied: starlette==0.47.2 in /usr/local/lib/python3.12/dist-packages (from -r /content/APIs/requirements.txt (line 37)) (0.47.2)\n",
            "Requirement already satisfied: psutil==7.0.0 in /usr/local/lib/python3.12/dist-packages (from -r /content/APIs/requirements.txt (line 38)) (7.0.0)\n",
            "Requirement already satisfied: mcp==1.12.4 in /usr/local/lib/python3.12/dist-packages (from -r /content/APIs/requirements.txt (line 39)) (1.12.4)\n",
            "Requirement already satisfied: jsonpath-ng==1.7.0 in /usr/local/lib/python3.12/dist-packages (from -r /content/APIs/requirements.txt (line 40)) (1.7.0)\n",
            "Requirement already satisfied: phonenumbers==9.0.12 in /usr/local/lib/python3.12/dist-packages (from -r /content/APIs/requirements.txt (line 41)) (9.0.12)\n",
            "Requirement already satisfied: langchain==0.3.27 in /usr/local/lib/python3.12/dist-packages (from -r /content/APIs/requirements.txt (line 42)) (0.3.27)\n",
            "Requirement already satisfied: langchain_openai==0.3.30 in /usr/local/lib/python3.12/dist-packages (from -r /content/APIs/requirements.txt (line 43)) (0.3.30)\n",
            "Requirement already satisfied: langchain_anthropic==0.3.19 in /usr/local/lib/python3.12/dist-packages (from -r /content/APIs/requirements.txt (line 44)) (0.3.19)\n",
            "Requirement already satisfied: deepdiff==8.6.0 in /usr/local/lib/python3.12/dist-packages (from -r /content/APIs/requirements.txt (line 45)) (8.6.0)\n",
            "Requirement already satisfied: wcmatch==10.1 in /usr/local/lib/python3.12/dist-packages (from -r /content/APIs/requirements.txt (line 47)) (10.1)\n",
            "Requirement already satisfied: iniconfig in /usr/local/lib/python3.12/dist-packages (from pytest==8.3.5->-r /content/APIs/requirements.txt (line 1)) (2.1.0)\n",
            "Requirement already satisfied: packaging in /usr/local/lib/python3.12/dist-packages (from pytest==8.3.5->-r /content/APIs/requirements.txt (line 1)) (25.0)\n",
            "Requirement already satisfied: pluggy<2,>=1.5 in /usr/local/lib/python3.12/dist-packages (from pytest==8.3.5->-r /content/APIs/requirements.txt (line 1)) (1.6.0)\n",
            "Requirement already satisfied: six>=1.5 in /usr/local/lib/python3.12/dist-packages (from python-dateutil==2.9.0.post0->-r /content/APIs/requirements.txt (line 3)) (1.17.0)\n",
            "Requirement already satisfied: annotated-types>=0.6.0 in /usr/local/lib/python3.12/dist-packages (from pydantic==2.11.4->pydantic[email]==2.11.4->-r /content/APIs/requirements.txt (line 4)) (0.7.0)\n",
            "Requirement already satisfied: pydantic-core==2.33.2 in /usr/local/lib/python3.12/dist-packages (from pydantic==2.11.4->pydantic[email]==2.11.4->-r /content/APIs/requirements.txt (line 4)) (2.33.2)\n",
            "Requirement already satisfied: typing-extensions>=4.12.2 in /usr/local/lib/python3.12/dist-packages (from pydantic==2.11.4->pydantic[email]==2.11.4->-r /content/APIs/requirements.txt (line 4)) (4.15.0)\n",
            "Requirement already satisfied: typing-inspection>=0.4.0 in /usr/local/lib/python3.12/dist-packages (from pydantic==2.11.4->pydantic[email]==2.11.4->-r /content/APIs/requirements.txt (line 4)) (0.4.1)\n",
            "Requirement already satisfied: dnspython>=2.0.0 in /usr/local/lib/python3.12/dist-packages (from email_validator==2.2.0->-r /content/APIs/requirements.txt (line 5)) (2.8.0)\n",
            "Requirement already satisfied: idna>=2.0.0 in /usr/local/lib/python3.12/dist-packages (from email_validator==2.2.0->-r /content/APIs/requirements.txt (line 5)) (3.10)\n",
            "Requirement already satisfied: rapidfuzz<4.0.0,>=3.0.0 in /usr/local/lib/python3.12/dist-packages (from thefuzz==0.22.1->-r /content/APIs/requirements.txt (line 6)) (3.14.1)\n",
            "Requirement already satisfied: Levenshtein==0.27.1 in /usr/local/lib/python3.12/dist-packages (from python-Levenshtein==0.27.1->-r /content/APIs/requirements.txt (line 7)) (0.27.1)\n",
            "Requirement already satisfied: anyio<5.0.0,>=4.8.0 in /usr/local/lib/python3.12/dist-packages (from google-genai==1.14.0->-r /content/APIs/requirements.txt (line 8)) (4.10.0)\n",
            "Requirement already satisfied: google-auth<3.0.0,>=2.14.1 in /usr/local/lib/python3.12/dist-packages (from google-genai==1.14.0->-r /content/APIs/requirements.txt (line 8)) (2.38.0)\n",
            "Requirement already satisfied: httpx<1.0.0,>=0.28.1 in /usr/local/lib/python3.12/dist-packages (from google-genai==1.14.0->-r /content/APIs/requirements.txt (line 8)) (0.28.1)\n",
            "Requirement already satisfied: websockets<15.1.0,>=13.0.0 in /usr/local/lib/python3.12/dist-packages (from google-genai==1.14.0->-r /content/APIs/requirements.txt (line 8)) (15.0.1)\n",
            "Requirement already satisfied: soupsieve>1.2 in /usr/local/lib/python3.12/dist-packages (from beautifulsoup4==4.13.4->-r /content/APIs/requirements.txt (line 11)) (2.8)\n",
            "Requirement already satisfied: chardet in /usr/local/lib/python3.12/dist-packages (from readability-lxml==0.8.4.1->-r /content/APIs/requirements.txt (line 12)) (5.2.0)\n",
            "Requirement already satisfied: lxml[html_clean] in /usr/local/lib/python3.12/dist-packages (from readability-lxml==0.8.4.1->-r /content/APIs/requirements.txt (line 12)) (5.4.0)\n",
            "Requirement already satisfied: cssselect in /usr/local/lib/python3.12/dist-packages (from readability-lxml==0.8.4.1->-r /content/APIs/requirements.txt (line 12)) (1.3.0)\n",
            "Requirement already satisfied: charset-normalizer<4,>=2 in /usr/local/lib/python3.12/dist-packages (from requests==2.32.3->-r /content/APIs/requirements.txt (line 13)) (3.4.3)\n",
            "Requirement already satisfied: urllib3<3,>=1.21.1 in /usr/local/lib/python3.12/dist-packages (from requests==2.32.3->-r /content/APIs/requirements.txt (line 13)) (2.5.0)\n",
            "Requirement already satisfied: certifi>=2017.4.17 in /usr/local/lib/python3.12/dist-packages (from requests==2.32.3->-r /content/APIs/requirements.txt (line 13)) (2025.8.3)\n",
            "Requirement already satisfied: pytz in /usr/local/lib/python3.12/dist-packages (from mongomock==4.3.0->-r /content/APIs/requirements.txt (line 15)) (2025.2)\n",
            "Requirement already satisfied: sentinels in /usr/local/lib/python3.12/dist-packages (from mongomock==4.3.0->-r /content/APIs/requirements.txt (line 15)) (1.1.1)\n",
            "Requirement already satisfied: pyyaml in /usr/local/lib/python3.12/dist-packages (from pymongo-schema==0.4.1->-r /content/APIs/requirements.txt (line 16)) (6.0.2)\n",
            "Requirement already satisfied: docopt in /usr/local/lib/python3.12/dist-packages (from pymongo-schema==0.4.1->-r /content/APIs/requirements.txt (line 16)) (0.6.2)\n",
            "Requirement already satisfied: ete3 in /usr/local/lib/python3.12/dist-packages (from pymongo-schema==0.4.1->-r /content/APIs/requirements.txt (line 16)) (3.1.3)\n",
            "Requirement already satisfied: pandas in /usr/local/lib/python3.12/dist-packages (from pymongo-schema==0.4.1->-r /content/APIs/requirements.txt (line 16)) (2.2.2)\n",
            "Requirement already satisfied: xlwt in /usr/local/lib/python3.12/dist-packages (from pymongo-schema==0.4.1->-r /content/APIs/requirements.txt (line 16)) (1.3.0)\n",
            "Requirement already satisfied: xlsxwriter in /usr/local/lib/python3.12/dist-packages (from pymongo-schema==0.4.1->-r /content/APIs/requirements.txt (line 16)) (3.2.9)\n",
            "Requirement already satisfied: jinja2 in /usr/local/lib/python3.12/dist-packages (from pymongo-schema==0.4.1->-r /content/APIs/requirements.txt (line 16)) (3.1.6)\n",
            "Requirement already satisfied: future>=0.18.0 in /usr/local/lib/python3.12/dist-packages (from pymongo-schema==0.4.1->-r /content/APIs/requirements.txt (line 16)) (1.0.0)\n",
            "Requirement already satisfied: scipy in /usr/local/lib/python3.12/dist-packages (from pymongo-schema==0.4.1->-r /content/APIs/requirements.txt (line 16)) (1.16.1)\n",
            "Requirement already satisfied: pyee<14,>=13 in /usr/local/lib/python3.12/dist-packages (from playwright==1.52.0->-r /content/APIs/requirements.txt (line 19)) (13.0.0)\n",
            "Requirement already satisfied: greenlet<4.0.0,>=3.1.1 in /usr/local/lib/python3.12/dist-packages (from playwright==1.52.0->-r /content/APIs/requirements.txt (line 19)) (3.2.4)\n",
            "Requirement already satisfied: ipython in /usr/local/lib/python3.12/dist-packages (from mermaid-python==0.1->-r /content/APIs/requirements.txt (line 23)) (7.34.0)\n",
            "Requirement already satisfied: grpcio>=1.41.0 in /usr/local/lib/python3.12/dist-packages (from qdrant-client==1.14.3->-r /content/APIs/requirements.txt (line 25)) (1.74.0)\n",
            "Requirement already satisfied: numpy>=1.26 in /usr/local/lib/python3.12/dist-packages (from qdrant-client==1.14.3->-r /content/APIs/requirements.txt (line 25)) (2.0.2)\n",
            "Requirement already satisfied: portalocker<3.0.0,>=2.7.0 in /usr/local/lib/python3.12/dist-packages (from qdrant-client==1.14.3->-r /content/APIs/requirements.txt (line 25)) (2.10.1)\n",
            "Requirement already satisfied: protobuf>=3.20.0 in /usr/local/lib/python3.12/dist-packages (from qdrant-client==1.14.3->-r /content/APIs/requirements.txt (line 25)) (5.29.5)\n",
            "Requirement already satisfied: filelock in /usr/local/lib/python3.12/dist-packages (from gdown==5.2.0->-r /content/APIs/requirements.txt (line 27)) (3.19.1)\n",
            "Requirement already satisfied: et-xmlfile in /usr/local/lib/python3.12/dist-packages (from openpyxl==3.1.2->-r /content/APIs/requirements.txt (line 28)) (2.0.0)\n",
            "Requirement already satisfied: Pillow>=3.3.2 in /usr/local/lib/python3.12/dist-packages (from python-pptx==0.6.21->-r /content/APIs/requirements.txt (line 29)) (11.3.0)\n",
            "Requirement already satisfied: google-ai-generativelanguage==0.6.15 in /usr/local/lib/python3.12/dist-packages (from google-generativeai==0.8.5->-r /content/APIs/requirements.txt (line 32)) (0.6.15)\n",
            "Requirement already satisfied: google-api-core in /usr/local/lib/python3.12/dist-packages (from google-generativeai==0.8.5->-r /content/APIs/requirements.txt (line 32)) (2.25.1)\n",
            "Requirement already satisfied: google-api-python-client in /usr/local/lib/python3.12/dist-packages (from google-generativeai==0.8.5->-r /content/APIs/requirements.txt (line 32)) (2.181.0)\n",
            "Requirement already satisfied: click>=7.0 in /usr/local/lib/python3.12/dist-packages (from uvicorn==0.35.0->-r /content/APIs/requirements.txt (line 36)) (8.2.1)\n",
            "Requirement already satisfied: h11>=0.8 in /usr/local/lib/python3.12/dist-packages (from uvicorn==0.35.0->-r /content/APIs/requirements.txt (line 36)) (0.16.0)\n",
            "Requirement already satisfied: httpx-sse>=0.4 in /usr/local/lib/python3.12/dist-packages (from mcp==1.12.4->-r /content/APIs/requirements.txt (line 39)) (0.4.1)\n",
            "Requirement already satisfied: jsonschema>=4.20.0 in /usr/local/lib/python3.12/dist-packages (from mcp==1.12.4->-r /content/APIs/requirements.txt (line 39)) (4.25.1)\n",
            "Requirement already satisfied: pydantic-settings>=2.5.2 in /usr/local/lib/python3.12/dist-packages (from mcp==1.12.4->-r /content/APIs/requirements.txt (line 39)) (2.10.1)\n",
            "Requirement already satisfied: python-multipart>=0.0.9 in /usr/local/lib/python3.12/dist-packages (from mcp==1.12.4->-r /content/APIs/requirements.txt (line 39)) (0.0.20)\n",
            "Requirement already satisfied: sse-starlette>=1.6.1 in /usr/local/lib/python3.12/dist-packages (from mcp==1.12.4->-r /content/APIs/requirements.txt (line 39)) (3.0.2)\n",
            "Requirement already satisfied: ply in /usr/local/lib/python3.12/dist-packages (from jsonpath-ng==1.7.0->-r /content/APIs/requirements.txt (line 40)) (3.11)\n",
            "Requirement already satisfied: langchain-core<1.0.0,>=0.3.72 in /usr/local/lib/python3.12/dist-packages (from langchain==0.3.27->-r /content/APIs/requirements.txt (line 42)) (0.3.75)\n",
            "Requirement already satisfied: langchain-text-splitters<1.0.0,>=0.3.9 in /usr/local/lib/python3.12/dist-packages (from langchain==0.3.27->-r /content/APIs/requirements.txt (line 42)) (0.3.11)\n",
            "Requirement already satisfied: langsmith>=0.1.17 in /usr/local/lib/python3.12/dist-packages (from langchain==0.3.27->-r /content/APIs/requirements.txt (line 42)) (0.4.27)\n",
            "Requirement already satisfied: SQLAlchemy<3,>=1.4 in /usr/local/lib/python3.12/dist-packages (from langchain==0.3.27->-r /content/APIs/requirements.txt (line 42)) (2.0.43)\n",
            "Requirement already satisfied: openai<2.0.0,>=1.99.9 in /usr/local/lib/python3.12/dist-packages (from langchain_openai==0.3.30->-r /content/APIs/requirements.txt (line 43)) (1.107.0)\n",
            "Requirement already satisfied: tiktoken<1,>=0.7 in /usr/local/lib/python3.12/dist-packages (from langchain_openai==0.3.30->-r /content/APIs/requirements.txt (line 43)) (0.11.0)\n",
            "Requirement already satisfied: anthropic<1,>=0.64.0 in /usr/local/lib/python3.12/dist-packages (from langchain_anthropic==0.3.19->-r /content/APIs/requirements.txt (line 44)) (0.67.0)\n",
            "Requirement already satisfied: orderly-set<6,>=5.4.1 in /usr/local/lib/python3.12/dist-packages (from deepdiff==8.6.0->-r /content/APIs/requirements.txt (line 45)) (5.5.0)\n",
            "Requirement already satisfied: bracex>=2.1.1 in /usr/local/lib/python3.12/dist-packages (from wcmatch==10.1->-r /content/APIs/requirements.txt (line 47)) (2.6)\n",
            "Requirement already satisfied: sqlglotrs==0.6.1 in /usr/local/lib/python3.12/dist-packages (from sqlglot[rs]==26.25.3->-r /content/APIs/requirements.txt (line 18)) (0.6.1)\n",
            "Requirement already satisfied: proto-plus<2.0.0dev,>=1.22.3 in /usr/local/lib/python3.12/dist-packages (from google-ai-generativelanguage==0.6.15->google-generativeai==0.8.5->-r /content/APIs/requirements.txt (line 32)) (1.26.1)\n",
            "Requirement already satisfied: distro<2,>=1.7.0 in /usr/local/lib/python3.12/dist-packages (from anthropic<1,>=0.64.0->langchain_anthropic==0.3.19->-r /content/APIs/requirements.txt (line 44)) (1.9.0)\n",
            "Requirement already satisfied: jiter<1,>=0.4.0 in /usr/local/lib/python3.12/dist-packages (from anthropic<1,>=0.64.0->langchain_anthropic==0.3.19->-r /content/APIs/requirements.txt (line 44)) (0.10.0)\n",
            "Requirement already satisfied: sniffio in /usr/local/lib/python3.12/dist-packages (from anthropic<1,>=0.64.0->langchain_anthropic==0.3.19->-r /content/APIs/requirements.txt (line 44)) (1.3.1)\n",
            "Requirement already satisfied: googleapis-common-protos<2.0.0,>=1.56.2 in /usr/local/lib/python3.12/dist-packages (from google-api-core->google-generativeai==0.8.5->-r /content/APIs/requirements.txt (line 32)) (1.70.0)\n",
            "Requirement already satisfied: cachetools<6.0,>=2.0.0 in /usr/local/lib/python3.12/dist-packages (from google-auth<3.0.0,>=2.14.1->google-genai==1.14.0->-r /content/APIs/requirements.txt (line 8)) (5.5.2)\n",
            "Requirement already satisfied: pyasn1-modules>=0.2.1 in /usr/local/lib/python3.12/dist-packages (from google-auth<3.0.0,>=2.14.1->google-genai==1.14.0->-r /content/APIs/requirements.txt (line 8)) (0.4.2)\n",
            "Requirement already satisfied: rsa<5,>=3.1.4 in /usr/local/lib/python3.12/dist-packages (from google-auth<3.0.0,>=2.14.1->google-genai==1.14.0->-r /content/APIs/requirements.txt (line 8)) (4.9.1)\n",
            "Requirement already satisfied: httpcore==1.* in /usr/local/lib/python3.12/dist-packages (from httpx<1.0.0,>=0.28.1->google-genai==1.14.0->-r /content/APIs/requirements.txt (line 8)) (1.0.9)\n",
            "Requirement already satisfied: h2<5,>=3 in /usr/local/lib/python3.12/dist-packages (from httpx[http2]>=0.20.0->qdrant-client==1.14.3->-r /content/APIs/requirements.txt (line 25)) (4.3.0)\n",
            "Requirement already satisfied: attrs>=22.2.0 in /usr/local/lib/python3.12/dist-packages (from jsonschema>=4.20.0->mcp==1.12.4->-r /content/APIs/requirements.txt (line 39)) (25.3.0)\n",
            "Requirement already satisfied: jsonschema-specifications>=2023.03.6 in /usr/local/lib/python3.12/dist-packages (from jsonschema>=4.20.0->mcp==1.12.4->-r /content/APIs/requirements.txt (line 39)) (2025.9.1)\n",
            "Requirement already satisfied: referencing>=0.28.4 in /usr/local/lib/python3.12/dist-packages (from jsonschema>=4.20.0->mcp==1.12.4->-r /content/APIs/requirements.txt (line 39)) (0.36.2)\n",
            "Requirement already satisfied: rpds-py>=0.7.1 in /usr/local/lib/python3.12/dist-packages (from jsonschema>=4.20.0->mcp==1.12.4->-r /content/APIs/requirements.txt (line 39)) (0.27.1)\n",
            "Requirement already satisfied: tenacity!=8.4.0,<10.0.0,>=8.1.0 in /usr/local/lib/python3.12/dist-packages (from langchain-core<1.0.0,>=0.3.72->langchain==0.3.27->-r /content/APIs/requirements.txt (line 42)) (8.5.0)\n",
            "Requirement already satisfied: jsonpatch<2.0,>=1.33 in /usr/local/lib/python3.12/dist-packages (from langchain-core<1.0.0,>=0.3.72->langchain==0.3.27->-r /content/APIs/requirements.txt (line 42)) (1.33)\n",
            "Requirement already satisfied: orjson>=3.9.14 in /usr/local/lib/python3.12/dist-packages (from langsmith>=0.1.17->langchain==0.3.27->-r /content/APIs/requirements.txt (line 42)) (3.11.3)\n",
            "Requirement already satisfied: requests-toolbelt>=1.0.0 in /usr/local/lib/python3.12/dist-packages (from langsmith>=0.1.17->langchain==0.3.27->-r /content/APIs/requirements.txt (line 42)) (1.0.0)\n",
            "Requirement already satisfied: zstandard>=0.23.0 in /usr/local/lib/python3.12/dist-packages (from langsmith>=0.1.17->langchain==0.3.27->-r /content/APIs/requirements.txt (line 42)) (0.24.0)\n",
            "Requirement already satisfied: regex>=2022.1.18 in /usr/local/lib/python3.12/dist-packages (from tiktoken<1,>=0.7->langchain_openai==0.3.30->-r /content/APIs/requirements.txt (line 43)) (2024.11.6)\n",
            "Requirement already satisfied: httplib2<1.0.0,>=0.19.0 in /usr/local/lib/python3.12/dist-packages (from google-api-python-client->google-generativeai==0.8.5->-r /content/APIs/requirements.txt (line 32)) (0.30.0)\n",
            "Requirement already satisfied: google-auth-httplib2<1.0.0,>=0.2.0 in /usr/local/lib/python3.12/dist-packages (from google-api-python-client->google-generativeai==0.8.5->-r /content/APIs/requirements.txt (line 32)) (0.2.0)\n",
            "Requirement already satisfied: uritemplate<5,>=3.0.1 in /usr/local/lib/python3.12/dist-packages (from google-api-python-client->google-generativeai==0.8.5->-r /content/APIs/requirements.txt (line 32)) (4.2.0)\n",
            "Requirement already satisfied: setuptools>=18.5 in /usr/local/lib/python3.12/dist-packages (from ipython->mermaid-python==0.1->-r /content/APIs/requirements.txt (line 23)) (75.2.0)\n",
            "Requirement already satisfied: jedi>=0.16 in /usr/local/lib/python3.12/dist-packages (from ipython->mermaid-python==0.1->-r /content/APIs/requirements.txt (line 23)) (0.19.2)\n",
            "Requirement already satisfied: decorator in /usr/local/lib/python3.12/dist-packages (from ipython->mermaid-python==0.1->-r /content/APIs/requirements.txt (line 23)) (4.4.2)\n",
            "Requirement already satisfied: pickleshare in /usr/local/lib/python3.12/dist-packages (from ipython->mermaid-python==0.1->-r /content/APIs/requirements.txt (line 23)) (0.7.5)\n",
            "Requirement already satisfied: traitlets>=4.2 in /usr/local/lib/python3.12/dist-packages (from ipython->mermaid-python==0.1->-r /content/APIs/requirements.txt (line 23)) (5.7.1)\n",
            "Requirement already satisfied: prompt-toolkit!=3.0.0,!=3.0.1,<3.1.0,>=2.0.0 in /usr/local/lib/python3.12/dist-packages (from ipython->mermaid-python==0.1->-r /content/APIs/requirements.txt (line 23)) (3.0.52)\n",
            "Requirement already satisfied: pygments in /usr/local/lib/python3.12/dist-packages (from ipython->mermaid-python==0.1->-r /content/APIs/requirements.txt (line 23)) (2.19.2)\n",
            "Requirement already satisfied: backcall in /usr/local/lib/python3.12/dist-packages (from ipython->mermaid-python==0.1->-r /content/APIs/requirements.txt (line 23)) (0.2.0)\n",
            "Requirement already satisfied: matplotlib-inline in /usr/local/lib/python3.12/dist-packages (from ipython->mermaid-python==0.1->-r /content/APIs/requirements.txt (line 23)) (0.1.7)\n",
            "Requirement already satisfied: pexpect>4.3 in /usr/local/lib/python3.12/dist-packages (from ipython->mermaid-python==0.1->-r /content/APIs/requirements.txt (line 23)) (4.9.0)\n",
            "Requirement already satisfied: MarkupSafe>=2.0 in /usr/local/lib/python3.12/dist-packages (from jinja2->pymongo-schema==0.4.1->-r /content/APIs/requirements.txt (line 16)) (3.0.2)\n",
            "Requirement already satisfied: lxml_html_clean in /usr/local/lib/python3.12/dist-packages (from lxml[html_clean]->readability-lxml==0.8.4.1->-r /content/APIs/requirements.txt (line 12)) (0.4.2)\n",
            "Requirement already satisfied: tzdata>=2022.7 in /usr/local/lib/python3.12/dist-packages (from pandas->pymongo-schema==0.4.1->-r /content/APIs/requirements.txt (line 16)) (2025.2)\n",
            "Requirement already satisfied: PySocks!=1.5.7,>=1.5.6 in /usr/local/lib/python3.12/dist-packages (from requests[socks]->gdown==5.2.0->-r /content/APIs/requirements.txt (line 27)) (1.7.1)\n",
            "Requirement already satisfied: grpcio-status<2.0.0,>=1.33.2 in /usr/local/lib/python3.12/dist-packages (from google-api-core[grpc]!=2.0.*,!=2.1.*,!=2.10.*,!=2.2.*,!=2.3.*,!=2.4.*,!=2.5.*,!=2.6.*,!=2.7.*,!=2.8.*,!=2.9.*,<3.0.0dev,>=1.34.1->google-ai-generativelanguage==0.6.15->google-generativeai==0.8.5->-r /content/APIs/requirements.txt (line 32)) (1.71.2)\n",
            "Requirement already satisfied: hyperframe<7,>=6.1 in /usr/local/lib/python3.12/dist-packages (from h2<5,>=3->httpx[http2]>=0.20.0->qdrant-client==1.14.3->-r /content/APIs/requirements.txt (line 25)) (6.1.0)\n",
            "Requirement already satisfied: hpack<5,>=4.1 in /usr/local/lib/python3.12/dist-packages (from h2<5,>=3->httpx[http2]>=0.20.0->qdrant-client==1.14.3->-r /content/APIs/requirements.txt (line 25)) (4.1.0)\n",
            "Requirement already satisfied: pyparsing<4,>=3.0.4 in /usr/local/lib/python3.12/dist-packages (from httplib2<1.0.0,>=0.19.0->google-api-python-client->google-generativeai==0.8.5->-r /content/APIs/requirements.txt (line 32)) (3.2.3)\n",
            "Requirement already satisfied: parso<0.9.0,>=0.8.4 in /usr/local/lib/python3.12/dist-packages (from jedi>=0.16->ipython->mermaid-python==0.1->-r /content/APIs/requirements.txt (line 23)) (0.8.5)\n",
            "Requirement already satisfied: jsonpointer>=1.9 in /usr/local/lib/python3.12/dist-packages (from jsonpatch<2.0,>=1.33->langchain-core<1.0.0,>=0.3.72->langchain==0.3.27->-r /content/APIs/requirements.txt (line 42)) (3.0.0)\n",
            "Requirement already satisfied: ptyprocess>=0.5 in /usr/local/lib/python3.12/dist-packages (from pexpect>4.3->ipython->mermaid-python==0.1->-r /content/APIs/requirements.txt (line 23)) (0.7.0)\n",
            "Requirement already satisfied: wcwidth in /usr/local/lib/python3.12/dist-packages (from prompt-toolkit!=3.0.0,!=3.0.1,<3.1.0,>=2.0.0->ipython->mermaid-python==0.1->-r /content/APIs/requirements.txt (line 23)) (0.2.13)\n",
            "Requirement already satisfied: pyasn1<0.7.0,>=0.6.1 in /usr/local/lib/python3.12/dist-packages (from pyasn1-modules>=0.2.1->google-auth<3.0.0,>=2.14.1->google-genai==1.14.0->-r /content/APIs/requirements.txt (line 8)) (0.6.1)\n",
            "Requirement already satisfied: freezegun in /usr/local/lib/python3.12/dist-packages (1.5.2)\n",
            "Requirement already satisfied: python-dateutil>=2.7 in /usr/local/lib/python3.12/dist-packages (from freezegun) (2.9.0.post0)\n",
            "Requirement already satisfied: six>=1.5 in /usr/local/lib/python3.12/dist-packages (from python-dateutil>=2.7->freezegun) (1.17.0)\n"
          ]
        }
      ],
      "source": [
        "!pip install -r /content/APIs/requirements.txt\n",
        "!pip install freezegun"
      ]
    },
    {
      "cell_type": "markdown",
      "id": "5c1d5d70",
      "metadata": {
        "id": "5c1d5d70"
      },
      "source": [
        "## Import APIs and initiate DBs"
      ]
    },
    {
      "cell_type": "code",
      "execution_count": null,
      "id": "ba6fe8b2",
      "metadata": {
        "colab": {
          "base_uri": "https://localhost:8080/"
        },
        "id": "ba6fe8b2",
        "outputId": "020984ef-96e9-41dd-f4ea-52f86cd58c3c",
        "vscode": {
          "languageId": "plaintext"
        }
      },
      "outputs": [
        {
          "name": "stdout",
          "output_type": "stream",
          "text": [
            "--> FROZEN TIME  2025-07-21 00:00:00\n",
            "Clock DB: {'alarms': {'ALARM-1': {'alarm_id': 'ALARM-1', 'time_of_day': '7:00 AM', 'date': '2024-01-15', 'label': 'Morning alarm', 'state': 'ACTIVE', 'recurrence': 'MONDAY,TUESDAY,WEDNESDAY,THURSDAY,FRIDAY', 'created_at': '2024-01-14T22:30:00', 'fire_time': '2024-01-15T07:00:00'}, 'ALARM-2': {'alarm_id': 'ALARM-2', 'time_of_day': '8:30 AM', 'date': '2024-01-15', 'label': 'Meeting reminder', 'state': 'ACTIVE', 'recurrence': '', 'created_at': '2024-01-14T20:15:00', 'fire_time': '2024-01-15T08:30:00'}, 'ALARM-3': {'alarm_id': 'ALARM-3', 'time_of_day': '12:00 PM', 'date': '2024-01-15', 'label': 'Lunch break', 'state': 'ACTIVE', 'recurrence': 'MONDAY,TUESDAY,WEDNESDAY,THURSDAY,FRIDAY', 'created_at': '2024-01-14T19:45:00', 'fire_time': '2024-01-15T12:00:00'}, 'ALARM-4': {'alarm_id': 'ALARM-4', 'time_of_day': '6:00 PM', 'date': '2024-01-15', 'label': 'Workout time', 'state': 'DISABLED', 'recurrence': '', 'created_at': '2024-01-14T18:20:00', 'fire_time': '2024-01-15T18:00:00'}, 'ALARM-5': {'alarm_id': 'ALARM-5', 'time_of_day': '10:00 PM', 'date': '2024-01-15', 'label': 'Bedtime reminder', 'state': 'SNOOZED', 'recurrence': '', 'created_at': '2024-01-14T17:10:00', 'fire_time': '2024-01-15T22:10:00'}}, 'timers': {'TIMER-1': {'timer_id': 'TIMER-1', 'original_duration': '25m', 'remaining_duration': '18m30s', 'time_of_day': '2:45 PM', 'label': 'Pomodoro session', 'state': 'RUNNING', 'created_at': '2024-01-15T14:20:00', 'fire_time': '2024-01-15T14:45:00', 'start_time': '2024-01-15T14:20:00'}, 'TIMER-2': {'timer_id': 'TIMER-2', 'original_duration': '10m', 'remaining_duration': '10m', 'time_of_day': '3:10 PM', 'label': 'Tea brewing', 'state': 'PAUSED', 'created_at': '2024-01-15T15:00:00', 'fire_time': '2024-01-15T15:10:00', 'start_time': '2024-01-15T15:00:00'}, 'TIMER-3': {'timer_id': 'TIMER-3', 'original_duration': '45m', 'remaining_duration': '0s', 'time_of_day': '1:30 PM', 'label': 'Cooking pasta', 'state': 'FINISHED', 'created_at': '2024-01-15T12:45:00', 'fire_time': '2024-01-15T13:30:00', 'start_time': '2024-01-15T12:45:00'}, 'TIMER-4': {'timer_id': 'TIMER-4', 'original_duration': '5m', 'remaining_duration': '5m', 'time_of_day': '4:00 PM', 'label': 'Break timer', 'state': 'RESET', 'created_at': '2024-01-15T15:50:00', 'fire_time': '2024-01-15T16:00:00', 'start_time': '2024-01-15T15:55:00'}}, 'stopwatch': {'state': 'STOPPED', 'start_time': None, 'pause_time': None, 'elapsed_time': 0, 'lap_times': []}, 'settings': {'default_alarm_sound': 'gentle_chime', 'default_timer_sound': 'bell', 'snooze_duration': 600, 'alarm_volume': 0.8, 'timer_volume': 0.7, 'time_format': '12_hour', 'show_seconds': False}}\n",
            "Google People DB: <google_people.SimulationEngine.db.DB object at 0x7d2c553e0740>\n",
            "Notifications DB: {'message_notifications': {'d7b3f016-57eb-4491-bbd9-ecc01b257436': {'id': 'd7b3f016-57eb-4491-bbd9-ecc01b257436', 'sender_id': '070ddf08-4419-448b-a632-6e49fd1b5a12', 'content': 'Hey, are we still meeting at 3 PM?', 'content_type': 'text', 'date': '2024-01-01', 'time_of_day': '14:30:00', 'bundle_key': 'bundle_001'}, 'a5b30438-3ffe-4f00-974f-f7762efb81c8': {'id': 'a5b30438-3ffe-4f00-974f-f7762efb81c8', 'sender_id': '070ddf08-4419-448b-a632-6e49fd1b5a12', 'content': 'Let me know if you need to reschedule', 'content_type': 'text', 'date': '2024-01-01', 'time_of_day': '14:31:00', 'bundle_key': 'bundle_001'}, '7dd16e90-f3d9-453a-959e-146c5b692a92': {'id': '7dd16e90-f3d9-453a-959e-146c5b692a92', 'sender_id': '070ddf08-4419-448b-a632-6e49fd1b5a12', 'content': \"I'll be in the conference room\", 'content_type': 'text', 'date': '2024-01-01', 'time_of_day': '14:32:00', 'bundle_key': 'bundle_001'}, 'e176ac97-5eb0-4e4b-a0ce-af1953d5400c': {'id': 'e176ac97-5eb0-4e4b-a0ce-af1953d5400c', 'sender_id': '3658fc77-31db-4968-bca4-cb413f46b89d', 'content': 'Meeting agenda attached', 'content_type': 'text', 'date': '2024-01-01', 'time_of_day': '10:15:00', 'bundle_key': 'bundle_002'}, '8e3ed2b6-4362-4a21-bb1d-9773253b0dc8': {'id': '8e3ed2b6-4362-4a21-bb1d-9773253b0dc8', 'sender_id': '87c624dd-4110-45d6-9a64-273f07e429c2', 'content': 'Great presentation today!', 'content_type': 'text', 'date': '2024-01-01', 'time_of_day': '16:45:00', 'bundle_key': 'bundle_003'}, '58c1423b-2bbf-4fca-a62b-0a1a756ed524': {'id': '58c1423b-2bbf-4fca-a62b-0a1a756ed524', 'sender_id': '87c624dd-4110-45d6-9a64-273f07e429c2', 'content': '[Photo]', 'content_type': 'image', 'date': '2024-01-01', 'time_of_day': '16:46:00', 'bundle_key': 'bundle_003'}, 'bd2712ff-e0b7-43b8-880f-aafb915aa44b': {'id': 'bd2712ff-e0b7-43b8-880f-aafb915aa44b', 'sender_id': 'aaa3514f-9e57-4e6e-8eb6-4df02695ab71', 'content': 'Running 5 minutes late', 'content_type': 'text', 'date': '2024-01-01', 'time_of_day': '09:25:00', 'bundle_key': 'bundle_004'}, '84028c71-4177-4e81-bda2-0252c2c7920e': {'id': '84028c71-4177-4e81-bda2-0252c2c7920e', 'sender_id': 'd34f1e4d-fa72-419b-ae69-79327cf10a97', 'content': 'Happy New Year everyone!', 'content_type': 'text', 'date': '2024-01-01', 'time_of_day': '00:05:00', 'bundle_key': 'bundle_010'}, '36f1b6b1-3501-46ce-a522-ad07722234cb': {'id': '36f1b6b1-3501-46ce-a522-ad07722234cb', 'sender_id': '4932d911-4c80-44b1-b067-a99b47cb2bcf', 'content': 'Happy New Year! 🎉', 'content_type': 'text', 'date': '2024-01-01', 'time_of_day': '00:06:00', 'bundle_key': 'bundle_011'}, 'cd61683c-3138-42ba-af43-c1caf0b78302': {'id': 'cd61683c-3138-42ba-af43-c1caf0b78302', 'sender_id': '8e745313-ca47-48cb-969f-8ba4622c947c', 'content': 'Wishing everyone a great year ahead!', 'content_type': 'text', 'date': '2024-01-01', 'time_of_day': '00:07:00', 'bundle_key': 'bundle_012'}, '75761968-ffc7-4df5-b7dd-930b5abc30c1': {'id': '75761968-ffc7-4df5-b7dd-930b5abc30c1', 'sender_id': 'e7d05b36-7304-4ff7-b384-85ed8136e531', 'content': 'Call me when you get this', 'content_type': 'text', 'date': '2024-01-01', 'time_of_day': '11:30:00', 'bundle_key': 'bundle_006'}, 'f1dc5de3-6ab6-46ee-8225-03824783cc43': {'id': 'f1dc5de3-6ab6-46ee-8225-03824783cc43', 'sender_id': 'e7d05b36-7304-4ff7-b384-85ed8136e531', 'content': \"It's important\", 'content_type': 'text', 'date': '2024-01-01', 'time_of_day': '11:35:00', 'bundle_key': 'bundle_006'}, 'e94bb7dc-243d-4bb5-9a6a-e5a1791ba293': {'id': 'e94bb7dc-243d-4bb5-9a6a-e5a1791ba293', 'sender_id': '4ce7cdcc-faaf-40aa-9932-ea98bafbd625', 'content': 'Project update: Phase 1 complete', 'content_type': 'text', 'date': '2024-01-01', 'time_of_day': '13:20:00', 'bundle_key': 'bundle_007'}, 'e7e03c04-92b3-4247-a2d6-6fc21bf5897e': {'id': 'e7e03c04-92b3-4247-a2d6-6fc21bf5897e', 'sender_id': '54b98e8a-c72b-406d-97bc-8ab97911ea47', 'content': 'Your package has been delivered', 'content_type': 'text', 'date': '2024-01-01', 'time_of_day': '15:10:00', 'bundle_key': 'bundle_008'}, 'bc88ddc0-349a-426c-939e-ccb75417f40b': {'id': 'bc88ddc0-349a-426c-939e-ccb75417f40b', 'sender_id': '77d471d4-356e-456f-b135-fc95e22acea3', 'content': '[Voice message - 0:45]', 'content_type': 'audio', 'date': '2024-01-01', 'time_of_day': '17:30:00', 'bundle_key': 'bundle_009'}}, 'message_senders': {'070ddf08-4419-448b-a632-6e49fd1b5a12': {'id': '070ddf08-4419-448b-a632-6e49fd1b5a12', 'name': 'John Doe', 'type': 'user'}, '3658fc77-31db-4968-bca4-cb413f46b89d': {'id': '3658fc77-31db-4968-bca4-cb413f46b89d', 'name': 'Sarah Johnson', 'type': 'user'}, '87c624dd-4110-45d6-9a64-273f07e429c2': {'id': '87c624dd-4110-45d6-9a64-273f07e429c2', 'name': 'Mike Wilson', 'type': 'user'}, 'aaa3514f-9e57-4e6e-8eb6-4df02695ab71': {'id': 'aaa3514f-9e57-4e6e-8eb6-4df02695ab71', 'name': 'Emily Chen', 'type': 'user'}, '3775a264-2e6c-4735-a90a-67f178e425eb': {'id': '3775a264-2e6c-4735-a90a-67f178e425eb', 'name': 'New York Trip', 'type': 'group'}, 'e7d05b36-7304-4ff7-b384-85ed8136e531': {'id': 'e7d05b36-7304-4ff7-b384-85ed8136e531', 'name': 'Mom', 'type': 'user'}, '4ce7cdcc-faaf-40aa-9932-ea98bafbd625': {'id': '4ce7cdcc-faaf-40aa-9932-ea98bafbd625', 'name': 'James Brown', 'type': 'user'}, '54b98e8a-c72b-406d-97bc-8ab97911ea47': {'id': '54b98e8a-c72b-406d-97bc-8ab97911ea47', 'name': 'Unknown', 'type': 'user'}, '77d471d4-356e-456f-b135-fc95e22acea3': {'id': '77d471d4-356e-456f-b135-fc95e22acea3', 'name': 'Jennifer Lee', 'type': 'user'}, 'd34f1e4d-fa72-419b-ae69-79327cf10a97': {'id': 'd34f1e4d-fa72-419b-ae69-79327cf10a97', 'name': 'David Martinez', 'type': 'user'}, '4932d911-4c80-44b1-b067-a99b47cb2bcf': {'id': '4932d911-4c80-44b1-b067-a99b47cb2bcf', 'name': 'Lisa Thompson', 'type': 'user'}, '8e745313-ca47-48cb-969f-8ba4622c947c': {'id': '8e745313-ca47-48cb-969f-8ba4622c947c', 'name': 'Alex Rodriguez', 'type': 'user'}}, 'bundled_notifications': {'bundle_001': {'id': 'b375a455-7a22-4f8c-8067-00f2d64aeed8', 'key': 'bundle_001', 'localized_app_name': 'WhatsApp', 'app_package_name': 'com.whatsapp', 'sender_id': '070ddf08-4419-448b-a632-6e49fd1b5a12', 'message_count': 3, 'message_notification_ids': ['d7b3f016-57eb-4491-bbd9-ecc01b257436', 'a5b30438-3ffe-4f00-974f-f7762efb81c8', '7dd16e90-f3d9-453a-959e-146c5b692a92'], 'supported_actions': ['reply'], 'is_read': False}, 'bundle_002': {'id': 'ef036375-0d0f-4ac0-a64e-d995beff772d', 'key': 'bundle_002', 'localized_app_name': 'WhatsApp', 'app_package_name': 'com.whatsapp', 'sender_id': '3658fc77-31db-4968-bca4-cb413f46b89d', 'message_count': 1, 'message_notification_ids': ['e176ac97-5eb0-4e4b-a0ce-af1953d5400c'], 'supported_actions': ['reply'], 'is_read': False}, 'bundle_003': {'id': '0d1250cd-8773-48b2-ad83-23f20d39617c', 'key': 'bundle_003', 'localized_app_name': 'Telegram', 'app_package_name': 'org.telegram.messenger', 'sender_id': '87c624dd-4110-45d6-9a64-273f07e429c2', 'message_count': 2, 'message_notification_ids': ['8e3ed2b6-4362-4a21-bb1d-9773253b0dc8', '58c1423b-2bbf-4fca-a62b-0a1a756ed524'], 'supported_actions': ['reply'], 'is_read': True}, 'bundle_004': {'id': '1d92e625-368b-427c-9dda-2b96af285c84', 'key': 'bundle_004', 'localized_app_name': 'Messages', 'app_package_name': 'com.google.android.apps.messaging', 'sender_id': 'aaa3514f-9e57-4e6e-8eb6-4df02695ab71', 'message_count': 1, 'message_notification_ids': ['bd2712ff-e0b7-43b8-880f-aafb915aa44b'], 'supported_actions': ['reply'], 'is_read': False}, 'bundle_005': {'id': '236e3a03-4a7c-4f65-a51a-4b28df777a5e', 'key': 'bundle_005', 'localized_app_name': 'WhatsApp', 'app_package_name': 'com.whatsapp', 'sender_id': '3775a264-2e6c-4735-a90a-67f178e425eb', 'message_count': 0, 'message_notification_ids': [], 'supported_actions': ['reply'], 'is_read': False}, 'bundle_006': {'id': '8ad60444-516a-4aea-9062-e8539dc4c3c0', 'key': 'bundle_006', 'localized_app_name': 'Messages', 'app_package_name': 'com.google.android.apps.messaging', 'sender_id': 'e7d05b36-7304-4ff7-b384-85ed8136e531', 'message_count': 2, 'message_notification_ids': ['75761968-ffc7-4df5-b7dd-930b5abc30c1', 'f1dc5de3-6ab6-46ee-8225-03824783cc43'], 'supported_actions': ['reply'], 'is_read': True}, 'bundle_007': {'id': '5247fe06-eb02-4097-8f13-06077d67f67a', 'key': 'bundle_007', 'localized_app_name': 'Slack', 'app_package_name': 'com.Slack', 'sender_id': '4ce7cdcc-faaf-40aa-9932-ea98bafbd625', 'message_count': 1, 'message_notification_ids': ['e94bb7dc-243d-4bb5-9a6a-e5a1791ba293'], 'supported_actions': ['reply'], 'is_read': False}, 'bundle_008': {'id': 'e17b15d9-d008-4e9c-910a-77845797464b', 'key': 'bundle_008', 'localized_app_name': 'SMS', 'app_package_name': 'com.android.mms', 'sender_id': '54b98e8a-c72b-406d-97bc-8ab97911ea47', 'message_count': 1, 'message_notification_ids': ['e7e03c04-92b3-4247-a2d6-6fc21bf5897e'], 'supported_actions': [], 'is_read': True}, 'bundle_009': {'id': '3d197c3b-9ad7-43c9-bec1-259166f32371', 'key': 'bundle_009', 'localized_app_name': 'WhatsApp', 'app_package_name': 'com.whatsapp', 'sender_id': '77d471d4-356e-456f-b135-fc95e22acea3', 'message_count': 1, 'message_notification_ids': ['bc88ddc0-349a-426c-939e-ccb75417f40b'], 'supported_actions': ['reply'], 'is_read': False}, 'bundle_010': {'id': 'c9049255-47d1-42d7-9014-06a169ceda9b', 'key': 'bundle_010', 'localized_app_name': 'WhatsApp', 'app_package_name': 'com.whatsapp', 'sender_id': 'd34f1e4d-fa72-419b-ae69-79327cf10a97', 'message_count': 1, 'message_notification_ids': ['84028c71-4177-4e81-bda2-0252c2c7920e'], 'supported_actions': ['reply'], 'is_read': True}, 'bundle_011': {'id': 'a5561e3c-1d9d-4b43-92d4-a46c9df86f99', 'key': 'bundle_011', 'localized_app_name': 'WhatsApp', 'app_package_name': 'com.whatsapp', 'sender_id': '4932d911-4c80-44b1-b067-a99b47cb2bcf', 'message_count': 1, 'message_notification_ids': ['36f1b6b1-3501-46ce-a522-ad07722234cb'], 'supported_actions': ['reply'], 'is_read': False}, 'bundle_012': {'id': '1d30eb05-f26d-491c-8b19-cb9ac6886b54', 'key': 'bundle_012', 'localized_app_name': 'WhatsApp', 'app_package_name': 'com.whatsapp', 'sender_id': '8e745313-ca47-48cb-969f-8ba4622c947c', 'message_count': 1, 'message_notification_ids': ['cd61683c-3138-42ba-af43-c1caf0b78302'], 'supported_actions': ['reply'], 'is_read': True}}, 'reply_actions': {'a8b2c4d6-e8f0-4a2b-8c4d-9e1f0a2b3c4d': {'id': 'a8b2c4d6-e8f0-4a2b-8c4d-9e1f0a2b3c4d', 'bundle_key': 'bundle_001', 'recipient_name': 'John Doe', 'message_body': 'Thanks for the update!', 'app_name': 'Gmail', 'status': 'sent', 'created_at': '2023-10-27T10:00:00', 'updated_at': '2023-10-27T10:00:00'}, 'f0a1b2c3-d4e5-f6a7-b8c9-d0e1f2a3b4c5': {'id': 'f0a1b2c3-d4e5-f6a7-b8c9-d0e1f2a3b4c5', 'bundle_key': 'bundle_002', 'recipient_name': 'Jane Smith', 'message_body': \"Got it, I'll take a look.\", 'app_name': 'Slack', 'status': 'sent', 'created_at': '2023-10-27T10:05:00', 'updated_at': '2023-10-27T10:05:00'}}, 'actions': []}\n",
            "Phone DB: {'contacts': {'people/c1a2b3c4-d5e6-f7a8-b9c0-d1e2f3a4b5c6': {'resourceName': 'people/c1a2b3c4-d5e6-f7a8-b9c0-d1e2f3a4b5c6', 'etag': 'aBcDeFgHiJkLmNoPqRsTuVwXyZ', 'names': [{'givenName': 'John', 'familyName': 'Doe'}], 'emailAddresses': [{'value': 'john.doe@example.com', 'type': 'home', 'primary': True}], 'phoneNumbers': [{'value': '+14155552671', 'type': 'mobile', 'primary': True}, {'value': '+14155552672', 'type': 'work', 'primary': False}], 'organizations': [{'name': 'Google', 'title': 'Software Engineer', 'department': None, 'primary': False}]}, 'people/19876543210@s.whatsapp.net': {'resourceName': 'people/19876543210@s.whatsapp.net', 'etag': 'wHaTsApP1EtAg123456', 'names': [{'givenName': 'Jane', 'familyName': 'Doe'}], 'emailAddresses': [], 'phoneNumbers': [{'value': '+14155552673', 'type': 'mobile', 'primary': True}], 'organizations': [], 'whatsapp': {'jid': '19876543210@s.whatsapp.net', 'name_in_address_book': 'Jane Doe', 'profile_name': 'Jane D.', 'phone_number': '+19876543210', 'is_whatsapp_user': True}}, 'people/15554443333@s.whatsapp.net': {'resourceName': 'people/15554443333@s.whatsapp.net', 'etag': 'wHaTsApP1EtAg654321', 'names': [{'givenName': 'Project', 'familyName': 'Team'}], 'emailAddresses': [], 'phoneNumbers': [{'value': '+14155552674', 'type': 'mobile', 'primary': False}], 'organizations': [], 'whatsapp': {'jid': '15554443333@s.whatsapp.net', 'name_in_address_book': 'Project Team', 'profile_name': 'Team Updates', 'phone_number': '+15554443333', 'is_whatsapp_user': True}}, 'people/c3a4b5c6-d7e8-f9a0-b1c2-d3e4f5a6b7c8': {'resourceName': 'people/c3a4b5c6-d7e8-f9a0-b1c2-d3e4f5a6b7c8', 'etag': 'aBcDeFgHiJkLmNoPqRsTugidls', 'names': [{'givenName': 'Michael', 'familyName': 'Rodriguez'}], 'emailAddresses': [{'value': 'michael.rodriguez@techcorp.com', 'type': 'work', 'primary': True}, {'value': 'mike.rodriguez@gmail.com', 'type': 'home', 'primary': False}], 'phoneNumbers': [{'value': '+14155550123', 'type': 'mobile', 'primary': True}, {'value': '+14155550124', 'type': 'work', 'primary': False}], 'organizations': [{'name': 'TechCorp Solutions', 'title': 'Senior Software Engineer', 'department': 'Engineering', 'primary': True}], 'phone': {'contact_id': 'c3a4b5c6-d7e8-f9a0-b1c2-d3e4f5a6b7c8', 'contact_name': 'Michael Rodriguez', 'recipient_type': 'CONTACT', 'contact_photo_url': None, 'contact_endpoints': [{'endpoint_type': 'PHONE_NUMBER', 'endpoint_value': '+14155550123', 'endpoint_label': 'mobile'}, {'endpoint_type': 'PHONE_NUMBER', 'endpoint_value': '+14155550124', 'endpoint_label': 'work'}]}}, 'people/c1a2b3c4-d5e6-f7a8-b9c0-d1e2f3a4b5c9': {'resourceName': 'people/c1a2b3c4-d5e6-f7a8-b9c0-d1e2f3a4b5c6', 'etag': 'aBcDeFgHiJkLmNoPqRsTuVwXyZ', 'names': [{'givenName': 'Richard', 'familyName': 'Doe'}], 'emailAddresses': [], 'phoneNumbers': [{'value': '+14155552675', 'type': 'mobile', 'primary': True}], 'organizations': [], 'phone': {'contact_id': 'contact_1', 'contact_name': 'Richard Doe', 'contact_photo_url': None, 'contact_endpoints': [{'endpoint_type': 'PHONE_NUMBER', 'endpoint_value': '+14155552675', 'endpoint_label': 'mobile'}]}}, 'people/c9d0e1f2-a3b4-c5d6-e7f8-a9b0c1d2e3f4': {'resourceName': 'people/c9d0e1f2-a3b4-c5d6-e7f8-a9b0c1d2e3f4', 'etag': 'zYxWvUtSrQpOnMlKjIhGfEdCbA', 'names': [{'givenName': 'Jane', 'familyName': 'Smith'}], 'emailAddresses': [], 'phoneNumbers': [{'value': '+14155552676', 'type': 'work', 'primary': True}], 'organizations': [], 'phone': {'contact_id': 'c9d0e1f2-a3b4-c5d6-e7f8-a9b0c1d2e3f4', 'contact_name': 'Jane Smith', 'contact_photo_url': 'https://example.com/jane_photo.jpg', 'contact_endpoints': [{'endpoint_type': 'PHONE_NUMBER', 'endpoint_value': '+14155552676', 'endpoint_label': 'work'}]}}, 'people/c7d8e9f0-a1b2-c3d4-e5f6-a7b8c9d0e1f2': {'resourceName': 'people/c7d8e9f0-a1b2-c3d4-e5f6-a7b8c9d0e1f2', 'etag': 'pQrStUvWxYzAbCdEfGhIjKlMn', 'names': [{'givenName': 'Robert', 'familyName': 'Johnson'}], 'emailAddresses': [], 'phoneNumbers': [{'value': '+14155552677', 'type': 'mobile', 'primary': True}, {'value': '+14155552678', 'type': 'home'}], 'organizations': [], 'phone': {'contact_id': 'c7d8e9f0-a1b2-c3d4-e5f6-a7b8c9d0e1f2', 'contact_name': 'Robert Johnson', 'contact_photo_url': None, 'contact_endpoints': [{'endpoint_type': 'PHONE_NUMBER', 'endpoint_value': '+14155552677', 'endpoint_label': 'mobile'}, {'endpoint_type': 'PHONE_NUMBER', 'endpoint_value': '+14155552678', 'endpoint_label': 'home'}]}}, 'people/c9d0e1f2-a3b4-c5d6-e7f8-a9b0c1d2e3f8': {'resourceName': 'people/c9d0e1f2-a3b4-c5d6-e7f8-a9b0c1d2e3f4', 'etag': 'mNoPqRsTuVwXyZaBcDeFgHiJk', 'names': [{'givenName': 'Emily', 'familyName': 'Davis'}], 'emailAddresses': [], 'phoneNumbers': [{'value': '+14155552679', 'type': 'mobile', 'primary': True}], 'organizations': [], 'phone': {'contact_id': 'c9d0e1f2-a3b4-c5d6-e7f8-a9b0c1d2e3f4', 'contact_name': 'Emily Davis', 'contact_photo_url': 'https://example.com/emily_photo.jpg', 'contact_endpoints': [{'endpoint_type': 'PHONE_NUMBER', 'endpoint_value': '+14155552679', 'endpoint_label': 'mobile'}]}}}, 'businesses': {'business-berlin-office-789': {'contact_id': 'business-berlin-office-789', 'contact_name': 'Global Tech Inc. - Berlin Office', 'recipient_type': 'BUSINESS', 'address': 'Potsdamer Platz 1, 10785 Berlin, Germany', 'distance': None, 'contact_endpoints': [{'endpoint_type': 'PHONE_NUMBER', 'endpoint_value': '+493012345678', 'endpoint_label': 'main'}]}, 'business-tokyo-hq-203': {'contact_id': 'business-tokyo-hq-203', 'contact_name': 'Global Tech Inc. - Tokyo Head Office', 'recipient_type': 'BUSINESS', 'address': '2 Chome-2-1 Marunouchi, Chiyoda City, Tokyo 100-0005, Japan', 'distance': None, 'contact_endpoints': [{'endpoint_type': 'PHONE_NUMBER', 'endpoint_value': '+81312345678', 'endpoint_label': 'reception'}]}}, 'special_contacts': {'special-voicemail-000': {'contact_id': 'special-voicemail-000', 'contact_name': 'Voicemail', 'recipient_type': 'VOICEMAIL', 'contact_endpoints': [{'endpoint_type': 'PHONE_NUMBER', 'endpoint_value': '*86', 'endpoint_label': 'voicemail'}]}}, 'call_history': {'37553960-0386-476d-917d-21d5cb5a495d': {'call_id': '37553960-0386-476d-917d-21d5cb5a495d', 'timestamp': 1751368467.6458926, 'phone_number': '+12125550111', 'recipient_name': 'Alex Ray', 'recipient_photo_url': 'https://example.com/photos/alex.jpg', 'on_speakerphone': False, 'status': 'completed'}, '6a3cac0f-4937-4d0f-8453-7a33fb40484e': {'call_id': '6a3cac0f-4937-4d0f-8453-7a33fb40484e', 'timestamp': 1751368467.6462147, 'phone_number': '+14155552675', 'recipient_name': 'John Doe', 'recipient_photo_url': None, 'on_speakerphone': True, 'status': 'completed'}, 'ee106a9d-ec76-4396-b3d4-10633d4a7eba': {'call_id': 'ee106a9d-ec76-4396-b3d4-10633d4a7eba', 'timestamp': 1751369096.7463174, 'phone_number': '+12125550111', 'recipient_name': 'Alex Ray', 'recipient_photo_url': 'https://example.com/photos/alex.jpg', 'on_speakerphone': False, 'status': 'completed'}, '849f902e-6fe3-4e2c-bbd9-8e44e0c56fdc': {'call_id': '849f902e-6fe3-4e2c-bbd9-8e44e0c56fdc', 'timestamp': 1751369096.7467015, 'phone_number': '+14155552675', 'recipient_name': 'John Doe', 'recipient_photo_url': None, 'on_speakerphone': True, 'status': 'completed'}}, 'prepared_calls': {'020960e1-c4ce-48ca-b876-110cf33f85b5': {'call_id': '020960e1-c4ce-48ca-b876-110cf33f85b5', 'timestamp': 1751368467.6466134, 'recipients': [{'recipient_name': 'Casey Lee', 'recipient_photo_url': None, 'recipient_type': 'CONTACT', 'address': None, 'distance': None, 'endpoints': [{'type': 'PHONE_NUMBER', 'value': '+447700900222', 'label': 'mobile'}, {'type': 'PHONE_NUMBER', 'value': '+442079460333', 'label': 'work'}]}, {'recipient_name': 'Global Tech Inc. - Berlin Office', 'recipient_photo_url': None, 'recipient_type': 'BUSINESS', 'address': 'Potsdamer Platz 1, 10785 Berlin, Germany', 'distance': None, 'endpoints': [{'type': 'PHONE_NUMBER', 'value': '+493012345678', 'label': 'main'}]}]}, 'c206a007-4395-4185-b51f-7f653d927bb2': {'call_id': 'c206a007-4395-4185-b51f-7f653d927bb2', 'timestamp': 1751369096.7471406, 'recipients': [{'recipient_name': 'Casey Lee', 'recipient_photo_url': None, 'recipient_type': 'CONTACT', 'address': None, 'distance': None, 'endpoints': [{'type': 'PHONE_NUMBER', 'value': '+447700900222', 'label': 'mobile'}, {'type': 'PHONE_NUMBER', 'value': '+442079460333', 'label': 'work'}]}, {'recipient_name': 'Global Tech Inc. - Berlin Office', 'recipient_photo_url': None, 'recipient_type': 'BUSINESS', 'address': 'Potsdamer Platz 1, 10785 Berlin, Germany', 'distance': None, 'endpoints': [{'type': 'PHONE_NUMBER', 'value': '+493012345678', 'label': 'main'}]}]}}, 'recipient_choices': {'68f45f13-a545-460a-bea5-220bcf987d92': {'call_id': '68f45f13-a545-460a-bea5-220bcf987d92', 'timestamp': 1751368467.6469193, 'recipient_options': [{'contact_name': 'Casey Lee', 'contact_photo_url': None, 'recipient_type': 'CONTACT', 'address': None, 'distance': None, 'endpoint': {'type': 'PHONE_NUMBER', 'value': '+447700900222', 'label': 'mobile'}}, {'contact_name': 'Casey Lee', 'contact_photo_url': None, 'recipient_type': 'CONTACT', 'address': None, 'distance': None, 'endpoint': {'type': 'PHONE_NUMBER', 'value': '+442079460333', 'label': 'work'}}]}, '000c775a-00f7-46f7-beb6-1cc20d7fd613': {'call_id': '000c775a-00f7-46f7-beb6-1cc20d7fd613', 'timestamp': 1751369096.747588, 'recipient_options': [{'contact_name': 'Hana Tanaka', 'contact_photo_url': None, 'recipient_type': 'CONTACT', 'address': None, 'distance': None, 'endpoint': {'type': 'PHONE_NUMBER', 'value': '+819012345678', 'label': 'mobile'}}, {'contact_name': 'Lucas Costa', 'contact_photo_url': None, 'recipient_type': 'CONTACT', 'address': None, 'distance': None, 'endpoint': {'type': 'PHONE_NUMBER', 'value': '+5511987654321', 'label': 'mobile'}}]}}, 'not_found_records': {'8baa85bf-c88d-4255-87ef-7772c6d6b153': {'call_id': '8baa85bf-c88d-4255-87ef-7772c6d6b153', 'timestamp': 1751368467.6472285, 'contact_name': 'Unknown Person'}, 'da29eb6e-2bda-4378-932b-1fca4caa489d': {'call_id': 'da29eb6e-2bda-4378-932b-1fca4caa489d', 'timestamp': 1751368467.6475549, 'contact_name': None}, '7dcd1fc2-ec9a-4080-bfbf-081252b92d0b': {'call_id': '7dcd1fc2-ec9a-4080-bfbf-081252b92d0b', 'timestamp': 1751369096.7480376, 'contact_name': 'Unknown Person'}, '271f76d1-ff37-4f4d-8d96-1596f20523b0': {'call_id': '271f76d1-ff37-4f4d-8d96-1596f20523b0', 'timestamp': 1751369096.7484565, 'contact_name': None}}}\n"
          ]
        }
      ],
      "source": [
        "import google_people\n",
        "import clock\n",
        "import notifications\n",
        "import phone\n",
        "import device_setting\n",
        "import re\n",
        "import freezegun\n",
        "from freezegun import freeze_time\n",
        "from datetime import datetime, date, timedelta\n",
        "\n",
        "\n",
        "\n",
        "def start_frozen_time(current_date):\n",
        "    \"\"\"\n",
        "    Starts a frozen time context using freezegun.\n",
        "    \"\"\"\n",
        "    ignore_pkgs = {\"ipykernel\", \"ipyparallel\", \"ipython\", \"jupyter-server\"}\n",
        "    freezegun.configure(extend_ignore_list=list(ignore_pkgs))\n",
        "    freezer = freeze_time(current_date)\n",
        "    freezer.start()\n",
        "    print(\"--> FROZEN TIME \", datetime.now())\n",
        "    return freezer\n",
        "\n",
        "\n",
        "# Variable\n",
        "current_date = \"2025-07-21\"\n",
        "start_frozen_time(current_date)\n",
        "current_date_dt = datetime.strptime(current_date, \"%Y-%m-%d\").date()\n",
        "\n",
        "# Initialize DBs\n",
        "clock.SimulationEngine.db.load_state(\"/content/DBs/ClockDefaultDB.json\")\n",
        "google_people.SimulationEngine.db.load_state(\"/content/DBs/GooglePeopleDefaultDB.json\")\n",
        "notifications.SimulationEngine.db.load_state(\"/content/DBs/NotificationsDefaultDB.json\")\n",
        "phone.SimulationEngine.db.load_state(\"/content/DBs/PhoneDefaultDB.json\")\n",
        "device_setting.SimulationEngine.db.load_state(\"/content/DBs/DeviceSettingDefaultDB.json\")\n",
        "\n",
        "# Add Riya Sharma as a contact\n",
        "riya_details = {\n",
        "    \"names\": [\n",
        "        {\n",
        "            \"displayName\": \"Riya Sharma\",\n",
        "            \"givenName\": \"Riya\",\n",
        "            \"familyName\": \"Sharma\"\n",
        "        }\n",
        "    ],\n",
        "    \"emailAddresses\": [\n",
        "        {\n",
        "            \"value\": \"riya.sharma@gmail.com\"\n",
        "        }\n",
        "    ],\n",
        "    \"phoneNumbers\": [\n",
        "        {\n",
        "            \"value\": \"+1-202-555-0173\",\n",
        "            \"type\": \"mobile\"\n",
        "        },\n",
        "        {\n",
        "            \"value\": \"+1-202-555-0199\",\n",
        "            \"type\": \"work\"\n",
        "        }\n",
        "    ],\n",
        "    \"userDefined\": [\n",
        "        {\n",
        "            \"key\": \"Nickname\",\n",
        "            \"value\": \"Ri\"\n",
        "        }\n",
        "    ]\n",
        "}\n",
        "\n",
        "google_people.create_contact(riya_details)\n",
        "\n",
        "\n",
        "# Print the DBs\n",
        "print(f\"Clock DB: {clock.SimulationEngine.db.DB}\")\n",
        "print(f\"Google People DB: {google_people.SimulationEngine.db.DB}\")\n",
        "print(f\"Notifications DB: {notifications.SimulationEngine.db.DB}\")\n",
        "print(f\"Phone DB: {phone.SimulationEngine.db.DB}\")"
      ]
    },
    {
      "cell_type": "markdown",
      "id": "fbf6a66e",
      "metadata": {
        "id": "fbf6a66e"
      },
      "source": [
        "# Initial Assertion\n",
        "1. Assert that no 6:00 AM alarm is set for tomorrow.\n",
        "2. Assert that there are no WhatsApp notifications from Riya.\n",
        "3. Assert that Riya is a contact.\n",
        "4. Assert that no call has been placed to Riya yet.\n",
        "5. Assert that Do Not Disturb is Off."
      ]
    },
    {
      "cell_type": "code",
      "execution_count": null,
      "id": "dO6wf18VZXAW",
      "metadata": {
        "id": "dO6wf18VZXAW"
      },
      "outputs": [],
      "source": [
        "import notifications\n",
        "import google_people\n",
        "import phone\n",
        "import clock\n",
        "import device_setting\n",
        "from Scripts.assertions_utils import *\n",
        "from datetime import datetime, date, timedelta\n",
        "import re\n",
        "\n",
        "# Local variables\n",
        "name = \"Riya\"\n",
        "dnd_setting = \"DO_NOT_DISTURB\"\n",
        "expected_dnd_state = \"Off\"\n",
        "current_date = \"2025-07-21\"\n",
        "current_date_dt = datetime.strptime(current_date, \"%Y-%m-%d\").date()\n",
        "# 1. Assert that no 6:00 AM alarm is set for tomorrow\n",
        "tomorrow = current_date_dt + timedelta(days=1)\n",
        "formatted_tmrw = tomorrow.strftime(\"%Y-%m-%d\")\n",
        "alarms = clock.show_matching_alarms(query=\"6:00 AM\", alarm_type=\"ACTIVE\", date=formatted_tmrw)\n",
        "alarms_exists = not alarms.get(\"alarm\", [])\n",
        "assert alarms_exists, \"Alarm at 6:00 AM already exists for tomorrow.\"\n",
        "\n",
        "# 2. Assert that there are no WhatsApp notifications from Riya.\n",
        "unread_notifications = notifications.get_notifications(app_name=\"WhatsApp\", unread=True)\n",
        "pattern = re.compile(rf\"\\b{name}\\b\", re.IGNORECASE)\n",
        "# notification_found = any(bool(pattern.search(bundle['sender']['name'].lower())) for bundle in unread_notifications['bundled_message_notifications'] if compare_strings(bundle['localized_app_name'], 'whatsapp'))\n",
        "notification_found = any(compare_is_string_subset(name, bundle['sender']['name']) for bundle in unread_notifications['bundled_message_notifications'] if compare_strings(bundle['localized_app_name'], 'whatsapp'))\n",
        "assert not notification_found, f\"There are notifications from {name}, expected to have None.\"\n",
        "\n",
        "# 3. Assert that Riya is a contact.\n",
        "contact_list = google_people.list_connections()\n",
        "# contact_found = any(bool(pattern.search(n.get('displayName', '').lower())) for c in contact_list['connections'] for n in c.get('names', []))\n",
        "contact_found = any(compare_is_string_subset(name, n.get('displayName', '')) for c in contact_list.get('connections',[]) for n in c.get('names', []))\n",
        "assert contact_found, f\"There are no contacts for name {name}, expected to have it.\"\n",
        "\n",
        "# 4. Assert that no call has been placed to Riya yet.\n",
        "call_history = phone.utils.get_call_history()\n",
        "# call_found = any(bool(pattern.search(call['recipient_name'].lower())) for call in call_history.values())\n",
        "call_found = any(compare_is_string_subset(name, call.get('recipient_name','')) for call in call_history.values())\n",
        "assert not call_found, f\"There are calls to {name}, expected to have None.\"\n",
        "\n",
        "# 5. Assert that Do Not Disturb is Off.\n",
        "dnd_off = compare_strings(device_setting.get(setting_type= dnd_setting).get('on_or_off',''), expected_dnd_state)\n",
        "assert dnd_off, f\"Do Not Disturb is not {expected_dnd_state}, expected to have it.\""
      ]
    },
    {
      "cell_type": "markdown",
      "id": "148b59f9",
      "metadata": {
        "id": "148b59f9"
      },
      "source": [
        "# Action\n"
      ]
    },
    {
      "cell_type": "markdown",
      "id": "9eOLzDZSiA8W",
      "metadata": {
        "id": "9eOLzDZSiA8W"
      },
      "source": [
        "**Simulated User**: Schedule Alarm for 6 AM tomorrow."
      ]
    },
    {
      "cell_type": "code",
      "execution_count": null,
      "id": "jONigoVEI6DL",
      "metadata": {
        "id": "jONigoVEI6DL"
      },
      "outputs": [],
      "source": [
        "# proto_ignore\n",
        "import clock\n",
        "import phone\n",
        "import notifications\n",
        "import google_people"
      ]
    },
    {
      "cell_type": "code",
      "execution_count": null,
      "id": "HY2DHPVPJCBg",
      "metadata": {
        "colab": {
          "base_uri": "https://localhost:8080/"
        },
        "id": "HY2DHPVPJCBg",
        "outputId": "cba70047-0c65-4a7e-ad29-0dd97bc110ce"
      },
      "outputs": [
        {
          "data": {
            "text/plain": [
              "{'message': 'Alarm created successfully for 6:00 AM',\n",
              " 'action_card_content_passthrough': None,\n",
              " 'card_id': None,\n",
              " 'alarm': [{'time_of_day': '6:00 AM',\n",
              "   'alarm_id': 'ALARM-6',\n",
              "   'label': '',\n",
              "   'state': 'ACTIVE',\n",
              "   'date': '2025-07-22',\n",
              "   'recurrence': '',\n",
              "   'fire_time': '2025-07-22T06:00:00'}],\n",
              " 'timer': None}"
            ]
          },
          "execution_count": 6,
          "metadata": {},
          "output_type": "execute_result"
        }
      ],
      "source": [
        "clock.create_alarm(\n",
        "    time=\"6:00\",\n",
        "    date='2025-07-22'\n",
        ")"
      ]
    },
    {
      "cell_type": "markdown",
      "id": "6_3lRu2Yx-CH",
      "metadata": {
        "id": "6_3lRu2Yx-CH"
      },
      "source": [
        "**Action Agent**: I have successfully Scheduled alarm for 6 AM tomorrow.\n",
        "\n",
        "**Simulated User**: Turn on Do Not Disturb so I’m not interrupted.\n",
        "\n",
        "**Action Agent**: For How long would you like to enable Do Not Disturb?\n",
        "\n",
        "**Simulated User**: Actually, don't enable it. Any new WhatsApp message from Riya?"
      ]
    },
    {
      "cell_type": "code",
      "execution_count": null,
      "id": "k1-mM-oUIY7j",
      "metadata": {
        "colab": {
          "base_uri": "https://localhost:8080/"
        },
        "id": "k1-mM-oUIY7j",
        "outputId": "c069c3fb-1a05-4d57-f839-6164594bfcf3"
      },
      "outputs": [
        {
          "data": {
            "text/plain": [
              "{'action_card_content_passthrough': None,\n",
              " 'card_id': None,\n",
              " 'bundled_message_notifications': [],\n",
              " 'is_permission_denied': False,\n",
              " 'status_code': 'OK',\n",
              " 'skip_reply_disclaimer': None,\n",
              " 'total_message_count': 0}"
            ]
          },
          "execution_count": 7,
          "metadata": {},
          "output_type": "execute_result"
        }
      ],
      "source": [
        "# Checking unread notifications\n",
        "notifications.get_notifications(app_name=\"WhatsApp\", unread=True)"
      ]
    },
    {
      "cell_type": "markdown",
      "id": "ZiORCP3OCC7L",
      "metadata": {
        "id": "ZiORCP3OCC7L"
      },
      "source": [
        "**Action Agent**: No, there are no new messages from her.\n",
        "\n",
        "**Simulated User**: Okay, Call her\n"
      ]
    },
    {
      "cell_type": "code",
      "execution_count": null,
      "id": "uf25XI-EIK1u",
      "metadata": {
        "colab": {
          "base_uri": "https://localhost:8080/"
        },
        "id": "uf25XI-EIK1u",
        "outputId": "9b7e7a68-4aee-4165-dff5-14b662b2d617"
      },
      "outputs": [
        {
          "data": {
            "text/plain": [
              "{'connections': [{'resourceName': 'people/contact_001',\n",
              "   'etag': 'etag_contact_001',\n",
              "   'names': [{'metadata': {'primary': True,\n",
              "      'source': {'type': 'CONTACT', 'id': 'contact_001'}},\n",
              "     'displayName': 'Alice Johnson',\n",
              "     'familyName': 'Johnson',\n",
              "     'givenName': 'Alice'}],\n",
              "   'emailAddresses': [{'metadata': {'primary': True,\n",
              "      'source': {'type': 'CONTACT', 'id': 'contact_001'}},\n",
              "     'value': 'alice.johnson@example.com',\n",
              "     'type': 'work'}],\n",
              "   'phoneNumbers': [{'metadata': {'primary': True,\n",
              "      'source': {'type': 'CONTACT', 'id': 'contact_001'}},\n",
              "     'value': '+15552345678',\n",
              "     'type': 'mobile'}],\n",
              "   'organizations': [{'metadata': {'primary': True,\n",
              "      'source': {'type': 'CONTACT', 'id': 'contact_001'}},\n",
              "     'name': 'Design Studio',\n",
              "     'title': 'Senior Designer',\n",
              "     'type': 'work'}],\n",
              "   'created': '2023-02-10T09:15:00Z',\n",
              "   'updated': '2024-01-10T16:30:00Z'},\n",
              "  {'resourceName': 'people/contact_002',\n",
              "   'etag': 'etag_contact_002',\n",
              "   'names': [{'metadata': {'primary': True,\n",
              "      'source': {'type': 'CONTACT', 'id': 'contact_002'}},\n",
              "     'displayName': 'Bob Smith',\n",
              "     'familyName': 'Smith',\n",
              "     'givenName': 'Bob',\n",
              "     'displayNameLastFirst': 'Smith, Bob'}],\n",
              "   'emailAddresses': [{'metadata': {'primary': True,\n",
              "      'source': {'type': 'CONTACT', 'id': 'contact_002'}},\n",
              "     'value': 'bob.smith@company.com',\n",
              "     'type': 'work'}],\n",
              "   'phoneNumbers': [{'metadata': {'primary': True,\n",
              "      'source': {'type': 'CONTACT', 'id': 'contact_002'}},\n",
              "     'value': '+15553456789',\n",
              "     'type': 'work'}],\n",
              "   'organizations': [{'metadata': {'primary': True,\n",
              "      'source': {'type': 'CONTACT', 'id': 'contact_002'}},\n",
              "     'name': 'Marketing Inc',\n",
              "     'title': 'Marketing Manager',\n",
              "     'type': 'work'}],\n",
              "   'created': '2023-03-20T11:45:00Z',\n",
              "   'updated': '2024-01-05T13:15:00Z'},\n",
              "  {'resourceName': 'people/contact_003',\n",
              "   'etag': 'etag_contact_003',\n",
              "   'names': [{'metadata': {'primary': True,\n",
              "      'source': {'type': 'CONTACT', 'id': 'contact_003'}},\n",
              "     'displayName': 'Carol Wilson',\n",
              "     'familyName': 'Wilson',\n",
              "     'givenName': 'Carol',\n",
              "     'displayNameLastFirst': 'Wilson, Carol'}],\n",
              "   'emailAddresses': [{'metadata': {'primary': True,\n",
              "      'source': {'type': 'CONTACT', 'id': 'contact_003'}},\n",
              "     'value': 'carol.wilson@startup.com',\n",
              "     'type': 'work'}],\n",
              "   'phoneNumbers': [{'metadata': {'primary': True,\n",
              "      'source': {'type': 'CONTACT', 'id': 'contact_003'}},\n",
              "     'value': '+15554567890',\n",
              "     'type': 'mobile'}],\n",
              "   'organizations': [{'metadata': {'primary': True,\n",
              "      'source': {'type': 'CONTACT', 'id': 'contact_003'}},\n",
              "     'name': 'Innovation Labs',\n",
              "     'title': 'Product Manager',\n",
              "     'type': 'work'}],\n",
              "   'created': '2023-04-15T14:20:00Z',\n",
              "   'updated': '2024-01-12T10:45:00Z'},\n",
              "  {'resourceName': 'people/349ec50b-bfcb-4c15-bc85-cac40ad06f3a',\n",
              "   'etag': 'etag_f0644c02-df41-411a-b086-ff2098aca0c9',\n",
              "   'names': [{'metadata': None,\n",
              "     'displayName': 'Riya Sharma',\n",
              "     'displayNameLastFirst': None,\n",
              "     'familyName': 'Sharma',\n",
              "     'givenName': 'Riya',\n",
              "     'honorificPrefix': None,\n",
              "     'honorificSuffix': None,\n",
              "     'middleName': None,\n",
              "     'phoneticFamilyName': None,\n",
              "     'phoneticGivenName': None,\n",
              "     'phoneticHonorificPrefix': None,\n",
              "     'phoneticHonorificSuffix': None,\n",
              "     'phoneticMiddleName': None,\n",
              "     'unstructuredName': None}],\n",
              "   'emailAddresses': [{'metadata': None,\n",
              "     'value': 'riya.sharma@gmail.com',\n",
              "     'type': None,\n",
              "     'displayName': None,\n",
              "     'formattedType': None}],\n",
              "   'phoneNumbers': [{'metadata': None,\n",
              "     'value': '+12025550173',\n",
              "     'type': <PhoneType.MOBILE: 'mobile'>,\n",
              "     'formattedType': None,\n",
              "     'canonicalForm': None},\n",
              "    {'metadata': None,\n",
              "     'value': '+12025550199',\n",
              "     'type': <PhoneType.WORK: 'work'>,\n",
              "     'formattedType': None,\n",
              "     'canonicalForm': None}],\n",
              "   'addresses': [],\n",
              "   'organizations': [],\n",
              "   'birthdays': [],\n",
              "   'photos': [],\n",
              "   'urls': [],\n",
              "   'userDefined': [{'metadata': None, 'key': 'Nickname', 'value': 'Ri'}],\n",
              "   'created': '2025-07-21T00:00:00Z',\n",
              "   'updated': '2025-07-21T00:00:00Z'}],\n",
              " 'nextPageToken': None,\n",
              " 'totalItems': 4,\n",
              " 'nextSyncToken': None}"
            ]
          },
          "execution_count": 8,
          "metadata": {},
          "output_type": "execute_result"
        }
      ],
      "source": [
        "# Checking contact list for Riya\n",
        "google_people.list_connections()"
      ]
    },
    {
      "cell_type": "markdown",
      "id": "ttbraSFeOHNO",
      "metadata": {
        "id": "ttbraSFeOHNO"
      },
      "source": [
        "**Action Agent**: Should I call her mobile or work?\n",
        "\n",
        "**Simulated User**: Call her mobile.\n",
        "\n",
        "**Action Agent**: Via Phone or Whatsapp?\n",
        "\n",
        "**Simulated User**: Phone."
      ]
    },
    {
      "cell_type": "code",
      "execution_count": null,
      "id": "h_Fesx6kJ9xQ",
      "metadata": {
        "colab": {
          "base_uri": "https://localhost:8080/"
        },
        "id": "h_Fesx6kJ9xQ",
        "outputId": "9ad152fc-3a13-4d3d-bca1-1634448f741e"
      },
      "outputs": [
        {
          "data": {
            "text/plain": [
              "{'status': 'success',\n",
              " 'call_id': 'ef4e3a42-e9a6-4d56-a206-5fe8109456eb',\n",
              " 'emitted_action_count': 1,\n",
              " 'templated_tts': 'Calling to Riya Sharma at +12025550173.',\n",
              " 'action_card_content_passthrough': 'Call completed successfully to +12025550173'}"
            ]
          },
          "execution_count": 9,
          "metadata": {},
          "output_type": "execute_result"
        }
      ],
      "source": [
        "phone.make_call(recipient_name=\"Riya Sharma\",recipient_phone_number=\"+12025550173\")"
      ]
    },
    {
      "cell_type": "markdown",
      "id": "59ion3i6OTfQ",
      "metadata": {
        "id": "59ion3i6OTfQ"
      },
      "source": [
        "**Action Agent**: Okay, calling Riya on her mobile phone."
      ]
    },
    {
      "cell_type": "markdown",
      "id": "DT-RVOFfn1A7",
      "metadata": {
        "id": "DT-RVOFfn1A7"
      },
      "source": [
        "# Final Assertion\n",
        "1. Assert that the 6:00 AM alarm is set for tomorrow.\n",
        "2. Assert that call has been placed to Riya.\n",
        "3. Assert that call has been placed to Riya on her mobile\n",
        "4. Assert that Do Not Disturb is Off."
      ]
    },
    {
      "cell_type": "code",
      "execution_count": null,
      "id": "qRIFQVvNaqQs",
      "metadata": {
        "id": "qRIFQVvNaqQs"
      },
      "outputs": [],
      "source": [
        "import phone\n",
        "import clock\n",
        "import google_people\n",
        "import device_setting\n",
        "from datetime import datetime, timedelta\n",
        "from Scripts.assertions_utils import *\n",
        "\n",
        "# Variable\n",
        "dnd_setting = \"DO_NOT_DISTURB\"\n",
        "current_date = \"2025-07-21\"\n",
        "current_date_dt = datetime.strptime(current_date, \"%Y-%m-%d\").date()\n",
        "\n",
        "# Local Variable\n",
        "name = \"Riya\"\n",
        "expected_phone_type = \"mobile\"\n",
        "expected_dnd_state = \"Off\"\n",
        "\n",
        "# 1. Assert that an alarm at 6:00 AM now exists for tomorrow.\n",
        "tomorrow = current_date_dt + timedelta(days=1)\n",
        "formatted_tmrw = tomorrow.strftime(\"%Y-%m-%d\")\n",
        "alarms = clock.show_matching_alarms(query=\"6:00 AM\", alarm_type=\"ACTIVE\", date=formatted_tmrw)\n",
        "alarm_exists = bool(alarms.get(\"alarm\", []))\n",
        "assert alarm_exists, \"Alarm at 6:00 AM not found for tomorrow.\"\n",
        "\n",
        "# 2. Assert that call has been placed to Riya.\n",
        "call_history = phone.utils.get_call_history()\n",
        "call_found = any(\n",
        "    compare_is_string_subset(name, call.get('recipient_name', ''))\n",
        "    for call in call_history.values()\n",
        ")\n",
        "assert call_found, f\"There are no calls to {name}, expected to have it.\"\n",
        "\n",
        "# 3. Assert that call has been placed to Riya on her mobile\n",
        "call_on_mobile = False\n",
        "\n",
        "google_people.search_people(name).get('results',[])[0].get('phoneNumbers')\n",
        "\n",
        "for phone_number in google_people.search_people(name).get('results',[])[0].get('phoneNumbers',[]):\n",
        "  if compare_is_string_subset(expected_phone_type, phone_number.get('type')):\n",
        "    riya_mobile_num = phone_number.get('value','')\n",
        "\n",
        "for call in call_history.values():\n",
        "  if compare_is_string_subset(name, call.get('recipient_name', '')):\n",
        "    if compare_strings(riya_mobile_num, call.get('phone_number', '')):\n",
        "      call_on_mobile = True\n",
        "\n",
        "assert call_on_mobile, f\"There are no calls to {name} on {expected_phone_type}, expected to have it.\"\n",
        "\n",
        "# 4. Assert that Do Not Disturb is Off.\n",
        "dnd_off = compare_strings(device_setting.get(setting_type= dnd_setting).get('on_or_off',''), expected_dnd_state)\n",
        "assert dnd_off, f\"Do Not Disturb is not {expected_dnd_state}, expected to have it.\""
      ]
    }
  ],
  "metadata": {
    "colab": {
      "collapsed_sections": [
        "1e802be3",
        "be1310d9",
        "5c1d5d70",
        "fbf6a66e"
      ],
      "provenance": []
    },
    "kernelspec": {
      "display_name": "Python 3",
      "name": "python3"
    },
    "language_info": {
      "name": "python"
    }
  },
  "nbformat": 4,
  "nbformat_minor": 5
}