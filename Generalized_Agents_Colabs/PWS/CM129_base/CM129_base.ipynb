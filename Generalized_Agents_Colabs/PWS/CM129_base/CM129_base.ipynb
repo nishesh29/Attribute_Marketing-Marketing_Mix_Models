{
  "cells": [
    {
      "cell_type": "markdown",
      "metadata": {
        "id": "CRkjGx0hLkNT"
      },
      "source": [
        "**Sample ID**: CM129_base\n",
        "\n",
        "\n",
        "**Query**: Turn on the living room TV if the toys have been put back in their totes in Jimmy’s room.\n",
        "\n",
        "\n",
        "**DB Type**: Base Case\n",
        "\n",
        "\n",
        "**Case Description**: Initially, the Jimmy Room Cam exists and monitors whether the toys in Jimmy’s room are placed back in their totes. The Living Room TV is present in the system and is currently off.\n",
        "\n",
        "\n",
        "**Global/Context Variables:**\n",
        "\n",
        "**APIs:**\n",
        "- home_assistant\n",
        "- sdm"
      ]
    },
    {
      "cell_type": "markdown",
      "metadata": {
        "id": "2cvlB2sMN1DG"
      },
      "source": [
        "# Set Up"
      ]
    },
    {
      "cell_type": "markdown",
      "metadata": {
        "id": "W2F-cPpaN3fq"
      },
      "source": [
        "## Download relevant files"
      ]
    },
    {
      "cell_type": "code",
      "execution_count": null,
      "metadata": {
        "colab": {
          "base_uri": "https://localhost:8080/"
        },
        "id": "f-G-a9eWN4_v",
        "outputId": "12deec61-042f-40b5-e4ac-11d4fc3a8b80"
      },
      "outputs": [
        {
          "output_type": "stream",
          "name": "stdout",
          "text": [
            "Searching for APIs zip file with version 0.1.4 in folder: 1QpkAZxXhVFzIbm8qPGPRP1YqXEvJ4uD4...\n",
            "Found: APIs_V0.1.4.zip (ID: 1TnAaWGfVrMxWTilyhy46-Aue_bh0XkNk)\n",
            "Downloading APIs zip 1TnAaWGfVrMxWTilyhy46-Aue_bh0XkNk...\n",
            "Download progress: 100%\n",
            "Extracting /content/APIs_V0.1.4.zip...\n",
            "✅ /content/APIs\n",
            "✅ /content/DBs\n",
            "✅ /content/Scripts\n",
            "\n",
            "Downloading all files from pws_images_data Drive folder.\n",
            "Download progress: 78%\n",
            "Download progress: 100%\n",
            "Extracting images from /content/pws_images_data.zip to /content...\n"
          ]
        }
      ],
      "source": [
        "import io\n",
        "import os\n",
        "import sys\n",
        "import zipfile\n",
        "import shutil\n",
        "import re\n",
        "from google.colab import auth\n",
        "from googleapiclient.discovery import build\n",
        "from googleapiclient.http import MediaIoBaseDownload\n",
        "\n",
        "VERSION = \"0.1.4\"  # Pass the version of the API\n",
        "CONTENT_DIR = '/content'\n",
        "APIS_DIR = os.path.join(CONTENT_DIR, 'APIs')\n",
        "DBS_DIR = os.path.join(CONTENT_DIR, 'DBs')\n",
        "SCRIPTS_DIR = os.path.join(CONTENT_DIR, 'Scripts')\n",
        "FC_DIR = os.path.join(CONTENT_DIR, 'Schemas')\n",
        "ZIP_PATH = os.path.join(CONTENT_DIR, f'APIs_V{VERSION}.zip')\n",
        "\n",
        "APIS_FOLDER_ID = '1QpkAZxXhVFzIbm8qPGPRP1YqXEvJ4uD4'\n",
        "ITEMS_TO_EXTRACT = ['APIs/', 'DBs/', 'Scripts/', 'Schemas/']\n",
        "\n",
        "# Cleanup\n",
        "for path in [APIS_DIR, DBS_DIR, SCRIPTS_DIR, FC_DIR, ZIP_PATH]:\n",
        "    if os.path.exists(path):\n",
        "        if os.path.isdir(path):\n",
        "            shutil.rmtree(path)\n",
        "        else:\n",
        "            os.remove(path)\n",
        "\n",
        "# Auth\n",
        "auth.authenticate_user()\n",
        "drive_service = build('drive', 'v3')\n",
        "\n",
        "def download_drive_file(service, file_id, output_path, file_name=None, show_progress=True):\n",
        "    request = service.files().get_media(fileId=file_id)\n",
        "    with io.FileIO(output_path, 'wb') as fh:\n",
        "        downloader = MediaIoBaseDownload(fh, request)\n",
        "        done = False\n",
        "        while not done:\n",
        "            status, done = downloader.next_chunk()\n",
        "            if show_progress:\n",
        "                print(f\"Download progress: {int(status.progress() * 100)}%\")\n",
        "\n",
        "print(f\"Searching for APIs zip file with version {VERSION} in folder: {APIS_FOLDER_ID}...\")\n",
        "apis_file_id = None\n",
        "try:\n",
        "    query = f\"'{APIS_FOLDER_ID}' in parents and trashed=false\"\n",
        "    results = drive_service.files().list(q=query, fields=\"files(id, name)\").execute()\n",
        "    for file in results.get('files', []):\n",
        "        if file['name'].lower() == f'apis_v{VERSION.lower()}.zip':\n",
        "            apis_file_id = file['id']\n",
        "            print(f\"Found: {file['name']} (ID: {apis_file_id})\")\n",
        "            break\n",
        "except Exception as e:\n",
        "    print(f\"Error listing files: {e}\")\n",
        "\n",
        "if not apis_file_id:\n",
        "    sys.exit(f\"❌ APIs zip V{VERSION} not found.\")\n",
        "\n",
        "print(f\"Downloading APIs zip {apis_file_id}...\")\n",
        "download_drive_file(drive_service, apis_file_id, ZIP_PATH)\n",
        "\n",
        "print(f\"Extracting {ZIP_PATH}...\")\n",
        "with zipfile.ZipFile(ZIP_PATH, 'r') as zip_ref:\n",
        "    for member in zip_ref.namelist():\n",
        "        if any(member.startswith(p) for p in ITEMS_TO_EXTRACT):\n",
        "            zip_ref.extract(member, CONTENT_DIR)\n",
        "\n",
        "os.remove(ZIP_PATH)\n",
        "\n",
        "if os.path.exists(APIS_DIR):\n",
        "    sys.path.append(APIS_DIR)\n",
        "\n",
        "for p in [APIS_DIR, DBS_DIR, SCRIPTS_DIR]:\n",
        "    print(f\"{'✅' if os.path.exists(p) else '❌'} {p}\")\n",
        "\n",
        "# PWS: Copy pws_image_data folder in /content/pws_image_data\n",
        "print(f\"\\nDownloading all files from pws_images_data Drive folder.\")\n",
        "IMAGES_ZIP_ID = '1MlgE9LnFA221ARh9l4nbF1yGc215KDN_'\n",
        "IMAGES_ZIP_PATH = os.path.join(CONTENT_DIR, 'pws_images_data.zip')\n",
        "download_drive_file(drive_service, IMAGES_ZIP_ID, IMAGES_ZIP_PATH, file_name='pws_images_data.zip')\n",
        "\n",
        "print(f\"Extracting images from {IMAGES_ZIP_PATH} to {CONTENT_DIR}...\")\n",
        "try:\n",
        "    with zipfile.ZipFile(IMAGES_ZIP_PATH, 'r') as zip_ref:\n",
        "        zip_ref.extractall(CONTENT_DIR)\n",
        "\n",
        "except zipfile.BadZipFile:\n",
        "    print(f\"Error: The downloaded file at {IMAGES_ZIP_PATH} is not a valid zip file.\")\n",
        "    sys.exit(\"Invalid zip file downloaded.\")\n",
        "except Exception as e:\n",
        "    print(f\"An error occurred during extraction: {e}\")\n",
        "    sys.exit(\"Extraction failed.\")\n",
        "\n",
        "if os.path.exists(IMAGES_ZIP_PATH):\n",
        "    os.remove(IMAGES_ZIP_PATH)"
      ]
    },
    {
      "cell_type": "markdown",
      "metadata": {
        "id": "p7A-WJahE8P1"
      },
      "source": [
        "## Install Dependencies and Clone Repositories"
      ]
    },
    {
      "cell_type": "code",
      "execution_count": null,
      "metadata": {
        "colab": {
          "base_uri": "https://localhost:8080/"
        },
        "id": "QdpXos9wE_6y",
        "outputId": "4ad795d3-d457-463e-86b7-590adbe49600"
      },
      "outputs": [
        {
          "output_type": "stream",
          "name": "stdout",
          "text": [
            "Requirement already satisfied: uv in /usr/local/lib/python3.12/dist-packages (0.9.4)\n",
            "\u001b[2mUsing Python 3.12.12 environment at: /usr\u001b[0m\n",
            "\u001b[2mAudited \u001b[1m50 packages\u001b[0m \u001b[2min 100ms\u001b[0m\u001b[0m\n",
            "\u001b[2mUsing Python 3.12.12 environment at: /usr\u001b[0m\n",
            "\u001b[2mAudited \u001b[1m1 package\u001b[0m \u001b[2min 115ms\u001b[0m\u001b[0m\n"
          ]
        }
      ],
      "source": [
        "!pip install uv\n",
        "!uv pip install -r /content/APIs/requirements.txt\n",
        "!uv pip install jsonpath_ng"
      ]
    },
    {
      "cell_type": "markdown",
      "metadata": {
        "id": "PJZ41M3KN-jz"
      },
      "source": [
        "## Import APIs and initiate DBs"
      ]
    },
    {
      "cell_type": "code",
      "execution_count": null,
      "metadata": {
        "colab": {
          "base_uri": "https://localhost:8080/"
        },
        "id": "JJZsHEeLN_tT",
        "outputId": "593c7b8b-cf0b-4dc0-a54c-497a3a269621"
      },
      "outputs": [
        {
          "output_type": "stream",
          "name": "stdout",
          "text": [
            "Home Assistant DB: {'environment': {'home_assistant': {'devices': {'LIGHT_001': {'attributes': {'brightness': 1.0, 'company': 'Crompton', 'model': '4Ft.22W', 'serial_number': 'C145098', 'state': 'Off', 'supports_color': 'No'}, 'name': 'Living Room Light 1', 'type': 'Light'}, 'LIGHT_002': {'attributes': {'brightness': 1.0, 'company': 'Crompton', 'model': '4Ft.22W', 'serial_number': 'C567146', 'state': 'Off', 'supports_color': 'No'}, 'name': 'Living Room Light 2', 'type': 'Light'}, 'TV_001': {'attributes': {'brightness': 50, 'company': 'Samsung', 'is_muted': 'No', 'model': '65-inch QLED Smart TV', 'serial_number': 'SAM-65Q900', 'state': 'Off', 'volume': 20}, 'name': 'Living Room TV', 'type': 'tv'}, 'WIFI_001': {'attributes': {'company': 'TP-Link', 'max_speed': 'Up to 6 Gbps', 'model': 'ARCHER C6 (AC1200)', 'security_protocol': 'WPA3-Personal', 'serial_number': '255156382956', 'state': 'On', 'wifi_standard': 'Wi-Fi 6 (802.11ax)'}, 'name': 'TP-Link ARCHER C6', 'type': 'Wifi'}}}, 'sdm': {'devices': {'CAM_001': {'attributes': {'company': 'Google', 'model': 'Google Nest Cam Indoor', 'parent': 'enterprises/home-system-546237/structures/STRCT2/rooms/JIMMY_ROOM', 'serial_number': 'GN-I-987633', 'state': 'On'}, 'name': 'Jimmy Room Cam', 'type': 'Camera'}, 'CAM_002': {'attributes': {'company': 'Google', 'model': 'Google Nest Cam Indoor', 'parent': 'enterprises/home-system-546237/structures/STRCT2/rooms/LIVING_ROOM', 'serial_number': 'GN-I-07062500', 'state': 'On'}, 'name': 'Living Room', 'type': 'Camera'}, 'CAM_003': {'attributes': {'company': 'Google', 'model': 'Google Nest Cam IQ Outdoor', 'parent': 'enterprises/home-system-546237/structures/STRCT1/rooms/OUT1', 'serial_number': 'GNC-IQ-O-19000', 'state': 'On'}, 'name': 'Backyard Cam', 'type': 'Camera'}}, 'structures': [{'name': 'enterprises/home-system-546237/structures/STRCT1', 'traits': {'sdm.structures.traits.Info': {'customName': 'House - Outdoors'}}}, {'name': 'enterprises/home-system-546237/structures/STRCT2', 'traits': {'sdm.structures.traits.Info': {'customName': 'House - Indoors'}}}]}}, 'project_id': 'home-system-546237'}\n",
            "SDM DB: {'environment': {'home_assistant': {'devices': {'LIGHT_001': {'attributes': {'brightness': 1.0, 'company': 'Crompton', 'model': '4Ft.22W', 'serial_number': 'C145098', 'state': 'Off', 'supports_color': 'No'}, 'name': 'Living Room Light 1', 'type': 'Light'}, 'LIGHT_002': {'attributes': {'brightness': 1.0, 'company': 'Crompton', 'model': '4Ft.22W', 'serial_number': 'C567146', 'state': 'Off', 'supports_color': 'No'}, 'name': 'Living Room Light 2', 'type': 'Light'}, 'TV_001': {'attributes': {'brightness': 50, 'company': 'Samsung', 'is_muted': 'No', 'model': '65-inch QLED Smart TV', 'serial_number': 'SAM-65Q900', 'state': 'Off', 'volume': 20}, 'name': 'Living Room TV', 'type': 'tv'}, 'WIFI_001': {'attributes': {'company': 'TP-Link', 'max_speed': 'Up to 6 Gbps', 'model': 'ARCHER C6 (AC1200)', 'security_protocol': 'WPA3-Personal', 'serial_number': '255156382956', 'state': 'On', 'wifi_standard': 'Wi-Fi 6 (802.11ax)'}, 'name': 'TP-Link ARCHER C6', 'type': 'Wifi'}}}, 'sdm': {'devices': {'CAM_001': {'attributes': {'company': 'Google', 'model': 'Google Nest Cam Indoor', 'parent': 'enterprises/home-system-546237/structures/STRCT2/rooms/JIMMY_ROOM', 'serial_number': 'GN-I-987633', 'state': 'On'}, 'name': 'Jimmy Room Cam', 'type': 'Camera'}, 'CAM_002': {'attributes': {'company': 'Google', 'model': 'Google Nest Cam Indoor', 'parent': 'enterprises/home-system-546237/structures/STRCT2/rooms/LIVING_ROOM', 'serial_number': 'GN-I-07062500', 'state': 'On'}, 'name': 'Living Room', 'type': 'Camera'}, 'CAM_003': {'attributes': {'company': 'Google', 'model': 'Google Nest Cam IQ Outdoor', 'parent': 'enterprises/home-system-546237/structures/STRCT1/rooms/OUT1', 'serial_number': 'GNC-IQ-O-19000', 'state': 'On'}, 'name': 'Backyard Cam', 'type': 'Camera'}}, 'structures': [{'name': 'enterprises/home-system-546237/structures/STRCT1', 'traits': {'sdm.structures.traits.Info': {'customName': 'House - Outdoors'}}}, {'name': 'enterprises/home-system-546237/structures/STRCT2', 'traits': {'sdm.structures.traits.Info': {'customName': 'House - Indoors'}}}]}}, 'project_id': 'home-system-546237'}\n",
            "Image Map: {'cameras': {'CAM_001': [{'expected': 'Yes', 'image_path': './pws_image_data/05-16-25 133421.jpg'}], 'CAM_002': [{'expected': 'No', 'image_path': './pws_image_data/05-16-25 115316.jpg'}], 'CAM_003': [{'expected': 'No', 'image_path': './pws_image_data/05-22-2025 151727.jpg'}]}, 'events': []}\n"
          ]
        }
      ],
      "source": [
        "# proto_ignore\n",
        "\n",
        "scenario_db = {'environment': {'home_assistant': {'devices': {'LIGHT_001': {'attributes': {'brightness': 1.0,\n",
        "                                                                             'company': 'Crompton',\n",
        "                                                                             'model': '4Ft.22W',\n",
        "                                                                             'serial_number': 'C145098',\n",
        "                                                                             'state': 'Off',\n",
        "                                                                             'supports_color': 'No'},\n",
        "                                                              'name': 'Living '\n",
        "                                                                      'Room '\n",
        "                                                                      'Light 1',\n",
        "                                                              'type': 'Light'},\n",
        "                                                'LIGHT_002': {'attributes': {'brightness': 1.0,\n",
        "                                                                             'company': 'Crompton',\n",
        "                                                                             'model': '4Ft.22W',\n",
        "                                                                             'serial_number': 'C567146',\n",
        "                                                                             'state': 'Off',\n",
        "                                                                             'supports_color': 'No'},\n",
        "                                                              'name': 'Living '\n",
        "                                                                      'Room '\n",
        "                                                                      'Light 2',\n",
        "                                                              'type': 'Light'},\n",
        "                                                'TV_001': {'attributes': {'brightness': 50,\n",
        "                                                                          'company': 'Samsung',\n",
        "                                                                          'is_muted': 'No',\n",
        "                                                                          'model': '65-inch '\n",
        "                                                                                   'QLED '\n",
        "                                                                                   'Smart '\n",
        "                                                                                   'TV',\n",
        "                                                                          'serial_number': 'SAM-65Q900',\n",
        "                                                                          'state': 'Off',\n",
        "                                                                          'volume': 20},\n",
        "                                                           'name': 'Living '\n",
        "                                                                   'Room TV',\n",
        "                                                           'type': 'tv'},\n",
        "                                                'WIFI_001': {'attributes': {'company': 'TP-Link',\n",
        "                                                                            'max_speed': 'Up '\n",
        "                                                                                         'to '\n",
        "                                                                                         '6 '\n",
        "                                                                                         'Gbps',\n",
        "                                                                            'model': 'ARCHER '\n",
        "                                                                                     'C6 '\n",
        "                                                                                     '(AC1200)',\n",
        "                                                                            'security_protocol': 'WPA3-Personal',\n",
        "                                                                            'serial_number': '255156382956',\n",
        "                                                                            'state': 'On',\n",
        "                                                                            'wifi_standard': 'Wi-Fi '\n",
        "                                                                                             '6 '\n",
        "                                                                                             '(802.11ax)'},\n",
        "                                                             'name': 'TP-Link '\n",
        "                                                                     'ARCHER '\n",
        "                                                                     'C6',\n",
        "                                                             'type': 'Wifi'}}},\n",
        "                 'sdm': {'devices': {'CAM_001': {'attributes': {'company': 'Google',\n",
        "                                                                'model': 'Google '\n",
        "                                                                         'Nest '\n",
        "                                                                         'Cam '\n",
        "                                                                         'Indoor',\n",
        "                                                                'parent': 'enterprises/home-system-546237/structures/STRCT2/rooms/JIMMY_ROOM',\n",
        "                                                                'serial_number': 'GN-I-987633',\n",
        "                                                                'state': 'On'},\n",
        "                                                 'name': 'Jimmy Room Cam',\n",
        "                                                 'type': 'Camera'},\n",
        "                                     'CAM_002': {'attributes': {'company': 'Google',\n",
        "                                                                'model': 'Google '\n",
        "                                                                         'Nest '\n",
        "                                                                         'Cam '\n",
        "                                                                         'Indoor',\n",
        "                                                                'parent': 'enterprises/home-system-546237/structures/STRCT2/rooms/LIVING_ROOM',\n",
        "                                                                'serial_number': 'GN-I-07062500',\n",
        "                                                                'state': 'On'},\n",
        "                                                 'name': 'Living Room',\n",
        "                                                 'type': 'Camera'},\n",
        "                                     'CAM_003': {'attributes': {'company': 'Google',\n",
        "                                                                'model': 'Google '\n",
        "                                                                         'Nest '\n",
        "                                                                         'Cam '\n",
        "                                                                         'IQ '\n",
        "                                                                         'Outdoor',\n",
        "                                                                'parent': 'enterprises/home-system-546237/structures/STRCT1/rooms/OUT1',\n",
        "                                                                'serial_number': 'GNC-IQ-O-19000',\n",
        "                                                                'state': 'On'},\n",
        "                                                 'name': 'Backyard Cam',\n",
        "                                                 'type': 'Camera'}},\n",
        "                         'structures': [{'name': 'enterprises/home-system-546237/structures/STRCT1',\n",
        "                                         'traits': {'sdm.structures.traits.Info': {'customName': 'House '\n",
        "                                                                                                 '- '\n",
        "                                                                                                 'Outdoors'}}},\n",
        "                                        {'name': 'enterprises/home-system-546237/structures/STRCT2',\n",
        "                                         'traits': {'sdm.structures.traits.Info': {'customName': 'House '\n",
        "                                                                                                 '- '\n",
        "                                                                                                 'Indoors'}}}]}},\n",
        " 'project_id': 'home-system-546237'}\n",
        "\n",
        "image_map = {'cameras': {'CAM_001': [{'expected': 'Yes',\n",
        "                          'image_path': './pws_image_data/05-16-25 '\n",
        "                                        '133421.jpg'}],\n",
        "             'CAM_002': [{'expected': 'No',\n",
        "                          'image_path': './pws_image_data/05-16-25 '\n",
        "                                        '115316.jpg'}],\n",
        "             'CAM_003': [{'expected': 'No',\n",
        "                          'image_path': './pws_image_data/05-22-2025 '\n",
        "                                        '151727.jpg'}]},\n",
        " 'events': []}\n",
        "\n",
        "\n",
        "import json\n",
        "\n",
        "with open(\"/content/scenario_db.json\", \"w\") as f:\n",
        "    json.dump(scenario_db, f)\n",
        "\n",
        "with open(\"/content/image_map.json\", \"w\") as f:\n",
        "    json.dump(image_map, f)\n",
        "\n",
        "\n",
        "import json\n",
        "import home_assistant\n",
        "import sdm\n",
        "\n",
        "# Initialize DBs\n",
        "home_assistant.SimulationEngine.db.load_state(f\"/content/scenario_db.json\")\n",
        "sdm.SimulationEngine.db.load_state(f\"/content/scenario_db.json\")\n",
        "\n",
        "# Print the DBs\n",
        "print(f\"Home Assistant DB: {home_assistant.SimulationEngine.db.DB}\")\n",
        "print(f\"SDM DB: {sdm.SimulationEngine.db.DB}\")\n",
        "\n",
        "# Load image map for this task\n",
        "with open(\"/content/image_map.json\", \"r\") as f:\n",
        "    image_map = json.load(f)\n",
        "\n",
        "# Print the Image Map\n",
        "print(f\"Image Map: {image_map}\")\n",
        "\n",
        "# Reset states\n",
        "sdm.devices.commands.reset_served_images()\n",
        "sdm.SimulationEngine.db.reset_state_env()\n",
        "\n",
        "# Initialize image map\n",
        "sdm.SimulationEngine.db.update_state_dict(image_map)\n",
        "\n",
        "# Set events\n",
        "sdm.SimulationEngine.events.set_cameras_events(image_map, home_assistant.SimulationEngine.db.DB.get(\"project_id\", \"\"))"
      ]
    },
    {
      "cell_type": "markdown",
      "metadata": {
        "id": "SOh-Yen2Tvpz"
      },
      "source": [
        "# Initial Assertion\n",
        "1. Assert that the \"Living Room TV\" is turned off."
      ]
    },
    {
      "cell_type": "code",
      "execution_count": null,
      "metadata": {
        "id": "e3t-5EpmTxDQ"
      },
      "outputs": [],
      "source": [
        "import home_assistant\n",
        "import sdm\n",
        "from Scripts.assertions_utils import *\n",
        "\n",
        "# Local variables\n",
        "living_room_tv_name = \"Living Room TV\"\n",
        "\n",
        "# 1. Assert that the living room tv is off\n",
        "try:\n",
        "  living_room_tv_id = home_assistant.get_id_by_name(living_room_tv_name)\n",
        "  tv_state = home_assistant.get_state(living_room_tv_id)\n",
        "except Exception as e:\n",
        "  tv_state = {}\n",
        "\n",
        "assert compare_strings(tv_state.get(\"state\", \"\"), \"Off\"), \"TV in living room is turned on, expected it to be Off.\""
      ]
    },
    {
      "cell_type": "markdown",
      "metadata": {
        "id": "L1e7Mqo4UHJH"
      },
      "source": [
        "# Action\n",
        "* Locate Jimmy Room camera.\n",
        "* Access current footage \"05-16-25 133421\"\n",
        "* The camera shows two closed totes on the floor, and there are no longer toys scattered on the area rug.\n",
        "* Turn on \"Living Room TV\""
      ]
    },
    {
      "cell_type": "code",
      "execution_count": null,
      "metadata": {
        "id": "fioj7tGj2S56"
      },
      "outputs": [],
      "source": [
        "import home_assistant\n",
        "import sdm\n",
        "import base64\n",
        "#from IPython.display import Image, display"
      ]
    },
    {
      "cell_type": "code",
      "execution_count": null,
      "metadata": {
        "colab": {
          "base_uri": "https://localhost:8080/"
        },
        "id": "tYsEttzLUgHr",
        "outputId": "401ca091-48ed-445a-9014-865204cf5354"
      },
      "outputs": [
        {
          "output_type": "stream",
          "name": "stdout",
          "text": [
            "All available televisions: [{'TV_001': {'attributes': {'brightness': 50, 'company': 'Samsung', 'is_muted': 'No', 'model': '65-inch QLED Smart TV', 'serial_number': 'SAM-65Q900', 'state': 'Off', 'volume': 20}, 'name': 'Living Room TV', 'type': 'tv'}}]\n",
            "All available SDM devices: {'devices': [{'name': 'enterprises/home-system-546237/devices/CAM_001', 'type': 'sdm.devices.types.CAMERA', 'traits': {'sdm.devices.traits.CameraEventImage': {}, 'sdm.devices.traits.CameraImage': {'maxImageResolution': {'width': 1280, 'height': 960}}, 'sdm.devices.traits.CameraLiveStream': {'maxVideoResolution': {'width': 640, 'height': 480}, 'videoCodecs': ['H264'], 'audioCodecs': ['AAC'], 'supportedProtocols': ['RTSP', 'WEB_RTC']}, 'sdm.devices.traits.CameraMotion': {}, 'sdm.devices.traits.CameraPerson': {}, 'sdm.devices.traits.CameraSound': {}, 'sdm.devices.traits.Info': {'customName': 'Jimmy Room Cam'}}, 'project_id': 'home-system-546237', 'parentRelations': [{'parent': 'enterprises/home-system-546237/structures/STRCT2/rooms/JIMMY_ROOM', 'displayName': 'Jimmy Room Cam'}]}, {'name': 'enterprises/home-system-546237/devices/CAM_002', 'type': 'sdm.devices.types.CAMERA', 'traits': {'sdm.devices.traits.CameraEventImage': {}, 'sdm.devices.traits.CameraImage': {'maxImageResolution': {'width': 1280, 'height': 960}}, 'sdm.devices.traits.CameraLiveStream': {'maxVideoResolution': {'width': 640, 'height': 480}, 'videoCodecs': ['H264'], 'audioCodecs': ['AAC'], 'supportedProtocols': ['RTSP', 'WEB_RTC']}, 'sdm.devices.traits.CameraMotion': {}, 'sdm.devices.traits.CameraPerson': {}, 'sdm.devices.traits.CameraSound': {}, 'sdm.devices.traits.Info': {'customName': 'Living Room'}}, 'project_id': 'home-system-546237', 'parentRelations': [{'parent': 'enterprises/home-system-546237/structures/STRCT2/rooms/LIVING_ROOM', 'displayName': 'Living Room'}]}, {'name': 'enterprises/home-system-546237/devices/CAM_003', 'type': 'sdm.devices.types.CAMERA', 'traits': {'sdm.devices.traits.CameraEventImage': {}, 'sdm.devices.traits.CameraImage': {'maxImageResolution': {'width': 1280, 'height': 960}}, 'sdm.devices.traits.CameraLiveStream': {'maxVideoResolution': {'width': 640, 'height': 480}, 'videoCodecs': ['H264'], 'audioCodecs': ['AAC'], 'supportedProtocols': ['RTSP']}, 'sdm.devices.traits.CameraMotion': {}, 'sdm.devices.traits.CameraPerson': {}, 'sdm.devices.traits.CameraSound': {}, 'sdm.devices.traits.Info': {'customName': 'Backyard Cam'}}, 'project_id': 'home-system-546237', 'parentRelations': [{'parent': 'enterprises/home-system-546237/structures/STRCT1/rooms/OUT1', 'displayName': 'Backyard Cam'}]}]}\n"
          ]
        }
      ],
      "source": [
        "\n",
        "\n",
        "def display_base64_image(image_base64):\n",
        "    \"\"\"Helper function to display a base 64 image\"\"\"\n",
        "    base64_string = image_base64.split(':')[1].strip()\n",
        "\n",
        "    try:\n",
        "        missing_padding = len(base64_string) % 4\n",
        "        if missing_padding:\n",
        "            base64_string += '=' * (4 - missing_padding)\n",
        "        image_data = base64.b64decode(base64_string)\n",
        "    except Exception as e:\n",
        "        print(f\"Error decoding base64 string: {e}\")\n",
        "        image_data = None\n",
        "\n",
        "    if image_data:\n",
        "        display(Image(data=image_data))\n",
        "\n",
        "# 1. List all relevant devices\n",
        "# List all the televisions\n",
        "tvs = home_assistant.list_devices(\"tv\").get(\"entities\", [])\n",
        "print(f\"All available televisions: {tvs}\")\n",
        "\n",
        "# List all sdm devices\n",
        "sdm_devices = sdm.list_devices()\n",
        "print(f\"All available SDM devices: {sdm_devices}\")"
      ]
    },
    {
      "cell_type": "code",
      "execution_count": null,
      "metadata": {
        "colab": {
          "base_uri": "https://localhost:8080/"
        },
        "id": "os0tq09iTtjf",
        "outputId": "1238d905-ae14-41f7-d8d6-158cdef796fe"
      },
      "outputs": [
        {
          "output_type": "stream",
          "name": "stdout",
          "text": [
            "Generated stream output: {'results': {'streamUrls': {'rtspUrl': 'rtsps://sdmvideostream.com/Zy4wLnN0cmVhbWluZ1Rva2VuLi9wd3NfaW1hZ2VfZGF0YS8wNS0xNi0yNSAxMzM0MjEuanBn?auth=g.0.streamingToken'}, 'streamExtensionToken': 'nEiJEGFyQuiy-pCFMGbqBw', 'streamToken': 'g.0.streamingToken', 'expiresAt': '2025-10-21T10:18:00.265666'}}\n"
          ]
        }
      ],
      "source": [
        "# Set required ids\n",
        "# Assuming \"Living Room TV\" is the tv present in Living Room\n",
        "living_room_tv_id = \"TV_001\"\n",
        "# Assuming \"Jimmy Room Cam\" is the camera present in Jimmy's room\n",
        "jimmy_room_cam_id = \"CAM_001\"\n",
        "# From SDM devices output\n",
        "project_id = \"home-system-546237\"\n",
        "\n",
        "# 2. Load Jimmy's room image\n",
        "# Start RTSP stream\n",
        "generate_stream_command = {\"command\": \"sdm.devices.commands.generate_rtsp_stream\",\n",
        "                           \"params\": {}\n",
        "                           }\n",
        "generate_stream_output = sdm.execute_command(device_id=jimmy_room_cam_id, project_id=project_id, command_request=generate_stream_command)\n",
        "\n",
        "# Inspect stream output\n",
        "print(f\"Generated stream output: {generate_stream_output}\")"
      ]
    },
    {
      "cell_type": "code",
      "execution_count": null,
      "metadata": {
        "id": "JD9NIvgvVNrG"
      },
      "outputs": [],
      "source": [
        "# Get image from stream\n",
        "generate_image_command = {\"command\": \"sdm.devices.commands.generate_image_from_rtsp_stream\",\n",
        "                          \"params\": {\n",
        "                              \"rtsp_url\": generate_stream_output.get(\"results\", {}).get(\"streamUrls\", \"\").get(\"rtspUrl\", \"\")\n",
        "                              }\n",
        "                          }\n",
        "image_1 = sdm.execute_command(device_id=jimmy_room_cam_id, project_id=project_id, command_request=generate_image_command)\n",
        "\n",
        "# Stop RTSP stream\n",
        "stop_stream_command = {\"command\": \"sdm.devices.commands.stop_rtsp_stream\",\n",
        "                       \"params\": {\n",
        "                           \"stream_extension_token\": generate_stream_output.get(\"results\", {}).get(\"streamExtensionToken\", \"\")\n",
        "                           }\n",
        "                       }\n",
        "stop_stream_output = sdm.execute_command(device_id=jimmy_room_cam_id, project_id=project_id, command_request=stop_stream_command)\n",
        "\n",
        "# THIS IS JUST FOR DEBUGGING\n",
        "#display_base64_image(image_1)"
      ]
    },
    {
      "cell_type": "code",
      "execution_count": null,
      "metadata": {
        "colab": {
          "base_uri": "https://localhost:8080/"
        },
        "id": "P_2YVJ8fXbkR",
        "outputId": "022e607b-a856-469f-e269-9550237dcabf"
      },
      "outputs": [
        {
          "output_type": "stream",
          "name": "stdout",
          "text": [
            "The floor is noticeably more organized, with most toys neatly stored in two large bins—one transparent and one with a white lid—placed on the space-themed mat. Previously scattered items like LEGO pieces have been cleaned up, leaving only a few objects like a red bucket, a green bag, and some pencils near the nightstand.\n"
          ]
        },
        {
          "output_type": "execute_result",
          "data": {
            "text/plain": [
              "{'status': 'SUCCESS'}"
            ]
          },
          "metadata": {},
          "execution_count": 12
        }
      ],
      "source": [
        "# Mock reply from Gemini\n",
        "print(\"The floor is noticeably more organized, with most toys neatly stored in \\\n",
        "two large bins—one transparent and one with a white lid—placed on the space-themed mat. \\\n",
        "Previously scattered items like LEGO pieces have been cleaned up, leaving only \\\n",
        "a few objects like a red bucket, a green bag, and some pencils near the nightstand.\")\n",
        "\n",
        "\n",
        "# 3. Turn on the living room TV\n",
        "home_assistant.toggle_device(living_room_tv_id, 'On')"
      ]
    },
    {
      "cell_type": "markdown",
      "metadata": {
        "id": "x5OIz7pCg_kI"
      },
      "source": [
        "# Final Assertion\n",
        "1. Assert that the \"Living Room TV\" is turned on.\n",
        "2. Assert that all the relevant images are utilized."
      ]
    },
    {
      "cell_type": "code",
      "execution_count": null,
      "metadata": {
        "id": "VxXWhO14ftEc"
      },
      "outputs": [],
      "source": [
        "import home_assistant\n",
        "import sdm\n",
        "from Scripts.assertions_utils import *\n",
        "\n",
        "# Local variables\n",
        "living_room_tv_name = \"Living Room TV\"\n",
        "\n",
        "# Helper functions\n",
        "def are_all_images_used(expected_paths: list[str], served_type: str) -> bool:\n",
        "    # Get served images\n",
        "    served_image_paths = sdm.devices.commands.get_served_images()\n",
        "    if compare_strings(served_type , \"event\"):\n",
        "        image_paths = served_image_paths.get(\"EVENT_IMAGES\", [])\n",
        "    elif compare_strings(served_type , \"stream\"):\n",
        "        image_paths = served_image_paths.get(\"STREAM_IMAGES\", [])\n",
        "    else:\n",
        "        return False\n",
        "\n",
        "    output = False\n",
        "    expected_paths = list(set(expected_paths))\n",
        "    image_paths = list(set(image_paths))\n",
        "\n",
        "    if expected_paths and image_paths:\n",
        "        output = compare_is_list_subset(expected_paths, image_paths, list_comparison_function=\"all\")\n",
        "    elif not expected_paths and not image_paths:\n",
        "        output = True\n",
        "    return output\n",
        "\n",
        "# 1. Assert that living room tv is on\n",
        "try:\n",
        "  living_room_tv_id = home_assistant.get_id_by_name(living_room_tv_name)\n",
        "  tv_state = home_assistant.get_state(living_room_tv_id)\n",
        "except Exception as e:\n",
        "  tv_state = {}\n",
        "\n",
        "assert compare_strings(tv_state.get(\"state\", \"\"), \"On\"), \"TV in living room is turned Off, expected it to be On.\"\n",
        "\n",
        "# 2. Assert that all the relevant images are utilized.\n",
        "# Collect expected image paths from the image map\n",
        "image_map = sdm.load_image_map()\n",
        "all_expected_paths = []\n",
        "camera_image_entries = image_map.get(\"cameras\", {})\n",
        "event_image_entries = image_map.get(\"events\", [])\n",
        "\n",
        "for camera_id, image_entries in camera_image_entries.items():\n",
        "    for entry in image_entries:\n",
        "        if compare_strings(entry.get(\"expected\", \"\"), \"Yes\"):\n",
        "            all_expected_paths.append(entry.get(\"image_path\"))\n",
        "\n",
        "expected_event_paths = []\n",
        "for event in event_image_entries:\n",
        "    expected_event_paths.append(event.get(\"image_path\"))\n",
        "\n",
        "expected_stream_paths = [path for path in all_expected_paths if path not in expected_event_paths]\n",
        "\n",
        "# Assert that all relevant images are used\n",
        "assert are_all_images_used(expected_event_paths, \"event\"), \"Mismatch: Not all expected event images were used.\"\n",
        "assert are_all_images_used(expected_stream_paths, \"stream\"), \"Mismatch: Not all expected stream images were used.\""
      ]
    }
  ],
  "metadata": {
    "colab": {
      "collapsed_sections": [
        "W2F-cPpaN3fq",
        "p7A-WJahE8P1"
      ],
      "provenance": []
    },
    "kernelspec": {
      "display_name": "Python 3",
      "name": "python3"
    },
    "language_info": {
      "name": "python"
    }
  },
  "nbformat": 4,
  "nbformat_minor": 0
}