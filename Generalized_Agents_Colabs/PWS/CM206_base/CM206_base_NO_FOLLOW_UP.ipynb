{
  "cells": [
    {
      "cell_type": "markdown",
      "metadata": {
        "id": "jwEXn5LzVsSR"
      },
      "source": [
        "**Sample ID**: CM206_base\n",
        "\n",
        "\n",
        "**Query**: I have a birthday card for my aunt that needed to be picked up by the mail carrier today. Check if Drake put the card in the front door mailbox, and if he did, text on Slack  \"Thanks for putting the card in the mailbox, Drake! 😊\" in the channel \"Family_Chat\".\n",
        "\n",
        "\n",
        "**DB Type**: Base Case\n",
        "\n",
        "\n",
        "**Case Description**: The camera shows a man on the front porch that appears to be Drake. It appears that Drake placed the card in the mailbox, therefore send a Slack message: \"Thanks for putting the card in the mailbox, Drake! 😊\" in the channel \"Family_Chat\".\n",
        "\n",
        "\n",
        "**Global/Context Variables:**\n",
        "\n",
        "- slack_channel = \"Family_Chat\"\n",
        "- slack_message = \"Thanks for putting the card in the mailbox, Drake! 😊\"\n",
        "\n",
        "\n",
        "**APIs:**\n",
        "- slack\n",
        "- sdm"
      ]
    },
    {
      "cell_type": "markdown",
      "metadata": {
        "id": "8NCe7px_ZkLw"
      },
      "source": [
        "# Set Up"
      ]
    },
    {
      "cell_type": "markdown",
      "metadata": {
        "id": "kStxchsuZlWo"
      },
      "source": [
        "## Download relevant files"
      ]
    },
    {
      "cell_type": "code",
      "execution_count": 3,
      "metadata": {
        "colab": {
          "base_uri": "https://localhost:8080/"
        },
        "id": "QGPfBBnYZltp",
        "outputId": "d7ad4ed2-dfaf-4050-fc89-906aaa31dbd1"
      },
      "outputs": [
        {
          "output_type": "stream",
          "name": "stdout",
          "text": [
            "Searching for APIs zip file with version 0.1.4 in folder: 1QpkAZxXhVFzIbm8qPGPRP1YqXEvJ4uD4...\n",
            "Found: APIs_V0.1.4.zip (ID: 1TnAaWGfVrMxWTilyhy46-Aue_bh0XkNk)\n",
            "Downloading APIs zip 1TnAaWGfVrMxWTilyhy46-Aue_bh0XkNk...\n",
            "Download progress: 100%\n",
            "Extracting /content/APIs_V0.1.4.zip...\n",
            "✅ /content/APIs\n",
            "✅ /content/DBs\n",
            "✅ /content/Scripts\n",
            "\n",
            "Downloading all files from pws_images_data Drive folder.\n",
            "Download progress: 78%\n",
            "Download progress: 100%\n",
            "Extracting images from /content/pws_images_data.zip to /content...\n"
          ]
        }
      ],
      "source": [
        "import io\n",
        "import os\n",
        "import sys\n",
        "import zipfile\n",
        "import shutil\n",
        "import re\n",
        "from google.colab import auth\n",
        "from googleapiclient.discovery import build\n",
        "from googleapiclient.http import MediaIoBaseDownload\n",
        "\n",
        "VERSION = \"0.1.4\"  # Pass the version of the API\n",
        "CONTENT_DIR = '/content'\n",
        "APIS_DIR = os.path.join(CONTENT_DIR, 'APIs')\n",
        "DBS_DIR = os.path.join(CONTENT_DIR, 'DBs')\n",
        "SCRIPTS_DIR = os.path.join(CONTENT_DIR, 'Scripts')\n",
        "FC_DIR = os.path.join(CONTENT_DIR, 'Schemas')\n",
        "ZIP_PATH = os.path.join(CONTENT_DIR, f'APIs_V{VERSION}.zip')\n",
        "\n",
        "APIS_FOLDER_ID = '1QpkAZxXhVFzIbm8qPGPRP1YqXEvJ4uD4'\n",
        "ITEMS_TO_EXTRACT = ['APIs/', 'DBs/', 'Scripts/', 'Schemas/']\n",
        "\n",
        "# Cleanup\n",
        "for path in [APIS_DIR, DBS_DIR, SCRIPTS_DIR, FC_DIR, ZIP_PATH]:\n",
        "    if os.path.exists(path):\n",
        "        if os.path.isdir(path):\n",
        "            shutil.rmtree(path)\n",
        "        else:\n",
        "            os.remove(path)\n",
        "\n",
        "# Auth\n",
        "auth.authenticate_user()\n",
        "drive_service = build('drive', 'v3')\n",
        "\n",
        "def download_drive_file(service, file_id, output_path, file_name=None, show_progress=True):\n",
        "    request = service.files().get_media(fileId=file_id)\n",
        "    with io.FileIO(output_path, 'wb') as fh:\n",
        "        downloader = MediaIoBaseDownload(fh, request)\n",
        "        done = False\n",
        "        while not done:\n",
        "            status, done = downloader.next_chunk()\n",
        "            if show_progress:\n",
        "                print(f\"Download progress: {int(status.progress() * 100)}%\")\n",
        "\n",
        "print(f\"Searching for APIs zip file with version {VERSION} in folder: {APIS_FOLDER_ID}...\")\n",
        "apis_file_id = None\n",
        "try:\n",
        "    query = f\"'{APIS_FOLDER_ID}' in parents and trashed=false\"\n",
        "    results = drive_service.files().list(q=query, fields=\"files(id, name)\").execute()\n",
        "    for file in results.get('files', []):\n",
        "        if file['name'].lower() == f'apis_v{VERSION.lower()}.zip':\n",
        "            apis_file_id = file['id']\n",
        "            print(f\"Found: {file['name']} (ID: {apis_file_id})\")\n",
        "            break\n",
        "except Exception as e:\n",
        "    print(f\"Error listing files: {e}\")\n",
        "\n",
        "if not apis_file_id:\n",
        "    sys.exit(f\"❌ APIs zip V{VERSION} not found.\")\n",
        "\n",
        "print(f\"Downloading APIs zip {apis_file_id}...\")\n",
        "download_drive_file(drive_service, apis_file_id, ZIP_PATH)\n",
        "\n",
        "print(f\"Extracting {ZIP_PATH}...\")\n",
        "with zipfile.ZipFile(ZIP_PATH, 'r') as zip_ref:\n",
        "    for member in zip_ref.namelist():\n",
        "        if any(member.startswith(p) for p in ITEMS_TO_EXTRACT):\n",
        "            zip_ref.extract(member, CONTENT_DIR)\n",
        "\n",
        "os.remove(ZIP_PATH)\n",
        "\n",
        "if os.path.exists(APIS_DIR):\n",
        "    sys.path.append(APIS_DIR)\n",
        "\n",
        "for p in [APIS_DIR, DBS_DIR, SCRIPTS_DIR]:\n",
        "    print(f\"{'✅' if os.path.exists(p) else '❌'} {p}\")\n",
        "\n",
        "# PWS: Copy pws_image_data folder in /content/pws_image_data\n",
        "print(f\"\\nDownloading all files from pws_images_data Drive folder.\")\n",
        "IMAGES_ZIP_ID = '1MlgE9LnFA221ARh9l4nbF1yGc215KDN_'\n",
        "IMAGES_ZIP_PATH = os.path.join(CONTENT_DIR, 'pws_images_data.zip')\n",
        "download_drive_file(drive_service, IMAGES_ZIP_ID, IMAGES_ZIP_PATH, file_name='pws_images_data.zip')\n",
        "\n",
        "print(f\"Extracting images from {IMAGES_ZIP_PATH} to {CONTENT_DIR}...\")\n",
        "try:\n",
        "    with zipfile.ZipFile(IMAGES_ZIP_PATH, 'r') as zip_ref:\n",
        "        zip_ref.extractall(CONTENT_DIR)\n",
        "\n",
        "except zipfile.BadZipFile:\n",
        "    print(f\"Error: The downloaded file at {IMAGES_ZIP_PATH} is not a valid zip file.\")\n",
        "    sys.exit(\"Invalid zip file downloaded.\")\n",
        "except Exception as e:\n",
        "    print(f\"An error occurred during extraction: {e}\")\n",
        "    sys.exit(\"Extraction failed.\")\n",
        "\n",
        "if os.path.exists(IMAGES_ZIP_PATH):\n",
        "    os.remove(IMAGES_ZIP_PATH)"
      ]
    },
    {
      "cell_type": "markdown",
      "metadata": {
        "id": "rMifDqFjZolG"
      },
      "source": [
        "## Install Dependencies and Clone Repositories"
      ]
    },
    {
      "cell_type": "code",
      "execution_count": 4,
      "metadata": {
        "colab": {
          "base_uri": "https://localhost:8080/"
        },
        "id": "9KjOWbTnZpvh",
        "outputId": "02ee2401-dff4-4d95-acbd-2dc098912e32"
      },
      "outputs": [
        {
          "output_type": "stream",
          "name": "stdout",
          "text": [
            "Requirement already satisfied: uv in /usr/local/lib/python3.12/dist-packages (0.9.2)\n",
            "\u001b[2mUsing Python 3.12.12 environment at: /usr\u001b[0m\n",
            "\u001b[2mAudited \u001b[1m50 packages\u001b[0m \u001b[2min 142ms\u001b[0m\u001b[0m\n",
            "\u001b[2mUsing Python 3.12.12 environment at: /usr\u001b[0m\n",
            "\u001b[2mAudited \u001b[1m1 package\u001b[0m \u001b[2min 125ms\u001b[0m\u001b[0m\n"
          ]
        }
      ],
      "source": [
        "!pip install uv\n",
        "!uv pip install -r /content/APIs/requirements.txt\n",
        "!uv pip install jsonpath_ng"
      ]
    },
    {
      "cell_type": "markdown",
      "metadata": {
        "id": "gW3sPK1kZsE4"
      },
      "source": [
        "## Import APIs and initiate DBs"
      ]
    },
    {
      "cell_type": "code",
      "execution_count": 13,
      "metadata": {
        "colab": {
          "base_uri": "https://localhost:8080/"
        },
        "id": "uhRurkTOZsmN",
        "outputId": "fa6f0b10-cc26-447a-c79f-de8ff9d1972a"
      },
      "outputs": [
        {
          "output_type": "stream",
          "name": "stdout",
          "text": [
            "SDM DB: {'environment': {'home_assistant': {'devices': {'DOOR_001': {'attributes': {'auto_close_enabled': 'Yes', 'company': 'SecureGuard', 'model': 'D-Alpha900', 'serial_number': 'SG092384', 'state': 'Locked'}, 'name': 'Front Door', 'type': 'Door'}, 'DOOR_002': {'attributes': {'auto_close_enabled': 'Yes', 'company': 'SecureGuard', 'model': 'D-Beta750', 'serial_number': 'FL902134', 'state': 'Locked'}, 'name': 'Back Door', 'type': 'Door'}, 'LIGHT_001': {'attributes': {'brightness': 1.0, 'company': 'Crompton', 'model': '4Ft.22W', 'serial_number': 'C564311', 'state': 'On', 'supports_color': 'No'}, 'name': 'Living Room Light 1', 'type': 'Light'}, 'LIGHT_002': {'attributes': {'brightness': 1.0, 'company': 'Crompton', 'model': '4Ft.22W', 'serial_number': 'C1689574', 'state': 'Off', 'supports_color': 'No'}, 'name': 'Living Room Light 2', 'type': 'Light'}, 'LIGHT_003': {'attributes': {'brightness': 0.8, 'company': 'Crompton', 'model': '3Ft.15W', 'serial_number': 'C551233', 'state': 'On', 'supports_color': 'No'}, 'name': 'Kitchen Light', 'type': 'Light'}, 'LIGHT_004': {'attributes': {'brightness': 1.0, 'color': '#FFFFFF', 'company': 'Crompton Multi-Color', 'model': '4Ft.22W - 3 in 1', 'serial_number': 'C09781', 'state': 'Off', 'supports_color': 'Yes'}, 'name': 'Kids Room Light', 'type': 'Light'}, 'SPK_001': {'attributes': {'audio_mode': 'Movie', 'company': 'JBL', 'model': 'JBLBOOMBOX3BLKUK', 'serial_number': 'JBLBOOM3_123982u', 'state': 'Off', 'volume': 100}, 'name': 'Kitchen Speaker', 'type': 'Speaker'}, 'TV_001': {'attributes': {'brightness': 70, 'company': 'Samsung', 'is_muted': 'No', 'model': '1.63 m (65) QN900F Neo QLED 8K Smart TV', 'serial_number': 'SSTVSN8977D', 'state': 'On', 'volume': 65}, 'name': 'Living Room TV', 'type': 'Television'}}}, 'sdm': {'devices': {'CAM_001': {'attributes': {'company': 'Google', 'model': 'Google Nest Cam IQ Outdoor', 'parent': 'enterprises/family-house-0903/structures/STRCT1/rooms/OUT1', 'serial_number': 'GN-IQ-O-089312', 'state': 'On'}, 'name': 'Front Porch', 'type': 'Camera'}, 'CAM_002': {'attributes': {'company': 'Google', 'model': 'Google Nest Cam Indoor', 'parent': 'enterprises/family-house-0903/structures/STRCT2/rooms/ROOM1', 'serial_number': 'GN-I-70983412', 'state': 'On'}, 'name': 'Living Room Camera', 'type': 'Camera'}, 'CAM_003': {'attributes': {'company': 'Google', 'model': 'Google Nest Cam Indoor', 'parent': 'enterprises/family-house-0903/structures/STRCT2/rooms/ROOM2', 'serial_number': 'GN-I-897321', 'state': 'On'}, 'name': 'Kids Room Camera', 'type': 'Camera'}, 'CAM_004': {'attributes': {'company': 'Google', 'model': 'Google Nest Cam IQ Outdoor', 'parent': 'enterprises/family-house-0903/structures/STRCT1/rooms/OUT2', 'serial_number': 'GN-IQ-O-1578969', 'state': 'On'}, 'name': 'Back Door Camera', 'type': 'Camera'}, 'CAM_005': {'attributes': {'company': 'Google', 'model': 'Google Nest Cam IQ Outdoor', 'parent': 'enterprises/family-house-0903/structures/STRCT1/rooms/OUT3', 'serial_number': 'GN-IQ-O-98713', 'state': 'On'}, 'name': 'Driveway Camera', 'type': 'Camera'}}, 'structures': [{'name': 'enterprises/family-house-0903/structures/STRCT1', 'traits': {'sdm.structures.traits.Info': {'customName': 'House - Outdoors'}}}, {'name': 'enterprises/family-house-0903/structures/STRCT2', 'traits': {'sdm.structures.traits.Info': {'customName': 'House - Indoors'}}}]}}, 'project_id': 'family-house-0903'}\n",
            "Slack DB: {'current_user': {'id': 'U04L7NE5Q1Y', 'is_admin': True}, 'users': {'U04L7NE5Q1Y': {'id': 'U04L7NE5Q1Y', 'team_id': 'T04L7NE5Q1X', 'name': 'jane.smith', 'real_name': 'Jane Smith', 'profile': {'email': 'jane.smith@gmail.com', 'display_name': 'JaneS', 'image': 'base64encodedimage_jane', 'image_crop_x': 5, 'image_crop_y': 15, 'image_crop_w': 90, 'title': 'Marketing Manager'}, 'is_admin': True, 'is_bot': False, 'deleted': False, 'presence': 'active'}, 'U04M2R8JCQ6': {'id': 'U04M2R8JCQ6', 'team_id': 'T04L7NE5Q1X', 'name': 'david.lee', 'real_name': 'David Lee', 'profile': {'email': 'david.lee@gmail.com', 'display_name': 'DavidL', 'image': 'base64encodedimage_david', 'image_crop_x': 12, 'image_crop_y': 25, 'image_crop_w': 110, 'title': 'Marketing Specialist'}, 'is_admin': False, 'is_bot': False, 'deleted': False, 'presence': 'away'}, 'U04M526DV51': {'id': 'U04M526DV51', 'team_id': 'T04L7NE5Q1X', 'name': 'sarah.jones', 'real_name': 'Sarah Jones', 'profile': {'email': 'sarah.jones@gmail.com', 'display_name': 'SarahJ', 'image': 'base64encodedimage_sarah', 'image_crop_x': 8, 'image_crop_y': 18, 'image_crop_w': 95, 'title': 'Product Designer'}, 'is_admin': False, 'is_bot': False, 'deleted': False, 'presence': 'active'}, 'U04LMCYSD2X': {'id': 'U04LMCYSD2X', 'team_id': 'T04L7NE5Q1X', 'name': 'michael.brown', 'real_name': 'Michael Brown', 'profile': {'email': 'michael.brown@gmail.com', 'display_name': 'MichaelB', 'image': 'base64encodedimage_michael', 'image_crop_x': 20, 'image_crop_y': 30, 'image_crop_w': 120, 'title': 'Sales Representative'}, 'is_admin': False, 'is_bot': False, 'deleted': False, 'presence': 'active'}, 'U04LJHD22S': {'id': 'U04LJHD22S', 'team_id': 'T04L7NE5Q1X', 'name': 'emily.davis', 'real_name': 'Emily Davis', 'profile': {'email': 'emily.davis@gmail.com', 'display_name': 'EmilyD', 'image': 'base64encodedimage_emily', 'image_crop_x': 2, 'image_crop_y': 10, 'image_crop_w': 85, 'title': 'Software Engineer'}, 'is_admin': False, 'is_bot': False, 'deleted': False, 'presence': 'active'}}, 'channels': {'C04MKV1KQD6': {'messages': [{'ts': '1688682784.334459', 'user': 'U04L7NE5Q1Y', 'text': \"Welcome everyone to the marketing brainstorming session!  Let's kick off by sharing any initial campaign ideas for Q3.\", 'reactions': [{'name': 'rocket', 'users': ['U04L7NE5Q1Y', 'U04M2R8JCQ6', 'U04M526DV51'], 'count': 3}]}, {'ts': '1688683000.456789', 'user': 'U04M2R8JCQ6', 'text': 'I think we should focus on a social media campaign highlighting our sustainability initiatives.', 'reactions': [{'name': 'thumbsup', 'users': ['U04L7NE5Q1Y', 'U04M526DV51', 'U04LMCYSD2X'], 'count': 3}]}, {'ts': '1688684000.987654', 'user': 'U04LMCYSD2X', 'text': 'Has anyone seen those interactive ads on platform X?', 'reactions': []}], 'conversations': {}, 'name': 'Default_Channel', 'id': 'C04MKV1KQD6', 'is_private': False, 'team_id': None, 'files': {'F04M89K2N': True, 'F04Pq7M9L': True}}, 'C04L9T7PQ4E': {'messages': [{'ts': '1688682884.445569', 'user': 'U04M526DV51', 'text': \"Hey team, let's discuss the latest product feature designs.  Please review the attached mockups.\", 'reactions': [{'name': 'eyes', 'users': ['U04L7NE5Q1Y', 'U04M2R8JCQ6'], 'count': 2}]}, {'ts': '1688682900.123456', 'user': 'U04L7NE5Q1Y', 'text': 'The user flow looks good, but the color scheme might need some tweaking.', 'reactions': []}], 'conversations': {}, 'name': 'Sales_Channel', 'id': 'C04L9T7PQ4E', 'is_private': False, 'team_id': None, 'files': {'F04N1A2B3': True}}, 'C04M1S5HJ7Z': {'messages': [{'ts': '1688682984.556679', 'user': 'U04LMCYSD2X', 'text': 'Good morning, everyone!  Just a reminder about the company-wide meeting at 10 AM today.', 'reactions': [{'name': 'raising_hand', 'users': ['U04M526DV51', 'U04LJHD22S'], 'count': 2}]}, {'ts': '1688683055.556679', 'user': 'U04LJHD22S', 'text': 'Thanks for the headsup', 'reactions': [{'name': 'thumbsup', 'users': ['U04LMCYSD2X'], 'count': 1}]}], 'conversations': {}, 'name': 'IT_Channel', 'id': 'C04M1S5HJ7Z', 'is_private': False, 'team_id': None, 'files': {}}, 'C04M5B8PQ5G': {'messages': [{'ts': '1688683084.667789', 'user': 'U04M2R8JCQ6', 'text': \"Does anyone have experience with the new CRM software? I'm having some trouble generating reports.\", 'reactions': []}, {'ts': '1688683500.778899', 'user': 'U04L7NE5Q1Y', 'text': \"I can help you with that.  Let's schedule a quick call.\", 'reactions': [{'name': 'phone', 'users': ['U04M2R8JCQ6'], 'count': 1}]}], 'conversations': {}, 'name': 'Product_Review_Channel', 'id': 'C04M5B8PQ5G', 'is_private': False, 'team_id': None, 'files': {}}, 'C04LJHA4P9K': {'messages': [{'ts': '1688683184.778899', 'user': 'U04LJHD22S', 'text': \"Let's share our favorite coding resources and tips here!\", 'reactions': [{'name': 'computer', 'users': ['U04M526DV51'], 'count': 1}]}, {'ts': '1688684000.889900', 'user': 'U04M526DV51', 'text': 'I found this amazing article to handle API requests', 'reactions': []}], 'conversations': {}, 'name': 'HR_Channel', 'id': 'C04LJHA4P9K', 'is_private': False, 'team_id': None, 'files': {'F04K9C1D2': True}}}, 'files': {'F04M89K2N': {'id': 'F04M89K2N', 'created': '1688682790', 'timestamp': '1688682790', 'name': 'Q3_Campaign_Ideas.docx', 'title': 'Q3 Campaign Brainstorming Document', 'mimetype': 'application/vnd.openxmlformats-officedocument.wordprocessingml.document', 'filetype': 'docx', 'user': 'U04L7NE5Q1Y', 'size': 25600, 'url_private': 'https://example.com/private/F04M89K2N', 'permalink': 'https://example.com/permalink/F04M89K2N', 'comments': [], 'channels': ['C04MKV1KQD6']}, 'F04Pq7M9L': {'id': 'F04Pq7M9L', 'created': '1688682800', 'timestamp': '1688682800', 'name': 'Social_Media_Calendar.xlsx', 'title': 'Social Media Content Calendar', 'mimetype': 'application/vnd.openxmlformats-officedocument.spreadsheetml.sheet', 'filetype': 'xlsx', 'user': 'U04M2R8JCQ6', 'size': 18432, 'url_private': 'https://example.com/private/F04Pq7M9L', 'permalink': 'https://example.com/permalink/F04Pq7M9L', 'comments': [], 'channels': ['C04MKV1KQD6']}, 'F04N1A2B3': {'id': 'F04N1A2B3', 'created': '1688682890', 'timestamp': '1688682890', 'name': 'Product_Feature_Mockups.zip', 'title': 'New Product Feature Mockups (v1)', 'mimetype': 'application/zip', 'filetype': 'zip', 'user': 'U04M526DV51', 'size': 1258291, 'url_private': 'https://example.com/private/F04N1A2B3', 'permalink': 'https://example.com/permalink/F04N1A2B3', 'comments': [{'user': 'U04L7NE5Q1Y', 'comment': 'Looks good overall!', 'timestamp': '1688682950'}], 'channels': ['C04L9T7PQ4E']}, 'F04K9C1D2': {'id': 'F04K9C1D2', 'created': '1688683200', 'timestamp': '1688683200', 'name': 'api_handling_article.pdf', 'title': 'Best Practices for API Request Handling', 'mimetype': 'application/pdf', 'filetype': 'pdf', 'user': 'U04M526DV51', 'size': 450000, 'url_private': 'https://example.com/private/F04K9C1D2', 'permalink': 'https://example.com/permalink/F04K9C1D2', 'comments': [], 'channels': ['C04LJHA4P9K']}}, 'reminders': {'R04MKTGMEET': {'id': 'R04MKTGMEET', 'creator_id': 'U04L7NE5Q1Y', 'user_id': 'U04L7NE5Q1Y', 'text': 'Prepare presentation slides for the weekly marketing meeting.', 'time': 1688745600, 'complete_ts': None, 'channel_id': 'C04MKV1KQD6'}, 'R04PRODREV': {'id': 'R04PRODREV', 'creator_id': 'U04M526DV51', 'user_id': 'U04M526DV51', 'text': 'Review and provide feedback on the latest product mockups.', 'time': 1688702400, 'complete_ts': None, 'channel_id': 'C04L9T7PQ4E'}, 'R04ALLHANDS': {'id': 'R04ALLHANDS', 'creator_id': 'U04L7NE5Q1Y', 'user_id': 'U04L7NE5Q1Y', 'text': 'Attend the all-hands company meeting.', 'time': 1688685600, 'complete_ts': None, 'channel_id': 'C04M1S5HJ7Z'}, 'R04CRMTRAIN': {'id': 'R04CRMTRAIN', 'creator_id': 'U04M2R8JCQ6', 'user_id': 'U04M2R8JCQ6', 'text': 'Complete the CRM software training module.', 'time': 1688959200, 'complete_ts': None, 'channel_id': None}, 'R04CODEREV': {'id': 'R04CODEREV', 'creator_id': 'U04LJHD22S', 'user_id': 'U04LJHD22S', 'text': 'Submit code for review by end of day.', 'time': 1688774400, 'complete_ts': None, 'channel_id': 'C04LJHA4P9K'}}, 'usergroups': {'S04MKTTEAM': {'id': 'S04MKTTEAM', 'team_id': 'T04L7NE5Q1X', 'is_usergroup': True, 'name': 'Marketing Team', 'handle': 'marketing-team', 'description': 'Group for all marketing-related discussions and collaborations.', 'date_create': 1688682500, 'date_update': 1688682500, 'date_delete': 0, 'auto_type': None, 'created_by': 'U04L7NE5Q1Y', 'updated_by': 'U04L7NE5Q1Y', 'deleted_by': None, 'prefs': {'channels': ['C04MKV1KQD6', 'C04M5B8PQ5G'], 'groups': []}, 'users': ['U04L7NE5Q1Y', 'U04M2R8JCQ6'], 'user_count': 2, 'disabled': False}, 'S04PRODTEAM': {'id': 'S04PRODTEAM', 'team_id': 'T04L7NE5Q1X', 'is_usergroup': True, 'name': 'Product Team', 'handle': 'product-team', 'description': 'Group for product design and development.', 'date_create': 1688682600, 'date_update': 1688682600, 'date_delete': 0, 'auto_type': None, 'created_by': 'U04M526DV51', 'updated_by': 'U04M526DV51', 'deleted_by': None, 'prefs': {'channels': ['C04L9T7PQ4E'], 'groups': []}, 'users': ['U04M526DV51'], 'user_count': 1, 'disabled': False}, 'S04SALESTEAM': {'id': 'S04SALESTEAM', 'team_id': 'T04L7NE5Q1X', 'is_usergroup': True, 'name': 'Sales Team', 'handle': 'sales_team', 'description': 'For Sales related discussions', 'date_create': 1688682990, 'date_update': 1688682990, 'date_delete': 0, 'auto_type': None, 'created_by': 'U04LMCYSD2X', 'updated_by': 'U04LMCYSD2X', 'deleted_by': None, 'prefs': {'channels': [], 'groups': []}, 'users': ['U04LMCYSD2X'], 'user_count': 1, 'disabled': False}, 'S04ENGTEAM': {'id': 'S04ENGTEAM', 'team_id': 'T04L7NE5Q1X', 'is_usergroup': True, 'name': 'Engineering Team', 'handle': 'eng-team', 'description': 'Group for the engineering team.', 'date_create': 1688683190, 'date_update': 1688683190, 'date_delete': 0, 'auto_type': None, 'created_by': 'U04LJHD22S', 'updated_by': 'U04LJHD22S', 'deleted_by': None, 'prefs': {'channels': ['C04LJHA4P9K'], 'groups': []}, 'users': ['U04LJHD22S'], 'user_count': 1, 'disabled': False}, 'S04ALLUSERS': {'id': 'S04ALLUSERS', 'team_id': 'T04L7NE5Q1X', 'is_usergroup': True, 'name': 'All Employees', 'handle': 'all-employees', 'description': 'Group for all company employees.', 'date_create': 1688682700, 'date_update': 1688682700, 'date_delete': 0, 'auto_type': 'admin', 'created_by': 'U04L7NE5Q1Y', 'updated_by': 'U04L7NE5Q1Y', 'deleted_by': None, 'prefs': {'channels': ['C04M1S5HJ7Z'], 'groups': []}, 'users': ['U04L7NE5Q1Y', 'U04M2R8JCQ6', 'U04M526DV51', 'U04LMCYSD2X', 'U04LJHD22S'], 'user_count': 5, 'disabled': False}}, 'scheduled_messages': [], 'ephemeral_messages': []}\n",
            "Image Map: {'cameras': {'CAM_001': [{'expected': 'Yes', 'image_path': './pws_image_data/052225 12_25.JPG'}], 'CAM_002': [{'expected': 'No', 'image_path': './pws_image_data/May 22 2025 0600.jpg'}], 'CAM_003': [{'expected': 'No', 'image_path': './pws_image_data/05-16-25 135634.jpg'}], 'CAM_004': [{'expected': 'No', 'image_path': './pws_image_data/05202502_30_37.JPG'}], 'CAM_005': [{'expected': 'No', 'image_path': './pws_image_data/Driveway_05_20_25 17_11.JPG'}]}, 'events': [{'camera_id': 'CAM_001', 'image_path': './pws_image_data/052225 12_25.JPG', 'timestamp': '2025-05-22 12:25:00', 'trigger': 'Person'}]}\n"
          ]
        }
      ],
      "source": [
        "scenario_db = {'environment': {'home_assistant': {'devices': {'DOOR_001': {'attributes': {'auto_close_enabled': 'Yes',\n",
        "                                                                            'company': 'SecureGuard',\n",
        "                                                                            'model': 'D-Alpha900',\n",
        "                                                                            'serial_number': 'SG092384',\n",
        "                                                                            'state': 'Locked'},\n",
        "                                                             'name': 'Front '\n",
        "                                                                     'Door',\n",
        "                                                             'type': 'Door'},\n",
        "                                                'DOOR_002': {'attributes': {'auto_close_enabled': 'Yes',\n",
        "                                                                            'company': 'SecureGuard',\n",
        "                                                                            'model': 'D-Beta750',\n",
        "                                                                            'serial_number': 'FL902134',\n",
        "                                                                            'state': 'Locked'},\n",
        "                                                             'name': 'Back '\n",
        "                                                                     'Door',\n",
        "                                                             'type': 'Door'},\n",
        "                                                'LIGHT_001': {'attributes': {'brightness': 1.0,\n",
        "                                                                             'company': 'Crompton',\n",
        "                                                                             'model': '4Ft.22W',\n",
        "                                                                             'serial_number': 'C564311',\n",
        "                                                                             'state': 'On',\n",
        "                                                                             'supports_color': 'No'},\n",
        "                                                              'name': 'Living '\n",
        "                                                                      'Room '\n",
        "                                                                      'Light 1',\n",
        "                                                              'type': 'Light'},\n",
        "                                                'LIGHT_002': {'attributes': {'brightness': 1.0,\n",
        "                                                                             'company': 'Crompton',\n",
        "                                                                             'model': '4Ft.22W',\n",
        "                                                                             'serial_number': 'C1689574',\n",
        "                                                                             'state': 'Off',\n",
        "                                                                             'supports_color': 'No'},\n",
        "                                                              'name': 'Living '\n",
        "                                                                      'Room '\n",
        "                                                                      'Light 2',\n",
        "                                                              'type': 'Light'},\n",
        "                                                'LIGHT_003': {'attributes': {'brightness': 0.8,\n",
        "                                                                             'company': 'Crompton',\n",
        "                                                                             'model': '3Ft.15W',\n",
        "                                                                             'serial_number': 'C551233',\n",
        "                                                                             'state': 'On',\n",
        "                                                                             'supports_color': 'No'},\n",
        "                                                              'name': 'Kitchen '\n",
        "                                                                      'Light',\n",
        "                                                              'type': 'Light'},\n",
        "                                                'LIGHT_004': {'attributes': {'brightness': 1.0,\n",
        "                                                                             'color': '#FFFFFF',\n",
        "                                                                             'company': 'Crompton '\n",
        "                                                                                        'Multi-Color',\n",
        "                                                                             'model': '4Ft.22W '\n",
        "                                                                                      '- '\n",
        "                                                                                      '3 '\n",
        "                                                                                      'in '\n",
        "                                                                                      '1',\n",
        "                                                                             'serial_number': 'C09781',\n",
        "                                                                             'state': 'Off',\n",
        "                                                                             'supports_color': 'Yes'},\n",
        "                                                              'name': 'Kids '\n",
        "                                                                      'Room '\n",
        "                                                                      'Light',\n",
        "                                                              'type': 'Light'},\n",
        "                                                'SPK_001': {'attributes': {'audio_mode': 'Movie',\n",
        "                                                                           'company': 'JBL',\n",
        "                                                                           'model': 'JBLBOOMBOX3BLKUK',\n",
        "                                                                           'serial_number': 'JBLBOOM3_123982u',\n",
        "                                                                           'state': 'Off',\n",
        "                                                                           'volume': 100},\n",
        "                                                            'name': 'Kitchen '\n",
        "                                                                    'Speaker',\n",
        "                                                            'type': 'Speaker'},\n",
        "                                                'TV_001': {'attributes': {'brightness': 70,\n",
        "                                                                          'company': 'Samsung',\n",
        "                                                                          'is_muted': 'No',\n",
        "                                                                          'model': '1.63 '\n",
        "                                                                                   'm '\n",
        "                                                                                   '(65) '\n",
        "                                                                                   'QN900F '\n",
        "                                                                                   'Neo '\n",
        "                                                                                   'QLED '\n",
        "                                                                                   '8K '\n",
        "                                                                                   'Smart '\n",
        "                                                                                   'TV',\n",
        "                                                                          'serial_number': 'SSTVSN8977D',\n",
        "                                                                          'state': 'On',\n",
        "                                                                          'volume': 65},\n",
        "                                                           'name': 'Living '\n",
        "                                                                   'Room TV',\n",
        "                                                           'type': 'Television'}}},\n",
        "                 'sdm': {'devices': {'CAM_001': {'attributes': {'company': 'Google',\n",
        "                                                                'model': 'Google '\n",
        "                                                                         'Nest '\n",
        "                                                                         'Cam '\n",
        "                                                                         'IQ '\n",
        "                                                                         'Outdoor',\n",
        "                                                                'parent': 'enterprises/family-house-0903/structures/STRCT1/rooms/OUT1',\n",
        "                                                                'serial_number': 'GN-IQ-O-089312',\n",
        "                                                                'state': 'On'},\n",
        "                                                 'name': 'Front Porch',\n",
        "                                                 'type': 'Camera'},\n",
        "                                     'CAM_002': {'attributes': {'company': 'Google',\n",
        "                                                                'model': 'Google '\n",
        "                                                                         'Nest '\n",
        "                                                                         'Cam '\n",
        "                                                                         'Indoor',\n",
        "                                                                'parent': 'enterprises/family-house-0903/structures/STRCT2/rooms/ROOM1',\n",
        "                                                                'serial_number': 'GN-I-70983412',\n",
        "                                                                'state': 'On'},\n",
        "                                                 'name': 'Living Room Camera',\n",
        "                                                 'type': 'Camera'},\n",
        "                                     'CAM_003': {'attributes': {'company': 'Google',\n",
        "                                                                'model': 'Google '\n",
        "                                                                         'Nest '\n",
        "                                                                         'Cam '\n",
        "                                                                         'Indoor',\n",
        "                                                                'parent': 'enterprises/family-house-0903/structures/STRCT2/rooms/ROOM2',\n",
        "                                                                'serial_number': 'GN-I-897321',\n",
        "                                                                'state': 'On'},\n",
        "                                                 'name': 'Kids Room Camera',\n",
        "                                                 'type': 'Camera'},\n",
        "                                     'CAM_004': {'attributes': {'company': 'Google',\n",
        "                                                                'model': 'Google '\n",
        "                                                                         'Nest '\n",
        "                                                                         'Cam '\n",
        "                                                                         'IQ '\n",
        "                                                                         'Outdoor',\n",
        "                                                                'parent': 'enterprises/family-house-0903/structures/STRCT1/rooms/OUT2',\n",
        "                                                                'serial_number': 'GN-IQ-O-1578969',\n",
        "                                                                'state': 'On'},\n",
        "                                                 'name': 'Back Door Camera',\n",
        "                                                 'type': 'Camera'},\n",
        "                                     'CAM_005': {'attributes': {'company': 'Google',\n",
        "                                                                'model': 'Google '\n",
        "                                                                         'Nest '\n",
        "                                                                         'Cam '\n",
        "                                                                         'IQ '\n",
        "                                                                         'Outdoor',\n",
        "                                                                'parent': 'enterprises/family-house-0903/structures/STRCT1/rooms/OUT3',\n",
        "                                                                'serial_number': 'GN-IQ-O-98713',\n",
        "                                                                'state': 'On'},\n",
        "                                                 'name': 'Driveway Camera',\n",
        "                                                 'type': 'Camera'}},\n",
        "                         'structures': [{'name': 'enterprises/family-house-0903/structures/STRCT1',\n",
        "                                         'traits': {'sdm.structures.traits.Info': {'customName': 'House '\n",
        "                                                                                                 '- '\n",
        "                                                                                                 'Outdoors'}}},\n",
        "                                        {'name': 'enterprises/family-house-0903/structures/STRCT2',\n",
        "                                         'traits': {'sdm.structures.traits.Info': {'customName': 'House '\n",
        "                                                                                                 '- '\n",
        "                                                                                                 'Indoors'}}}]}},\n",
        " 'project_id': 'family-house-0903'}\n",
        "\n",
        "image_map = {'cameras': {'CAM_001': [{'expected': 'Yes',\n",
        "                          'image_path': './pws_image_data/052225 12_25.JPG'}],\n",
        "             'CAM_002': [{'expected': 'No',\n",
        "                          'image_path': './pws_image_data/May 22 2025 '\n",
        "                                        '0600.jpg'}],\n",
        "             'CAM_003': [{'expected': 'No',\n",
        "                          'image_path': './pws_image_data/05-16-25 '\n",
        "                                        '135634.jpg'}],\n",
        "             'CAM_004': [{'expected': 'No',\n",
        "                          'image_path': './pws_image_data/05202502_30_37.JPG'}],\n",
        "             'CAM_005': [{'expected': 'No',\n",
        "                          'image_path': './pws_image_data/Driveway_05_20_25 '\n",
        "                                        '17_11.JPG'}]},\n",
        " 'events': [{'camera_id': 'CAM_001',\n",
        "             'image_path': './pws_image_data/052225 12_25.JPG',\n",
        "             'timestamp': '2025-05-22 12:25:00',\n",
        "             'trigger': 'Person'}]}\n",
        "\n",
        "\n",
        "import json\n",
        "\n",
        "with open(\"/content/scenario_db.json\", \"w\") as f:\n",
        "    json.dump(scenario_db, f)\n",
        "\n",
        "with open(\"/content/image_map.json\", \"w\") as f:\n",
        "    json.dump(image_map, f)\n",
        "\n",
        "\n",
        "import os\n",
        "import json\n",
        "\n",
        "import sdm\n",
        "import slack\n",
        "\n",
        "# Define context variable\n",
        "slack_channel = \"Family_Chat\"\n",
        "slack_message = \"Thanks for putting the card in the mailbox, Drake! 😊\"\n",
        "\n",
        "# Initialize DBs\n",
        "sdm.SimulationEngine.db.load_state(f\"/content/scenario_db.json\")\n",
        "slack.SimulationEngine.db.load_state(\"/content/DBs/SlackDefaultDB.json\")\n",
        "\n",
        "# Print the DBs\n",
        "print(f\"SDM DB: {sdm.SimulationEngine.db.DB}\")\n",
        "print(f\"Slack DB: {slack.SimulationEngine.db.DB}\")\n",
        "\n",
        "# Load image map for this task\n",
        "with open(\"/content/image_map.json\", \"r\") as f:\n",
        "    image_map = json.load(f)\n",
        "\n",
        "# Print the Image Map\n",
        "print(f\"Image Map: {image_map}\")\n",
        "\n",
        "# Reset states\n",
        "sdm.devices.commands.reset_served_images()\n",
        "sdm.SimulationEngine.db.reset_state_env()\n",
        "\n",
        "# Initialize image map\n",
        "sdm.SimulationEngine.db.update_state_dict(image_map)\n",
        "\n",
        "# Create slack channel\n",
        "slack.create_channel(slack_channel, is_private=True)\n",
        "\n",
        "# Set events\n",
        "sdm.SimulationEngine.events.set_cameras_events(image_map, sdm.SimulationEngine.db.DB.get(\"project_id\", \"\"))"
      ]
    },
    {
      "cell_type": "markdown",
      "metadata": {
        "id": "_CNmNvL8ZvIp"
      },
      "source": [
        "# Initial Assertion\n",
        "1. Assert that the \"Family_Chat\" slack channel exists.\n",
        "2. Assert that  no message has been sent in the \"Family_Chat\" with message body \"Thanks for putting the card in the mailbox, Drake! 😊\".\n"
      ]
    },
    {
      "cell_type": "code",
      "source": [
        "import sdm\n",
        "import slack\n",
        "from Scripts.assertions_utils import *\n",
        "\n",
        "# Define context variables\n",
        "slack_channel = \"Family_Chat\"\n",
        "slack_message = \"Thanks for putting the card in the mailbox, Drake! 😊\"\n",
        "\n",
        "# 1. Assert that the \"Family_Chat\" slack channel exists.\n",
        "channel_flag = False\n",
        "slack_channels = slack.list_channels()\n",
        "\n",
        "for channel in slack_channels.get(\"channels\", []):\n",
        "    if compare_strings(channel.get(\"name\", \"\"), slack_channel):\n",
        "        channel_flag = True\n",
        "        break\n",
        "\n",
        "assert channel_flag, f\"Channel {slack_channel} does not exist.\"\n",
        "\n",
        "# 2. Assert that no message has been sent in the \"Family_Chat\" channel with message body \"Thanks for putting the card in the mailbox, Drake! 😊\".\n",
        "search_query = f\"in:#{slack_channel} {slack_message}\"\n",
        "filtered_messages = slack.search_messages(search_query)\n",
        "\n",
        "assert len(filtered_messages) == 0, (\n",
        "    f\"Found {len(filtered_messages)} Slack messages in #{slack_channel}, expected 0.\"\n",
        ")\n"
      ],
      "metadata": {
        "id": "HAzIIjehn0Ys"
      },
      "execution_count": 14,
      "outputs": []
    },
    {
      "cell_type": "markdown",
      "metadata": {
        "id": "mEMKY5X1s9uB"
      },
      "source": [
        "# Action\n",
        "* Locate the Front Porch camera\n",
        "* Access \"Person\" events on camera to see if Drake placed card in mailbox.\n",
        "* The footage shows a man on the front porch; this appears to be Drake.\n",
        "* Since it appears that Drake placed the card in the mailbox, text Drake on Slack: \"Thanks for putting the card in the mailbox, babe! 😊\" on channel \"Family_Chat\""
      ]
    },
    {
      "cell_type": "code",
      "execution_count": 17,
      "metadata": {
        "colab": {
          "base_uri": "https://localhost:8080/"
        },
        "id": "SVN9oDs3tXvv",
        "outputId": "3a5c111e-f9d7-4466-9003-1733e56951e4"
      },
      "outputs": [
        {
          "output_type": "stream",
          "name": "stdout",
          "text": [
            "All available SDM devices: {'devices': [{'name': 'enterprises/family-house-0903/devices/CAM_001', 'type': 'sdm.devices.types.CAMERA', 'traits': {'sdm.devices.traits.CameraEventImage': {}, 'sdm.devices.traits.CameraImage': {'maxImageResolution': {'width': 1280, 'height': 960}}, 'sdm.devices.traits.CameraLiveStream': {'maxVideoResolution': {'width': 640, 'height': 480}, 'videoCodecs': ['H264'], 'audioCodecs': ['AAC'], 'supportedProtocols': ['RTSP']}, 'sdm.devices.traits.CameraMotion': {}, 'sdm.devices.traits.CameraPerson': {}, 'sdm.devices.traits.CameraSound': {}, 'sdm.devices.traits.Info': {'customName': 'Front Porch'}}, 'project_id': 'family-house-0903', 'parentRelations': [{'parent': 'enterprises/family-house-0903/structures/STRCT1/rooms/OUT1', 'displayName': 'Front Porch'}]}, {'name': 'enterprises/family-house-0903/devices/CAM_002', 'type': 'sdm.devices.types.CAMERA', 'traits': {'sdm.devices.traits.CameraEventImage': {}, 'sdm.devices.traits.CameraImage': {'maxImageResolution': {'width': 1280, 'height': 960}}, 'sdm.devices.traits.CameraLiveStream': {'maxVideoResolution': {'width': 640, 'height': 480}, 'videoCodecs': ['H264'], 'audioCodecs': ['AAC'], 'supportedProtocols': ['RTSP', 'WEB_RTC']}, 'sdm.devices.traits.CameraMotion': {}, 'sdm.devices.traits.CameraPerson': {}, 'sdm.devices.traits.CameraSound': {}, 'sdm.devices.traits.Info': {'customName': 'Living Room Camera'}}, 'project_id': 'family-house-0903', 'parentRelations': [{'parent': 'enterprises/family-house-0903/structures/STRCT2/rooms/ROOM1', 'displayName': 'Living Room Camera'}]}, {'name': 'enterprises/family-house-0903/devices/CAM_003', 'type': 'sdm.devices.types.CAMERA', 'traits': {'sdm.devices.traits.CameraEventImage': {}, 'sdm.devices.traits.CameraImage': {'maxImageResolution': {'width': 1280, 'height': 960}}, 'sdm.devices.traits.CameraLiveStream': {'maxVideoResolution': {'width': 640, 'height': 480}, 'videoCodecs': ['H264'], 'audioCodecs': ['AAC'], 'supportedProtocols': ['RTSP', 'WEB_RTC']}, 'sdm.devices.traits.CameraMotion': {}, 'sdm.devices.traits.CameraPerson': {}, 'sdm.devices.traits.CameraSound': {}, 'sdm.devices.traits.Info': {'customName': 'Kids Room Camera'}}, 'project_id': 'family-house-0903', 'parentRelations': [{'parent': 'enterprises/family-house-0903/structures/STRCT2/rooms/ROOM2', 'displayName': 'Kids Room Camera'}]}, {'name': 'enterprises/family-house-0903/devices/CAM_004', 'type': 'sdm.devices.types.CAMERA', 'traits': {'sdm.devices.traits.CameraEventImage': {}, 'sdm.devices.traits.CameraImage': {'maxImageResolution': {'width': 1280, 'height': 960}}, 'sdm.devices.traits.CameraLiveStream': {'maxVideoResolution': {'width': 640, 'height': 480}, 'videoCodecs': ['H264'], 'audioCodecs': ['AAC'], 'supportedProtocols': ['RTSP']}, 'sdm.devices.traits.CameraMotion': {}, 'sdm.devices.traits.CameraPerson': {}, 'sdm.devices.traits.CameraSound': {}, 'sdm.devices.traits.Info': {'customName': 'Back Door Camera'}}, 'project_id': 'family-house-0903', 'parentRelations': [{'parent': 'enterprises/family-house-0903/structures/STRCT1/rooms/OUT2', 'displayName': 'Back Door Camera'}]}, {'name': 'enterprises/family-house-0903/devices/CAM_005', 'type': 'sdm.devices.types.CAMERA', 'traits': {'sdm.devices.traits.CameraEventImage': {}, 'sdm.devices.traits.CameraImage': {'maxImageResolution': {'width': 1280, 'height': 960}}, 'sdm.devices.traits.CameraLiveStream': {'maxVideoResolution': {'width': 640, 'height': 480}, 'videoCodecs': ['H264'], 'audioCodecs': ['AAC'], 'supportedProtocols': ['RTSP']}, 'sdm.devices.traits.CameraMotion': {}, 'sdm.devices.traits.CameraPerson': {}, 'sdm.devices.traits.CameraSound': {}, 'sdm.devices.traits.Info': {'customName': 'Driveway Camera'}}, 'project_id': 'family-house-0903', 'parentRelations': [{'parent': 'enterprises/family-house-0903/structures/STRCT1/rooms/OUT3', 'displayName': 'Driveway Camera'}]}]}\n"
          ]
        }
      ],
      "source": [
        "import sdm\n",
        "import slack\n",
        "import base64\n",
        "from IPython.display import Image, display\n",
        "\n",
        "def display_base64_image(image_base64):\n",
        "    \"\"\"Helper function to display a base 64 image\"\"\"\n",
        "    base64_string = image_base64.split(':')[1].strip()\n",
        "\n",
        "    try:\n",
        "        missing_padding = len(base64_string) % 4\n",
        "        if missing_padding:\n",
        "            base64_string += '=' * (4 - missing_padding)\n",
        "        image_data = base64.b64decode(base64_string)\n",
        "    except Exception as e:\n",
        "        print(f\"Error decoding base64 string: {e}\")\n",
        "        image_data = None\n",
        "\n",
        "    if image_data:\n",
        "        display(Image(data=image_data))\n",
        "\n",
        "# Define context variable\n",
        "slack_channel = \"Family_Chat\"\n",
        "slack_message = \"Thanks for putting the card in the mailbox, Drake! 😊\"\n",
        "\n",
        "# 1. List all relevant devices\n",
        "# List all sdm devices\n",
        "sdm_devices = sdm.list_devices()\n",
        "print(f\"All available SDM devices: {sdm_devices}\")"
      ]
    },
    {
      "cell_type": "code",
      "execution_count": 18,
      "metadata": {
        "colab": {
          "base_uri": "https://localhost:8080/"
        },
        "id": "7t3-bmfhtfps",
        "outputId": "68b82b9e-e60e-4258-e6b4-16ea961556da"
      },
      "outputs": [
        {
          "output_type": "stream",
          "name": "stdout",
          "text": [
            "Events list: [{'eventId': 'Q3jSSgsuTPegUH_zJSN5qA', 'timestamp': '2025-05-22T12:25:00Z', 'resourceUpdate': {'name': 'enterprises/family-house-0903/devices/CAM_001', 'events': {'sdm.devices.events.CameraPerson.Person': {'eventSessionId': 'mim585CWTm2UBD67WZ7-VA', 'eventId': '-3yj4K2sQeiJ4RvCqLI9sw'}}}, 'userId': 'rX70Vd93TcO7HpBjdVyRrg', 'eventThreadId': 'XXhSgGqQRCK-rN431yh1pg', 'eventThreadState': 'STARTED', 'resourceGroup': ['enterprises/family-house-0903/devices/CAM_001']}]\n"
          ]
        }
      ],
      "source": [
        "# Set required ids\n",
        "# Assuming \"Front Porch\" is the camera present in the front porch\n",
        "front_porch_cam_id = \"CAM_001\"\n",
        "# From SDM devices output\n",
        "project_id = \"family-house-0903\"\n",
        "\n",
        "# 2. Load Front Porch\n",
        "# Search for events triggered on front door\n",
        "events = sdm.get_events_list(device_id=front_porch_cam_id)\n",
        "print(f\"Events list: {events}\")"
      ]
    },
    {
      "cell_type": "code",
      "execution_count": 19,
      "metadata": {
        "colab": {
          "base_uri": "https://localhost:8080/",
          "height": 377
        },
        "id": "iWsTnihvtt_c",
        "outputId": "303b629f-608c-46a3-e990-a3ea7e84018e"
      },
      "outputs": [
        {
          "output_type": "display_data",
          "data": {
            "image/jpeg": "[encoded data removed]",
            "text/plain": [
              "<IPython.core.display.Image object>"
            ]
          },
          "metadata": {}
        }
      ],
      "source": [
        "# Get the event id based on above structure\n",
        "event_id = next(iter(events[0].get(\"resourceUpdate\").get(\"events\").values())).get(\"eventId\")\n",
        "\n",
        "generate_image_command = {\"command\": \"sdm.devices.commands.generate_camera_event_image\",\n",
        "                          \"params\": {\n",
        "                              \"event_id\": event_id\n",
        "                              }\n",
        "                          }\n",
        "image_1 = sdm.execute_command(device_id=front_porch_cam_id, project_id=project_id, command_request=generate_image_command)\n",
        "\n",
        "# ONLY FOR DEBUGGING\n",
        "display_base64_image(image_1)"
      ]
    },
    {
      "cell_type": "code",
      "execution_count": 20,
      "metadata": {
        "colab": {
          "base_uri": "https://localhost:8080/"
        },
        "id": "Oe65oFJ7t5y9",
        "outputId": "5121a7c0-d877-4b95-9180-a69858457c2e"
      },
      "outputs": [
        {
          "output_type": "stream",
          "name": "stdout",
          "text": [
            "This image shows a brightly lit porch, with a man, thus assuming the man is Drake. It appears that Drake is putting something inside the mailbox. Therefore, I'll send a message to thank him on the slack channel.\n",
            "Slack channels: {'ok': True, 'channels': [{'messages': [{'ts': '1688682784.334459', 'user': 'U04L7NE5Q1Y', 'text': \"Welcome everyone to the marketing brainstorming session!  Let's kick off by sharing any initial campaign ideas for Q3.\", 'reactions': [{'name': 'rocket', 'users': ['U04L7NE5Q1Y', 'U04M2R8JCQ6', 'U04M526DV51'], 'count': 3}]}, {'ts': '1688683000.456789', 'user': 'U04M2R8JCQ6', 'text': 'I think we should focus on a social media campaign highlighting our sustainability initiatives.', 'reactions': [{'name': 'thumbsup', 'users': ['U04L7NE5Q1Y', 'U04M526DV51', 'U04LMCYSD2X'], 'count': 3}]}, {'ts': '1688684000.987654', 'user': 'U04LMCYSD2X', 'text': 'Has anyone seen those interactive ads on platform X?', 'reactions': []}], 'conversations': {}, 'name': 'Default_Channel', 'id': 'C04MKV1KQD6', 'is_private': False, 'team_id': None, 'files': {'F04M89K2N': True, 'F04Pq7M9L': True}}, {'messages': [{'ts': '1688682884.445569', 'user': 'U04M526DV51', 'text': \"Hey team, let's discuss the latest product feature designs.  Please review the attached mockups.\", 'reactions': [{'name': 'eyes', 'users': ['U04L7NE5Q1Y', 'U04M2R8JCQ6'], 'count': 2}]}, {'ts': '1688682900.123456', 'user': 'U04L7NE5Q1Y', 'text': 'The user flow looks good, but the color scheme might need some tweaking.', 'reactions': []}], 'conversations': {}, 'name': 'Sales_Channel', 'id': 'C04L9T7PQ4E', 'is_private': False, 'team_id': None, 'files': {'F04N1A2B3': True}}, {'messages': [{'ts': '1688682984.556679', 'user': 'U04LMCYSD2X', 'text': 'Good morning, everyone!  Just a reminder about the company-wide meeting at 10 AM today.', 'reactions': [{'name': 'raising_hand', 'users': ['U04M526DV51', 'U04LJHD22S'], 'count': 2}]}, {'ts': '1688683055.556679', 'user': 'U04LJHD22S', 'text': 'Thanks for the headsup', 'reactions': [{'name': 'thumbsup', 'users': ['U04LMCYSD2X'], 'count': 1}]}], 'conversations': {}, 'name': 'IT_Channel', 'id': 'C04M1S5HJ7Z', 'is_private': False, 'team_id': None, 'files': {}}, {'messages': [{'ts': '1688683084.667789', 'user': 'U04M2R8JCQ6', 'text': \"Does anyone have experience with the new CRM software? I'm having some trouble generating reports.\", 'reactions': []}, {'ts': '1688683500.778899', 'user': 'U04L7NE5Q1Y', 'text': \"I can help you with that.  Let's schedule a quick call.\", 'reactions': [{'name': 'phone', 'users': ['U04M2R8JCQ6'], 'count': 1}]}], 'conversations': {}, 'name': 'Product_Review_Channel', 'id': 'C04M5B8PQ5G', 'is_private': False, 'team_id': None, 'files': {}}, {'messages': [{'ts': '1688683184.778899', 'user': 'U04LJHD22S', 'text': \"Let's share our favorite coding resources and tips here!\", 'reactions': [{'name': 'computer', 'users': ['U04M526DV51'], 'count': 1}]}, {'ts': '1688684000.889900', 'user': 'U04M526DV51', 'text': 'I found this amazing article to handle API requests', 'reactions': []}], 'conversations': {}, 'name': 'HR_Channel', 'id': 'C04LJHA4P9K', 'is_private': False, 'team_id': None, 'files': {'F04K9C1D2': True}}, {'id': 'C8A67CA1A', 'name': 'Family_Chat', 'is_private': True, 'team_id': None, 'conversations': {'id': 'C8L5P8S8R', 'read_cursor': 0, 'members': [], 'topic': '', 'purpose': ''}, 'messages': []}], 'response_metadata': {'next_cursor': None}}\n"
          ]
        }
      ],
      "source": [
        "# Mock reply from Gemini\n",
        "print(\"This image shows a brightly lit porch, with a man, thus assuming the man is Drake. \\\n",
        "It appears that Drake is putting something inside the mailbox. Therefore, I'll send a message to thank him on the slack channel.\")\n",
        "\n",
        "# Print the slack channels\n",
        "slack_channels = slack.list_channels()\n",
        "print(f\"Slack channels: {slack_channels}\")"
      ]
    },
    {
      "cell_type": "code",
      "execution_count": 21,
      "metadata": {
        "colab": {
          "base_uri": "https://localhost:8080/"
        },
        "id": "A--xdmM0uaDT",
        "outputId": "6e5a0c7e-1271-47fe-c6f4-433211801f71"
      },
      "outputs": [
        {
          "output_type": "stream",
          "name": "stdout",
          "text": [
            "C8A67CA1A\n"
          ]
        },
        {
          "output_type": "execute_result",
          "data": {
            "text/plain": [
              "{'ok': True,\n",
              " 'message': {'channel': 'C8A67CA1A',\n",
              "  'text': 'Thanks for putting the card in the mailbox, Drake! 😊',\n",
              "  'attachments': None,\n",
              "  'blocks': None,\n",
              "  'user': 'bot',\n",
              "  'ts': '1760443832.5167372',\n",
              "  'as_user': None,\n",
              "  'icon_emoji': None,\n",
              "  'icon_url': None,\n",
              "  'link_names': None,\n",
              "  'markdown_text': None,\n",
              "  'metadata': None,\n",
              "  'mrkdwn': None,\n",
              "  'parse': None,\n",
              "  'reply_broadcast': None,\n",
              "  'thread_ts': None,\n",
              "  'unfurl_links': None,\n",
              "  'unfurl_media': None,\n",
              "  'username': None}}"
            ]
          },
          "metadata": {},
          "execution_count": 21
        }
      ],
      "source": [
        "# Fetching the correct channel_id based on the slack_channel\n",
        "channel_id = None\n",
        "for channel in slack_channels['channels']:\n",
        "    if channel.get(\"name\") == slack_channel:\n",
        "        channel_id = channel.get(\"id\")\n",
        "        break\n",
        "print(channel_id)\n",
        "\n",
        "# 5. Send message in the channel\n",
        "slack.post_chat_message(channel_id, text=slack_message)"
      ]
    },
    {
      "cell_type": "markdown",
      "metadata": {
        "id": "QC4sYtVqDZeJ"
      },
      "source": [
        "# Final Assertion\n",
        "1. Assert that 1 message has been sent in the \"Family_Chat\" channel with message body \"Thanks for putting the card in the mailbox, Drake! 😊\".\n",
        "2. Assert that all the relevant images are utilized."
      ]
    },
    {
      "cell_type": "code",
      "source": [
        "import sdm\n",
        "import slack\n",
        "from Scripts.assertions_utils import *\n",
        "\n",
        "# Define context variables\n",
        "slack_channel = \"Family_Chat\"\n",
        "slack_message = \"Thanks for putting the card in the mailbox, Drake! 😊\"\n",
        "\n",
        "\n",
        "# Helper functions\n",
        "def are_all_images_used(expected_paths: list[str], served_type: str) -> bool:\n",
        "    \"\"\"Helper function to check if all expected images were used.\"\"\"\n",
        "    if not expected_paths:\n",
        "        return True\n",
        "\n",
        "    served_image_paths = sdm.devices.commands.get_served_images()\n",
        "\n",
        "    if compare_strings(served_type, \"event\"):\n",
        "        image_paths = served_image_paths.get(\"EVENT_IMAGES\", [])\n",
        "    elif compare_strings(served_type, \"stream\"):\n",
        "        image_paths = served_image_paths.get(\"STREAM_IMAGES\", [])\n",
        "    else:\n",
        "        print(\"Invalid served type.\")\n",
        "        return False\n",
        "\n",
        "    if not image_paths:\n",
        "        return True\n",
        "\n",
        "    return compare_is_list_subset(expected_paths, image_paths, list_comparison_function=\"all\")\n",
        "\n",
        "\n",
        "# 1. Assert that exactly 1 message has been sent in the \"Family_Chat\" channel\n",
        "#    with message body \"Thanks for putting the card in the mailbox, Drake! 😊\".\n",
        "search_query = f\"in:#{slack_channel} {slack_message}\"\n",
        "filtered_messages = slack.search_messages(search_query)\n",
        "assert len(filtered_messages) == 1, (\n",
        "    f\"Found {len(filtered_messages)} Slack messages, expected 1.\"\n",
        ")\n",
        "\n",
        "# 2. Assert that all the relevant images are utilized.\n",
        "# Collect expected image paths from the image map\n",
        "image_map = sdm.load_image_map()\n",
        "all_expected_paths = []\n",
        "camera_image_entries = image_map.get(\"cameras\", {})\n",
        "event_image_entries = image_map.get(\"events\", [])\n",
        "\n",
        "for camera_id, image_entries in camera_image_entries.items():\n",
        "    for entry in image_entries:\n",
        "        if compare_strings(entry.get(\"expected\", \"\"), \"Yes\"):\n",
        "            all_expected_paths.append(entry.get(\"image_path\"))\n",
        "\n",
        "expected_event_paths = [event.get(\"image_path\") for event in event_image_entries]\n",
        "expected_stream_paths = [\n",
        "    path for path in all_expected_paths if path not in expected_event_paths\n",
        "]\n",
        "\n",
        "assert are_all_images_used(expected_event_paths, \"event\"), (\n",
        "    \"Mismatch: Not all expected event images were used.\"\n",
        ")\n",
        "assert are_all_images_used(expected_stream_paths, \"stream\"), (\n",
        "    \"Mismatch: Not all expected stream images were used.\"\n",
        ")\n"
      ],
      "metadata": {
        "id": "8CtDhL8boMpF"
      },
      "execution_count": 24,
      "outputs": []
    }
  ],
  "metadata": {
    "colab": {
      "collapsed_sections": [
        "kStxchsuZlWo",
        "rMifDqFjZolG",
        "gW3sPK1kZsE4"
      ],
      "provenance": []
    },
    "kernelspec": {
      "display_name": "Python 3",
      "name": "python3"
    },
    "language_info": {
      "name": "python"
    }
  },
  "nbformat": 4,
  "nbformat_minor": 0
}