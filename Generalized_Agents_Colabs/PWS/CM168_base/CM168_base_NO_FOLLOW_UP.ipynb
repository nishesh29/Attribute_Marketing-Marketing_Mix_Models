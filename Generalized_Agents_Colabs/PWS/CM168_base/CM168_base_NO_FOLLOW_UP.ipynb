{
  "cells": [
    {
      "cell_type": "markdown",
      "metadata": {
        "id": "G61U3yPYOxLY"
      },
      "source": [
        "**Sample ID**: CM168_base\n",
        "\n",
        "\n",
        "**Query**:\n",
        "\n",
        "Has the trash been picked up yet? Send me an email at John1223@gmail.com if the pickup has occurred so I can bring in the bins.\n",
        "\n",
        "\n",
        "**DB Type**: Base Case\n",
        "\n",
        "\n",
        "**Case Description**:\n",
        "\n",
        "The system initiates a check of the alley area using the alley camera. The footage shows a garbage truck in front of the house and emptying the bins. This confirms that the trash has been picked up. An email is then sent to  John1223@gmail.com to notify the user that the pickup has occurred so the bins can be brought back in.\n",
        "\n",
        "\n",
        "**Global/Context Variables:**\n",
        "- recipient_email = \"John1223@gmail.com\"\n",
        "\n",
        "**APIs:**\n",
        "- sdm\n",
        "- gmail"
      ]
    },
    {
      "cell_type": "markdown",
      "metadata": {
        "id": "3aUMgAoV6W9C"
      },
      "source": [
        "# Set Up"
      ]
    },
    {
      "cell_type": "markdown",
      "metadata": {
        "id": "5aL3fBRI8eYa"
      },
      "source": [
        "## Download relevant files"
      ]
    },
    {
      "cell_type": "code",
      "execution_count": null,
      "metadata": {
        "colab": {
          "base_uri": "https://localhost:8080/"
        },
        "id": "R2MjgV6f6ap4",
        "outputId": "26d7d990-88e7-4afa-f731-56a8df892565"
      },
      "outputs": [
        {
          "output_type": "stream",
          "name": "stdout",
          "text": [
            "Searching for APIs zip file with version 0.1.4 in folder: 1QpkAZxXhVFzIbm8qPGPRP1YqXEvJ4uD4...\n",
            "Found: APIs_V0.1.4.zip (ID: 1TnAaWGfVrMxWTilyhy46-Aue_bh0XkNk)\n",
            "Downloading APIs zip 1TnAaWGfVrMxWTilyhy46-Aue_bh0XkNk...\n",
            "Download progress: 100%\n",
            "Extracting /content/APIs_V0.1.4.zip...\n",
            "✅ /content/APIs\n",
            "✅ /content/DBs\n",
            "✅ /content/Scripts\n",
            "\n",
            "Downloading all files from pws_images_data Drive folder.\n",
            "Download progress: 78%\n",
            "Download progress: 100%\n",
            "Extracting images from /content/pws_images_data.zip to /content...\n"
          ]
        }
      ],
      "source": [
        "import io\n",
        "import os\n",
        "import sys\n",
        "import zipfile\n",
        "import shutil\n",
        "import re\n",
        "from google.colab import auth\n",
        "from googleapiclient.discovery import build\n",
        "from googleapiclient.http import MediaIoBaseDownload\n",
        "\n",
        "VERSION = \"0.1.4\"  # Pass the version of the API\n",
        "CONTENT_DIR = '/content'\n",
        "APIS_DIR = os.path.join(CONTENT_DIR, 'APIs')\n",
        "DBS_DIR = os.path.join(CONTENT_DIR, 'DBs')\n",
        "SCRIPTS_DIR = os.path.join(CONTENT_DIR, 'Scripts')\n",
        "FC_DIR = os.path.join(CONTENT_DIR, 'Schemas')\n",
        "ZIP_PATH = os.path.join(CONTENT_DIR, f'APIs_V{VERSION}.zip')\n",
        "\n",
        "APIS_FOLDER_ID = '1QpkAZxXhVFzIbm8qPGPRP1YqXEvJ4uD4'\n",
        "ITEMS_TO_EXTRACT = ['APIs/', 'DBs/', 'Scripts/', 'Schemas/']\n",
        "\n",
        "# Cleanup\n",
        "for path in [APIS_DIR, DBS_DIR, SCRIPTS_DIR, FC_DIR, ZIP_PATH]:\n",
        "    if os.path.exists(path):\n",
        "        if os.path.isdir(path):\n",
        "            shutil.rmtree(path)\n",
        "        else:\n",
        "            os.remove(path)\n",
        "\n",
        "# Auth\n",
        "auth.authenticate_user()\n",
        "drive_service = build('drive', 'v3')\n",
        "\n",
        "def download_drive_file(service, file_id, output_path, file_name=None, show_progress=True):\n",
        "    request = service.files().get_media(fileId=file_id)\n",
        "    with io.FileIO(output_path, 'wb') as fh:\n",
        "        downloader = MediaIoBaseDownload(fh, request)\n",
        "        done = False\n",
        "        while not done:\n",
        "            status, done = downloader.next_chunk()\n",
        "            if show_progress:\n",
        "                print(f\"Download progress: {int(status.progress() * 100)}%\")\n",
        "\n",
        "print(f\"Searching for APIs zip file with version {VERSION} in folder: {APIS_FOLDER_ID}...\")\n",
        "apis_file_id = None\n",
        "try:\n",
        "    query = f\"'{APIS_FOLDER_ID}' in parents and trashed=false\"\n",
        "    results = drive_service.files().list(q=query, fields=\"files(id, name)\").execute()\n",
        "    for file in results.get('files', []):\n",
        "        if file['name'].lower() == f'apis_v{VERSION.lower()}.zip':\n",
        "            apis_file_id = file['id']\n",
        "            print(f\"Found: {file['name']} (ID: {apis_file_id})\")\n",
        "            break\n",
        "except Exception as e:\n",
        "    print(f\"Error listing files: {e}\")\n",
        "\n",
        "if not apis_file_id:\n",
        "    sys.exit(f\"❌ APIs zip V{VERSION} not found.\")\n",
        "\n",
        "print(f\"Downloading APIs zip {apis_file_id}...\")\n",
        "download_drive_file(drive_service, apis_file_id, ZIP_PATH)\n",
        "\n",
        "print(f\"Extracting {ZIP_PATH}...\")\n",
        "with zipfile.ZipFile(ZIP_PATH, 'r') as zip_ref:\n",
        "    for member in zip_ref.namelist():\n",
        "        if any(member.startswith(p) for p in ITEMS_TO_EXTRACT):\n",
        "            zip_ref.extract(member, CONTENT_DIR)\n",
        "\n",
        "os.remove(ZIP_PATH)\n",
        "\n",
        "if os.path.exists(APIS_DIR):\n",
        "    sys.path.append(APIS_DIR)\n",
        "\n",
        "for p in [APIS_DIR, DBS_DIR, SCRIPTS_DIR]:\n",
        "    print(f\"{'✅' if os.path.exists(p) else '❌'} {p}\")\n",
        "\n",
        "# PWS: Copy pws_image_data folder in /content/pws_image_data\n",
        "print(f\"\\nDownloading all files from pws_images_data Drive folder.\")\n",
        "IMAGES_ZIP_ID = '1MlgE9LnFA221ARh9l4nbF1yGc215KDN_'\n",
        "IMAGES_ZIP_PATH = os.path.join(CONTENT_DIR, 'pws_images_data.zip')\n",
        "download_drive_file(drive_service, IMAGES_ZIP_ID, IMAGES_ZIP_PATH, file_name='pws_images_data.zip')\n",
        "\n",
        "print(f\"Extracting images from {IMAGES_ZIP_PATH} to {CONTENT_DIR}...\")\n",
        "try:\n",
        "    with zipfile.ZipFile(IMAGES_ZIP_PATH, 'r') as zip_ref:\n",
        "        zip_ref.extractall(CONTENT_DIR)\n",
        "\n",
        "except zipfile.BadZipFile:\n",
        "    print(f\"Error: The downloaded file at {IMAGES_ZIP_PATH} is not a valid zip file.\")\n",
        "    sys.exit(\"Invalid zip file downloaded.\")\n",
        "except Exception as e:\n",
        "    print(f\"An error occurred during extraction: {e}\")\n",
        "    sys.exit(\"Extraction failed.\")\n",
        "\n",
        "if os.path.exists(IMAGES_ZIP_PATH):\n",
        "    os.remove(IMAGES_ZIP_PATH)"
      ]
    },
    {
      "cell_type": "markdown",
      "metadata": {
        "id": "HkPZ3DqYAfEQ"
      },
      "source": [
        "## Install Dependencies and Clone Repositories"
      ]
    },
    {
      "cell_type": "code",
      "execution_count": null,
      "metadata": {
        "colab": {
          "base_uri": "https://localhost:8080/"
        },
        "id": "VwWdOQ0SAgt4",
        "outputId": "668f429e-f255-467c-fa5a-4cd93a9f4941"
      },
      "outputs": [
        {
          "output_type": "stream",
          "name": "stdout",
          "text": [
            "Collecting uv\n",
            "  Downloading uv-0.9.2-py3-none-manylinux_2_17_x86_64.manylinux2014_x86_64.whl.metadata (11 kB)\n",
            "Downloading uv-0.9.2-py3-none-manylinux_2_17_x86_64.manylinux2014_x86_64.whl (21.2 MB)\n",
            "\u001b[?25l   \u001b[90m━━━━━━━━━━━━━━━━━━━━━━━━━━━━━━━━━━━━━━━━\u001b[0m \u001b[32m0.0/21.2 MB\u001b[0m \u001b[31m?\u001b[0m eta \u001b[36m-:--:--\u001b[0m\r\u001b[2K   \u001b[91m━━━━━━━━━━━━━\u001b[0m\u001b[90m╺\u001b[0m\u001b[90m━━━━━━━━━━━━━━━━━━━━━━━━━━\u001b[0m \u001b[32m7.2/21.2 MB\u001b[0m \u001b[31m215.0 MB/s\u001b[0m eta \u001b[36m0:00:01\u001b[0m\r\u001b[2K   \u001b[91m━━━━━━━━━━━━━━━━━━━━━━━━━━━━━\u001b[0m\u001b[90m╺\u001b[0m\u001b[90m━━━━━━━━━━\u001b[0m \u001b[32m15.5/21.2 MB\u001b[0m \u001b[31m240.7 MB/s\u001b[0m eta \u001b[36m0:00:01\u001b[0m\r\u001b[2K   \u001b[91m━━━━━━━━━━━━━━━━━━━━━━━━━━━━━━━━━━━━━━━\u001b[0m\u001b[91m╸\u001b[0m \u001b[32m21.2/21.2 MB\u001b[0m \u001b[31m228.0 MB/s\u001b[0m eta \u001b[36m0:00:01\u001b[0m\r\u001b[2K   \u001b[91m━━━━━━━━━━━━━━━━━━━━━━━━━━━━━━━━━━━━━━━\u001b[0m\u001b[91m╸\u001b[0m \u001b[32m21.2/21.2 MB\u001b[0m \u001b[31m228.0 MB/s\u001b[0m eta \u001b[36m0:00:01\u001b[0m\r\u001b[2K   \u001b[90m━━━━━━━━━━━━━━━━━━━━━━━━━━━━━━━━━━━━━━━━\u001b[0m \u001b[32m21.2/21.2 MB\u001b[0m \u001b[31m103.5 MB/s\u001b[0m eta \u001b[36m0:00:00\u001b[0m\n",
            "\u001b[?25hInstalling collected packages: uv\n",
            "Successfully installed uv-0.9.2\n",
            "\u001b[2mUsing Python 3.12.12 environment at: /usr\u001b[0m\n",
            "\u001b[2K\u001b[2mResolved \u001b[1m161 packages\u001b[0m \u001b[2min 3.07s\u001b[0m\u001b[0m\n",
            "\u001b[2K\u001b[2mPrepared \u001b[1m57 packages\u001b[0m \u001b[2min 3.15s\u001b[0m\u001b[0m\n",
            "\u001b[2mUninstalled \u001b[1m15 packages\u001b[0m \u001b[2min 97ms\u001b[0m\u001b[0m\n",
            "\u001b[2K\u001b[2mInstalled \u001b[1m57 packages\u001b[0m \u001b[2min 130ms\u001b[0m\u001b[0m\n",
            " \u001b[32m+\u001b[39m \u001b[1manthropic\u001b[0m\u001b[2m==0.69.0\u001b[0m\n",
            " \u001b[31m-\u001b[39m \u001b[1mbeautifulsoup4\u001b[0m\u001b[2m==4.13.5\u001b[0m\n",
            " \u001b[32m+\u001b[39m \u001b[1mbeautifulsoup4\u001b[0m\u001b[2m==4.13.4\u001b[0m\n",
            " \u001b[32m+\u001b[39m \u001b[1mbracex\u001b[0m\u001b[2m==2.6\u001b[0m\n",
            " \u001b[32m+\u001b[39m \u001b[1mcoverage\u001b[0m\u001b[2m==7.8.0\u001b[0m\n",
            " \u001b[32m+\u001b[39m \u001b[1mcssselect\u001b[0m\u001b[2m==1.3.0\u001b[0m\n",
            " \u001b[32m+\u001b[39m \u001b[1mdeepdiff\u001b[0m\u001b[2m==8.6.0\u001b[0m\n",
            " \u001b[32m+\u001b[39m \u001b[1mdnspython\u001b[0m\u001b[2m==2.8.0\u001b[0m\n",
            " \u001b[32m+\u001b[39m \u001b[1mdocopt\u001b[0m\u001b[2m==0.6.2\u001b[0m\n",
            " \u001b[31m-\u001b[39m \u001b[1mdocstring-parser\u001b[0m\u001b[2m==0.17.0\u001b[0m\n",
            " \u001b[32m+\u001b[39m \u001b[1mdocstring-parser\u001b[0m\u001b[2m==0.16\u001b[0m\n",
            " \u001b[31m-\u001b[39m \u001b[1mduckdb\u001b[0m\u001b[2m==1.3.2\u001b[0m\n",
            " \u001b[32m+\u001b[39m \u001b[1mduckdb\u001b[0m\u001b[2m==1.3.0\u001b[0m\n",
            " \u001b[32m+\u001b[39m \u001b[1memail-validator\u001b[0m\u001b[2m==2.2.0\u001b[0m\n",
            " \u001b[32m+\u001b[39m \u001b[1mete3\u001b[0m\u001b[2m==3.1.3\u001b[0m\n",
            " \u001b[32m+\u001b[39m \u001b[1mfreezegun\u001b[0m\u001b[2m==1.5.2\u001b[0m\n",
            " \u001b[31m-\u001b[39m \u001b[1mgoogle-genai\u001b[0m\u001b[2m==1.41.0\u001b[0m\n",
            " \u001b[32m+\u001b[39m \u001b[1mgoogle-genai\u001b[0m\u001b[2m==1.38.0\u001b[0m\n",
            " \u001b[32m+\u001b[39m \u001b[1mjedi\u001b[0m\u001b[2m==0.19.2\u001b[0m\n",
            " \u001b[32m+\u001b[39m \u001b[1mjson-repair\u001b[0m\u001b[2m==0.44.1\u001b[0m\n",
            " \u001b[32m+\u001b[39m \u001b[1mjsonpath-ng\u001b[0m\u001b[2m==1.7.0\u001b[0m\n",
            " \u001b[32m+\u001b[39m \u001b[1mlangchain-anthropic\u001b[0m\u001b[2m==0.3.19\u001b[0m\n",
            " \u001b[32m+\u001b[39m \u001b[1mlangchain-openai\u001b[0m\u001b[2m==0.3.30\u001b[0m\n",
            " \u001b[32m+\u001b[39m \u001b[1mlevenshtein\u001b[0m\u001b[2m==0.27.1\u001b[0m\n",
            " \u001b[32m+\u001b[39m \u001b[1mlibcst\u001b[0m\u001b[2m==1.8.2\u001b[0m\n",
            " \u001b[32m+\u001b[39m \u001b[1mlxml-html-clean\u001b[0m\u001b[2m==0.4.3\u001b[0m\n",
            " \u001b[31m-\u001b[39m \u001b[1mmcp\u001b[0m\u001b[2m==1.16.0\u001b[0m\n",
            " \u001b[32m+\u001b[39m \u001b[1mmcp\u001b[0m\u001b[2m==1.12.4\u001b[0m\n",
            " \u001b[32m+\u001b[39m \u001b[1mmermaid-python\u001b[0m\u001b[2m==0.1\u001b[0m\n",
            " \u001b[32m+\u001b[39m \u001b[1mmongomock\u001b[0m\u001b[2m==4.3.0\u001b[0m\n",
            " \u001b[31m-\u001b[39m \u001b[1mopenpyxl\u001b[0m\u001b[2m==3.1.5\u001b[0m\n",
            " \u001b[32m+\u001b[39m \u001b[1mopenpyxl\u001b[0m\u001b[2m==3.1.2\u001b[0m\n",
            " \u001b[32m+\u001b[39m \u001b[1morderly-set\u001b[0m\u001b[2m==5.5.0\u001b[0m\n",
            " \u001b[32m+\u001b[39m \u001b[1mphonenumbers\u001b[0m\u001b[2m==9.0.12\u001b[0m\n",
            " \u001b[32m+\u001b[39m \u001b[1mplaywright\u001b[0m\u001b[2m==1.52.0\u001b[0m\n",
            " \u001b[32m+\u001b[39m \u001b[1mportalocker\u001b[0m\u001b[2m==2.10.1\u001b[0m\n",
            " \u001b[31m-\u001b[39m \u001b[1mpsutil\u001b[0m\u001b[2m==5.9.5\u001b[0m\n",
            " \u001b[32m+\u001b[39m \u001b[1mpsutil\u001b[0m\u001b[2m==7.0.0\u001b[0m\n",
            " \u001b[31m-\u001b[39m \u001b[1mpydantic\u001b[0m\u001b[2m==2.11.10\u001b[0m\n",
            " \u001b[32m+\u001b[39m \u001b[1mpydantic\u001b[0m\u001b[2m==2.11.4\u001b[0m\n",
            " \u001b[32m+\u001b[39m \u001b[1mpyee\u001b[0m\u001b[2m==13.0.0\u001b[0m\n",
            " \u001b[32m+\u001b[39m \u001b[1mpymongo\u001b[0m\u001b[2m==4.13.0\u001b[0m\n",
            " \u001b[32m+\u001b[39m \u001b[1mpymongo-schema\u001b[0m\u001b[2m==0.4.1\u001b[0m\n",
            " \u001b[32m+\u001b[39m \u001b[1mpypdf2\u001b[0m\u001b[2m==3.0.1\u001b[0m\n",
            " \u001b[31m-\u001b[39m \u001b[1mpytest\u001b[0m\u001b[2m==8.4.2\u001b[0m\n",
            " \u001b[32m+\u001b[39m \u001b[1mpytest\u001b[0m\u001b[2m==8.3.5\u001b[0m\n",
            " \u001b[31m-\u001b[39m \u001b[1mpython-dotenv\u001b[0m\u001b[2m==1.1.1\u001b[0m\n",
            " \u001b[32m+\u001b[39m \u001b[1mpython-dotenv\u001b[0m\u001b[2m==1.1.0\u001b[0m\n",
            " \u001b[32m+\u001b[39m \u001b[1mpython-levenshtein\u001b[0m\u001b[2m==0.27.1\u001b[0m\n",
            " \u001b[32m+\u001b[39m \u001b[1mpython-pptx\u001b[0m\u001b[2m==0.6.21\u001b[0m\n",
            " \u001b[32m+\u001b[39m \u001b[1mqdrant-client\u001b[0m\u001b[2m==1.14.3\u001b[0m\n",
            " \u001b[32m+\u001b[39m \u001b[1mquickjs\u001b[0m\u001b[2m==1.19.4\u001b[0m\n",
            " \u001b[32m+\u001b[39m \u001b[1mrapidfuzz\u001b[0m\u001b[2m==3.14.1\u001b[0m\n",
            " \u001b[32m+\u001b[39m \u001b[1mreadability-lxml\u001b[0m\u001b[2m==0.8.4.1\u001b[0m\n",
            " \u001b[32m+\u001b[39m \u001b[1mreportlab\u001b[0m\u001b[2m==4.4.4\u001b[0m\n",
            " \u001b[31m-\u001b[39m \u001b[1mrequests\u001b[0m\u001b[2m==2.32.4\u001b[0m\n",
            " \u001b[32m+\u001b[39m \u001b[1mrequests\u001b[0m\u001b[2m==2.32.3\u001b[0m\n",
            " \u001b[32m+\u001b[39m \u001b[1msentinels\u001b[0m\u001b[2m==1.1.1\u001b[0m\n",
            " \u001b[31m-\u001b[39m \u001b[1msqlglot\u001b[0m\u001b[2m==25.20.2\u001b[0m\n",
            " \u001b[32m+\u001b[39m \u001b[1msqlglot\u001b[0m\u001b[2m==26.25.3\u001b[0m\n",
            " \u001b[32m+\u001b[39m \u001b[1msqlglotrs\u001b[0m\u001b[2m==0.6.1\u001b[0m\n",
            " \u001b[31m-\u001b[39m \u001b[1mstarlette\u001b[0m\u001b[2m==0.48.0\u001b[0m\n",
            " \u001b[32m+\u001b[39m \u001b[1mstarlette\u001b[0m\u001b[2m==0.47.2\u001b[0m\n",
            " \u001b[32m+\u001b[39m \u001b[1mthefuzz\u001b[0m\u001b[2m==0.22.1\u001b[0m\n",
            " \u001b[31m-\u001b[39m \u001b[1mtqdm\u001b[0m\u001b[2m==4.67.1\u001b[0m\n",
            " \u001b[32m+\u001b[39m \u001b[1mtqdm\u001b[0m\u001b[2m==4.66.1\u001b[0m\n",
            " \u001b[31m-\u001b[39m \u001b[1muvicorn\u001b[0m\u001b[2m==0.37.0\u001b[0m\n",
            " \u001b[32m+\u001b[39m \u001b[1muvicorn\u001b[0m\u001b[2m==0.35.0\u001b[0m\n",
            " \u001b[32m+\u001b[39m \u001b[1mwcmatch\u001b[0m\u001b[2m==10.1\u001b[0m\n",
            " \u001b[32m+\u001b[39m \u001b[1mwhoosh\u001b[0m\u001b[2m==2.7.4\u001b[0m\n",
            " \u001b[32m+\u001b[39m \u001b[1mxlsxwriter\u001b[0m\u001b[2m==3.2.9\u001b[0m\n",
            " \u001b[32m+\u001b[39m \u001b[1mxlwt\u001b[0m\u001b[2m==1.3.0\u001b[0m\n",
            "\u001b[2mUsing Python 3.12.12 environment at: /usr\u001b[0m\n",
            "\u001b[2mAudited \u001b[1m1 package\u001b[0m \u001b[2min 105ms\u001b[0m\u001b[0m\n"
          ]
        }
      ],
      "source": [
        "!pip install uv\n",
        "!uv pip install -r /content/APIs/requirements.txt\n",
        "!uv pip install jsonpath_ng"
      ]
    },
    {
      "cell_type": "markdown",
      "metadata": {
        "id": "mqvXS8X6-ylx"
      },
      "source": [
        "## Import APIs and initiate DBs"
      ]
    },
    {
      "cell_type": "code",
      "execution_count": null,
      "metadata": {
        "colab": {
          "base_uri": "https://localhost:8080/"
        },
        "id": "EVmkaSDyFyrd",
        "outputId": "6daecd4d-2853-4978-9715-cc151a60f3a6"
      },
      "outputs": [
        {
          "output_type": "stream",
          "name": "stdout",
          "text": [
            "SDM DB: {'environment': {'home_assistant': {'devices': {'LIGHT_001': {'attributes': {'brightness': 1.0, 'company': 'Crompton', 'model': '4Ft.22W', 'serial_number': 'C907890', 'state': 'Off', 'supports_color': 'No'}, 'name': 'Living Room Light 1', 'type': 'Light'}, 'LIGHT_002': {'attributes': {'brightness': 1.0, 'company': 'Crompton', 'model': '4Ft.22W', 'serial_number': 'C847116', 'state': 'Off', 'supports_color': 'No'}, 'name': 'Living Room Light 2', 'type': 'Light'}, 'LIGHT_003': {'attributes': {'brightness': 0.8, 'company': 'Crompton', 'model': '3Ft.15W', 'serial_number': 'C170567', 'state': 'On', 'supports_color': 'No'}, 'name': 'Kitchen Light', 'type': 'Light'}, 'LIGHT_004': {'attributes': {'brightness': 1.0, 'color': '#FFFFFF', 'company': 'Crompton Multi-Color', 'model': '4Ft.22W - 3 in 1', 'serial_number': 'C956341', 'state': 'Off', 'supports_color': 'Yes'}, 'name': 'GuestRoom Light', 'type': 'Light'}, 'LIGHT_005': {'attributes': {'brightness': 1.0, 'color': '#FFFFFF', 'company': 'Crompton Multi-Color', 'model': '4Ft.22W - 3 in 1', 'serial_number': 'C9563571', 'state': 'Off', 'supports_color': 'Yes'}, 'name': 'StudyRoom Light', 'type': 'Light'}}}, 'sdm': {'devices': {'CAM_001': {'attributes': {'company': 'Google', 'model': 'Google Nest Cam Indoor', 'parent': 'enterprises/house-system-136791/structures/STRCT2/rooms/ROOM1', 'serial_number': 'GNC-I-29000', 'state': 'On'}, 'name': 'LivingRoom Cam', 'type': 'Camera'}, 'CAM_002': {'attributes': {'company': 'Google', 'model': 'Google Nest Cam Indoor', 'parent': 'enterprises/house-system-136791/structures/STRCT2/rooms/ROOM2', 'serial_number': 'GNC-I-880000', 'state': 'On'}, 'name': 'Kitchen Cam', 'type': 'Camera'}, 'CAM_003': {'attributes': {'company': 'Google', 'model': 'Google Nest Cam IQ Outdoor', 'parent': 'enterprises/house-system-136791/structures/STRCT1/rooms/OUT1', 'serial_number': 'GNC-O-880000', 'state': 'On'}, 'name': 'Alley Cam', 'type': 'Camera'}}, 'structures': [{'name': 'enterprises/house-system-136791/structures/STRCT1', 'traits': {'sdm.structures.traits.Info': {'customName': 'House - Outdoors'}}}, {'name': 'enterprises/house-system-136791/structures/STRCT2', 'traits': {'sdm.structures.traits.Info': {'customName': 'House - Indoors'}}}]}}, 'project_id': 'house-system-136791'}\n",
            "Gmail DB: {'users': {'me': {'profile': {'emailAddress': 'john.doe@gmail.com', 'messagesTotal': 120, 'threadsTotal': 45, 'historyId': '1001'}, 'drafts': {'draft-1': {'id': 'draft-1', 'message': {'id': 'draft-1', 'threadId': 'thread-10', 'raw': 'Subject: Team Meeting\\n\\nPlease review the meeting agenda attached.', 'sender': 'john.doe@gmail.com', 'recipient': 'alice.johnson@gmail.com', 'subject': 'Team Meeting', 'body': 'Please review the meeting agenda attached.', 'date': '2025-04-01T09:00:00Z', 'internalDate': '1743498000000', 'isRead': True, 'labelIds': ['DRAFT'], 'payload': {'mimeType': 'multipart/mixed', 'parts': [{'mimeType': 'text/plain', 'body': {'data': 'Please review the meeting agenda attached.'}}, {'mimeType': 'application/pdf', 'filename': 'meeting_agenda.pdf', 'body': {'attachmentId': 'att_draft_001', 'size': 2048}}], 'headers': [{'name': 'From', 'value': 'john.doe@gmail.com'}, {'name': 'To', 'value': 'alice.johnson@gmail.com'}, {'name': 'Subject', 'value': 'Team Meeting'}, {'name': 'Date', 'value': '2025-04-01T09:00:00Z'}]}}}, 'draft-2': {'id': 'draft-2', 'message': {'id': 'draft-2', 'threadId': 'thread-11', 'raw': 'Subject: Project Update\\n\\nLatest project update attached.', 'sender': 'john.doe@gmail.com', 'recipient': 'bob.smith@hotmail.com', 'subject': 'Project Update', 'body': 'Latest project update attached.', 'date': '2025-03-31T16:30:00Z', 'internalDate': '1743438600000', 'isRead': True, 'labelIds': ['DRAFT', 'IMPORTANT'], 'payload': {'mimeType': 'multipart/mixed', 'parts': [{'mimeType': 'text/plain', 'body': {'data': 'Latest project update attached.'}}, {'mimeType': 'application/vnd.openxmlformats-officedocument.wordprocessingml.document', 'filename': 'project_update.docx', 'body': {'attachmentId': 'att_draft_002', 'size': 15360}}]}, 'headers': [{'name': 'From', 'value': 'john.doe@gmail.com'}, {'name': 'To', 'value': 'bob.smith@hotmail.com'}, {'name': 'Subject', 'value': 'Project Update'}, {'name': 'Date', 'value': '2025-03-31T16:30:00Z'}]}}}, 'messages': {'msg_1': {'id': 'msg_1', 'threadId': 'thread-10', 'raw': 'Subject: Re: Team Meeting\\n\\nI have reviewed the agenda and it looks good.', 'sender': 'alice.johnson@gmail.com', 'recipient': 'john.doe@gmail.com', 'subject': 'Re: Team Meeting', 'body': 'I have reviewed the agenda and it looks good.', 'date': '2025-04-01T10:00:00Z', 'internalDate': '1743501600000', 'isRead': False, 'labelIds': ['INBOX', 'UNREAD']}, 'msg_2': {'id': 'msg_2', 'threadId': 'thread-11', 'raw': 'Subject: Project Update\\n\\nPlease find the latest project updates attached.', 'sender': 'john.doe@gmail.com', 'recipient': 'bob.smith@hotmail.com', 'subject': 'Project Update', 'body': 'Please find the latest project updates attached.', 'date': '2025-03-31T17:00:00Z', 'internalDate': '1743440400000', 'isRead': True, 'labelIds': ['SENT']}, 'msg_3': {'id': 'msg_3', 'threadId': 'thread-12', 'raw': 'Subject: Weekly Report\\n\\nThe weekly report is attached. Please review it.', 'sender': 'charlie.brown@yahoo.com', 'recipient': 'john.doe@gmail.com', 'subject': 'Weekly Report', 'body': 'The weekly report is attached. Please review it.', 'date': '2025-03-31T14:00:00Z', 'internalDate': '1743429600000', 'isRead': True, 'labelIds': ['INBOX'], 'payload': {'mimeType': 'multipart/mixed', 'parts': [{'mimeType': 'text/plain', 'body': {'data': 'I have reviewed the agenda and it looks good.'}}, {'mimeType': 'application/vnd.openxmlformats-officedocument.spreadsheetml.sheet', 'filename': 'weekly_report.xlsx', 'body': {'attachmentId': 'att_msg3_001', 'size': 8192}}], 'headers': [{'name': 'From', 'value': 'charlie.brown@yahoo.com'}, {'name': 'To', 'value': 'john.doe@gmail.com'}, {'name': 'Subject', 'value': 'Weekly Report'}, {'name': 'Date', 'value': '2025-03-31T14:00:00Z'}]}}, 'msg_4': {'id': 'msg_4', 'threadId': 'thread-13', 'raw': 'Subject: Document Update Request\\n\\nCould you please update the document as discussed?', 'sender': 'david.lee@outlook.com', 'recipient': 'john.doe@gmail.com', 'subject': 'Document Update Request', 'body': 'Could you please update the document as discussed?', 'date': '2025-03-30T08:30:00Z', 'internalDate': '1743323400000', 'isRead': False, 'labelIds': ['INBOX', 'UNREAD'], 'payload': {'mimeType': 'multipart/mixed', 'parts': [{'mimeType': 'text/plain', 'body': {'data': 'Could you please update the document as discussed?'}}, {'mimeType': 'application/vnd.openxmlformats-officedocument.wordprocessingml.document', 'filename': 'requirements.docx', 'body': {'attachmentId': 'att_msg4_001', 'size': 25600}}, {'mimeType': 'image/png', 'filename': 'sample_image.png', 'body': {'attachmentId': 'att_msg4_002', 'size': 4096}}], 'headers': [{'name': 'From', 'value': 'david.lee@outlook.com'}, {'name': 'To', 'value': 'john.doe@gmail.com'}, {'name': 'Subject', 'value': 'Document Update Request'}, {'name': 'Date', 'value': '2025-03-30T08:30:00Z'}]}}}, 'threads': {'thread-10': {'id': 'thread-10', 'messageIds': ['msg_1']}, 'thread-11': {'id': 'thread-11', 'messageIds': ['msg_2']}, 'thread-12': {'id': 'thread-12', 'messageIds': ['msg_3']}, 'thread-13': {'id': 'thread-13', 'messageIds': ['msg_4']}}, 'labels': {'INBOX': {'id': 'INBOX', 'name': 'Inbox', 'type': 'system', 'labelListVisibility': 'labelShow', 'messageListVisibility': 'show'}, 'UNREAD': {'id': 'UNREAD', 'name': 'Unread', 'type': 'system', 'labelListVisibility': 'labelShow', 'messageListVisibility': 'show'}, 'IMPORTANT': {'id': 'IMPORTANT', 'name': 'Important', 'type': 'system', 'labelListVisibility': 'labelShow', 'messageListVisibility': 'show'}, 'SENT': {'id': 'SENT', 'name': 'Sent', 'type': 'system', 'labelListVisibility': 'labelHide', 'messageListVisibility': 'hide'}, 'DRAFT': {'id': 'DRAFT', 'name': 'Draft', 'type': 'system', 'labelListVisibility': 'labelHide', 'messageListVisibility': 'hide'}, 'TRASH': {'id': 'TRASH', 'name': 'Trash', 'type': 'system', 'labelListVisibility': 'labelHide', 'messageListVisibility': 'hide'}, 'SPAM': {'id': 'SPAM', 'name': 'Spam', 'type': 'system', 'labelListVisibility': 'labelHide', 'messageListVisibility': 'hide'}}, 'settings': {'imap': {'enabled': True, 'server': 'imap.gmail.com', 'port': 993}, 'pop': {'enabled': False, 'server': 'pop.gmail.com', 'port': 995}, 'vacation': {'enableAutoReply': True, 'responseBodyPlainText': \"I'm currently out of office until April 10th.\"}, 'language': {'displayLanguage': 'en-US'}, 'autoForwarding': {'enabled': False}, 'sendAs': {'john.alt@gmail.com': {'sendAsEmail': 'john.alt@gmail.com', 'displayName': 'John Alt', 'replyToAddress': 'john.alt@gmail.com', 'signature': 'Regards,\\nJohn', 'verificationStatus': 'accepted', 'smimeInfo': {'smime_1': {'id': 'smime_1', 'encryptedKey': 'key_secure_12345', 'default': True}}}, 'john.work@gmail.com': {'sendAsEmail': 'john.work@gmail.com', 'displayName': 'John Doe (Work)', 'replyToAddress': 'john.work@gmail.com', 'signature': 'Best,\\nJohn Doe', 'verificationStatus': 'pending'}}}, 'history': [{'id': 'hist_1', 'messages': ['msg_1', 'msg_2']}, {'id': 'hist_2', 'labelsAdded': ['INBOX']}], 'watch': {'labelFilterAction': 'include', 'labelIds': ['INBOX']}}, 'alice': {'profile': {'emailAddress': 'alice.johnson@gmail.com', 'messagesTotal': 35, 'threadsTotal': 12, 'historyId': '1002'}, 'drafts': {}, 'messages': {}, 'threads': {}, 'labels': {}, 'settings': {'imap': {'enabled': True, 'server': 'imap.gmail.com', 'port': 993}, 'pop': {}, 'vacation': {'enableAutoReply': False}, 'language': {'displayLanguage': 'en-US'}, 'autoForwarding': {'enabled': False}, 'sendAs': {}}, 'history': [], 'watch': {}}, 'bob': {'profile': {'emailAddress': 'bob.smith@hotmail.com', 'messagesTotal': 50, 'threadsTotal': 20, 'historyId': '1003'}, 'drafts': {}, 'messages': {}, 'threads': {}, 'labels': {}, 'settings': {'imap': {'enabled': True, 'server': 'imap.live.com', 'port': 993}, 'pop': {}, 'vacation': {'enableAutoReply': False}, 'language': {'displayLanguage': 'en-US'}, 'autoForwarding': {'enabled': False}, 'sendAs': {}}, 'history': [], 'watch': {}}, 'charlie': {'profile': {'emailAddress': 'charlie.brown@yahoo.com', 'messagesTotal': 28, 'threadsTotal': 9, 'historyId': '1004'}, 'drafts': {}, 'messages': {}, 'threads': {}, 'labels': {}, 'settings': {'imap': {'enabled': True, 'server': 'imap.mail.yahoo.com', 'port': 993}, 'pop': {}, 'vacation': {'enableAutoReply': False}, 'language': {'displayLanguage': 'en-US'}, 'autoForwarding': {'enabled': False}, 'sendAs': {}}, 'history': [], 'watch': {}}, 'david': {'profile': {'emailAddress': 'david.lee@outlook.com', 'messagesTotal': 65, 'threadsTotal': 22, 'historyId': '1005'}, 'drafts': {}, 'messages': {}, 'threads': {}, 'labels': {}, 'settings': {'imap': {'enabled': True, 'server': 'imap.outlook.com', 'port': 993}, 'pop': {}, 'vacation': {'enableAutoReply': False}, 'language': {'displayLanguage': 'en-US'}, 'autoForwarding': {'enabled': False}, 'sendAs': {}}, 'history': [], 'watch': {}}}, 'attachments': {'att_draft_001': {'attachmentId': 'att_draft_001', 'filename': 'meeting_agenda.pdf', 'size': 2048, 'mimeType': 'application/pdf', 'data': 'JVBERi0xLjQKJcOkw7zDssOgw64KMiAwIG9iago8PC9MZW5ndGggMyAwIFI+PgpzdHJlYW0KQlQKL0YxIDEyIFRmCjMwIDc4NCBUZAooSGVsbG8gV29ybGQhKSBUagpFVApzdHJlYW0KMyAwIG9iago5CmVuZG9iagp4cmVmCjAgNAowMDAwMDAwMDAwIDY1NTM1IGYgCjAwMDAwMDAwMTAgMDAwMDAgbiAKMDAwMDAwMDA3OSAwMDAwMCBuIAowMDAwMDAwMTczIDAwMDAwIG4gCnRyYWlsZXIKPDwvU2l6ZSA0L1Jvb3QgMSAwIFI+PgpzdGFydHhyZWYKMTkyCiUlRU9G'}, 'att_draft_002': {'attachmentId': 'att_draft_002', 'filename': 'project_update.docx', 'size': 15360, 'mimeType': 'application/vnd.openxmlformats-officedocument.wordprocessingml.document', 'data': 'UEsDBBQAAAAIAAsAAABUYXN0IERvY3VtZW50IGZvciB0ZXN0aW5nIGF0dGFjaG1lbnRzIGluIEdtYWlsIEFQSS4gVGhpcyBpcyBhIHNhbXBsZSBXb3JkIGRvY3VtZW50IHdpdGggc29tZSBiYXNpYyBjb250ZW50IGZvciBkZW1vbnN0cmF0aW9uIHB1cnBvc2VzLg=='}, 'att_msg3_001': {'attachmentId': 'att_msg3_001', 'filename': 'weekly_report.xlsx', 'size': 8192, 'mimeType': 'application/vnd.openxmlformats-officedocument.spreadsheetml.sheet', 'data': 'UEsDBBQAAAAIABFtaVAAAAAAAAAAAAAAAAAYAAAAeGwvd29ya3NoZWV0cy9zaGVldDEueG1sRXhhbXBsZSBzcHJlYWRzaGVldCBkYXRhIGZvciB0ZXN0aW5nIGF0dGFjaG1lbnRzLiBDb250YWlucyBzYW1wbGUgZGF0YSBhbmQgY2hhcnRzIGZvciBkZW1vbnN0cmF0aW9uIHB1cnBvc2VzLg=='}, 'att_msg4_001': {'attachmentId': 'att_msg4_001', 'filename': 'requirements.docx', 'size': 25600, 'mimeType': 'application/vnd.openxmlformats-officedocument.wordprocessingml.document', 'data': 'UEsDBBQAAAAIAAstbVBSZXF1aXJlbWVudHMgZG9jdW1lbnQgZm9yIHByb2plY3QgdXBkYXRlLiBDb250YWlucyBkZXRhaWxlZCBzcGVjaWZpY2F0aW9ucyBhbmQgcmVxdWlyZW1lbnRzIGZvciB0aGUgbmV3IGZlYXR1cmVzIGFuZCBmdW5jdGlvbmFsaXRpZXMuIFRoaXMgaXMgYSBzYW1wbGUgZG9jdW1lbnQgZm9yIHRlc3RpbmcgYXR0YWNobWVudCBmdW5jdGlvbmFsaXR5IGluIHRoZSBHbWFpbCBBUEkgaW1wbGVtZW50YXRpb24u'}, 'att_msg4_002': {'attachmentId': 'att_msg4_002', 'filename': 'sample_image.png', 'size': 4096, 'mimeType': 'image/png', 'data': 'iVBORw0KGgoAAAANSUHEUgAAAAEAAAABCAYAAAAfFcSJAAAADUlEQVR42mNkYPhfDwAChwGA60e6kgAAAABJRU5ErkJggg=='}}, 'counters': {'message': 4, 'thread': 4, 'draft': 2, 'label': 3, 'history': 2, 'smime': 1, 'attachment': 5}}\n",
            "Image Map: {'cameras': {'CAM_001': [{'expected': 'No', 'image_path': './pws_image_data/05_16_25 22_01.jpg'}], 'CAM_002': [{'expected': 'No', 'image_path': './pws_image_data/2025-05-23_1348_cam.jpg'}], 'CAM_003': [{'expected': 'Yes', 'image_path': './pws_image_data/05_20_25 8_29_12 AM.JPG'}]}, 'events': []}\n"
          ]
        }
      ],
      "source": [
        "scenario_db = {'environment': {'home_assistant': {'devices': {'LIGHT_001': {'attributes': {'brightness': 1.0,\n",
        "                                                                             'company': 'Crompton',\n",
        "                                                                             'model': '4Ft.22W',\n",
        "                                                                             'serial_number': 'C907890',\n",
        "                                                                             'state': 'Off',\n",
        "                                                                             'supports_color': 'No'},\n",
        "                                                              'name': 'Living '\n",
        "                                                                      'Room '\n",
        "                                                                      'Light 1',\n",
        "                                                              'type': 'Light'},\n",
        "                                                'LIGHT_002': {'attributes': {'brightness': 1.0,\n",
        "                                                                             'company': 'Crompton',\n",
        "                                                                             'model': '4Ft.22W',\n",
        "                                                                             'serial_number': 'C847116',\n",
        "                                                                             'state': 'Off',\n",
        "                                                                             'supports_color': 'No'},\n",
        "                                                              'name': 'Living '\n",
        "                                                                      'Room '\n",
        "                                                                      'Light 2',\n",
        "                                                              'type': 'Light'},\n",
        "                                                'LIGHT_003': {'attributes': {'brightness': 0.8,\n",
        "                                                                             'company': 'Crompton',\n",
        "                                                                             'model': '3Ft.15W',\n",
        "                                                                             'serial_number': 'C170567',\n",
        "                                                                             'state': 'On',\n",
        "                                                                             'supports_color': 'No'},\n",
        "                                                              'name': 'Kitchen '\n",
        "                                                                      'Light',\n",
        "                                                              'type': 'Light'},\n",
        "                                                'LIGHT_004': {'attributes': {'brightness': 1.0,\n",
        "                                                                             'color': '#FFFFFF',\n",
        "                                                                             'company': 'Crompton '\n",
        "                                                                                        'Multi-Color',\n",
        "                                                                             'model': '4Ft.22W '\n",
        "                                                                                      '- '\n",
        "                                                                                      '3 '\n",
        "                                                                                      'in '\n",
        "                                                                                      '1',\n",
        "                                                                             'serial_number': 'C956341',\n",
        "                                                                             'state': 'Off',\n",
        "                                                                             'supports_color': 'Yes'},\n",
        "                                                              'name': 'GuestRoom '\n",
        "                                                                      'Light',\n",
        "                                                              'type': 'Light'},\n",
        "                                                'LIGHT_005': {'attributes': {'brightness': 1.0,\n",
        "                                                                             'color': '#FFFFFF',\n",
        "                                                                             'company': 'Crompton '\n",
        "                                                                                        'Multi-Color',\n",
        "                                                                             'model': '4Ft.22W '\n",
        "                                                                                      '- '\n",
        "                                                                                      '3 '\n",
        "                                                                                      'in '\n",
        "                                                                                      '1',\n",
        "                                                                             'serial_number': 'C9563571',\n",
        "                                                                             'state': 'Off',\n",
        "                                                                             'supports_color': 'Yes'},\n",
        "                                                              'name': 'StudyRoom '\n",
        "                                                                      'Light',\n",
        "                                                              'type': 'Light'}}},\n",
        "                 'sdm': {'devices': {'CAM_001': {'attributes': {'company': 'Google',\n",
        "                                                                'model': 'Google '\n",
        "                                                                         'Nest '\n",
        "                                                                         'Cam '\n",
        "                                                                         'Indoor',\n",
        "                                                                'parent': 'enterprises/house-system-136791/structures/STRCT2/rooms/ROOM1',\n",
        "                                                                'serial_number': 'GNC-I-29000',\n",
        "                                                                'state': 'On'},\n",
        "                                                 'name': 'LivingRoom Cam',\n",
        "                                                 'type': 'Camera'},\n",
        "                                     'CAM_002': {'attributes': {'company': 'Google',\n",
        "                                                                'model': 'Google '\n",
        "                                                                         'Nest '\n",
        "                                                                         'Cam '\n",
        "                                                                         'Indoor',\n",
        "                                                                'parent': 'enterprises/house-system-136791/structures/STRCT2/rooms/ROOM2',\n",
        "                                                                'serial_number': 'GNC-I-880000',\n",
        "                                                                'state': 'On'},\n",
        "                                                 'name': 'Kitchen Cam',\n",
        "                                                 'type': 'Camera'},\n",
        "                                     'CAM_003': {'attributes': {'company': 'Google',\n",
        "                                                                'model': 'Google '\n",
        "                                                                         'Nest '\n",
        "                                                                         'Cam '\n",
        "                                                                         'IQ '\n",
        "                                                                         'Outdoor',\n",
        "                                                                'parent': 'enterprises/house-system-136791/structures/STRCT1/rooms/OUT1',\n",
        "                                                                'serial_number': 'GNC-O-880000',\n",
        "                                                                'state': 'On'},\n",
        "                                                 'name': 'Alley Cam',\n",
        "                                                 'type': 'Camera'}},\n",
        "                         'structures': [{'name': 'enterprises/house-system-136791/structures/STRCT1',\n",
        "                                         'traits': {'sdm.structures.traits.Info': {'customName': 'House '\n",
        "                                                                                                 '- '\n",
        "                                                                                                 'Outdoors'}}},\n",
        "                                        {'name': 'enterprises/house-system-136791/structures/STRCT2',\n",
        "                                         'traits': {'sdm.structures.traits.Info': {'customName': 'House '\n",
        "                                                                                                 '- '\n",
        "                                                                                                 'Indoors'}}}]}},\n",
        " 'project_id': 'house-system-136791'}\n",
        "\n",
        "image_map = {'cameras': {'CAM_001': [{'expected': 'No',\n",
        "                          'image_path': './pws_image_data/05_16_25 22_01.jpg'}],\n",
        "             'CAM_002': [{'expected': 'No',\n",
        "                          'image_path': './pws_image_data/2025-05-23_1348_cam.jpg'}],\n",
        "             'CAM_003': [{'expected': 'Yes',\n",
        "                          'image_path': './pws_image_data/05_20_25 8_29_12 '\n",
        "                                        'AM.JPG'}]},\n",
        " 'events': []}\n",
        "\n",
        "\n",
        "import json\n",
        "\n",
        "with open(\"/content/scenario_db.json\", \"w\") as f:\n",
        "    json.dump(scenario_db, f)\n",
        "\n",
        "with open(\"/content/image_map.json\", \"w\") as f:\n",
        "    json.dump(image_map, f)\n",
        "\n",
        "\n",
        "import os\n",
        "import json\n",
        "\n",
        "import gmail\n",
        "import sdm\n",
        "\n",
        "# Initialize DBs\n",
        "gmail.SimulationEngine.db.load_state(\"/content/DBs/GmailDefaultDB.json\")\n",
        "sdm.SimulationEngine.db.load_state(f\"/content/scenario_db.json\")\n",
        "\n",
        "# Print the DBs\n",
        "print(f\"SDM DB: {sdm.SimulationEngine.db.DB}\")\n",
        "print(f\"Gmail DB: {gmail.SimulationEngine.db.DB}\")\n",
        "\n",
        "# Load image map for this task\n",
        "with open(\"/content/image_map.json\", \"r\") as f:\n",
        "    image_map = json.load(f)\n",
        "\n",
        "# Print the Image Map\n",
        "print(f\"Image Map: {image_map}\")\n",
        "\n",
        "# Reset states\n",
        "sdm.devices.commands.reset_served_images()\n",
        "sdm.SimulationEngine.db.reset_state_env()\n",
        "\n",
        "# Initialize image map\n",
        "sdm.SimulationEngine.db.update_state_dict(image_map)\n",
        "\n",
        "# Set events\n",
        "sdm.SimulationEngine.events.set_cameras_events(image_map, sdm.SimulationEngine.db.DB.get(\"project_id\", \"\"))"
      ]
    },
    {
      "cell_type": "markdown",
      "metadata": {
        "id": "A4Apl0IkMdKd"
      },
      "source": [
        "# Initial Assertion\n",
        "1. Assert that no email has been sent to \"John1223@gmail.com\"."
      ]
    },
    {
      "cell_type": "code",
      "execution_count": null,
      "metadata": {
        "id": "NInHFjxz6uI4"
      },
      "outputs": [],
      "source": [
        "import gmail\n",
        "\n",
        "# Context variable\n",
        "recipient_email = \"John1223@gmail.com\"\n",
        "\n",
        "# Construct Gmail search query\n",
        "query = f'to:{recipient_email}'\n",
        "\n",
        "# List matching messages\n",
        "list_of_emails = gmail.list_messages(userId=\"me\", q=query)\n",
        "\n",
        "# 1. Assert that no email has been sent to \"John1223@gmail.com\".\n",
        "assert len(list_of_emails.get(\"messages\", [])) == 0, (\n",
        "    f\"There are {len(list_of_emails.get('messages'))} emails sent to {recipient_email} \"\n",
        ")"
      ]
    },
    {
      "cell_type": "markdown",
      "metadata": {
        "id": "w8DwKHsJ1LfO"
      },
      "source": [
        "# Action\n",
        "* Locate the Alley camera.\n",
        "* Access footage \"05:20:25 8_29_12 AM\"\n",
        "* This camera shows a garbage truck, confirming that trash pickup has occurred.\n",
        "* Send an email to John1223@gmail.com with the message, \"Trash pickup has been completed.\""
      ]
    },
    {
      "cell_type": "code",
      "execution_count": null,
      "metadata": {
        "colab": {
          "base_uri": "https://localhost:8080/"
        },
        "id": "_enttBzozau3",
        "outputId": "96beb5fb-c51a-4f42-dbd2-300697358401"
      },
      "outputs": [
        {
          "name": "stdout",
          "output_type": "stream",
          "text": [
            "All available SDM devices: {'devices': [{'name': 'enterprises/house-system-136791/devices/CAM_001', 'type': 'sdm.devices.types.CAMERA', 'traits': {'sdm.devices.traits.CameraEventImage': {}, 'sdm.devices.traits.CameraImage': {'maxImageResolution': {'width': 1280, 'height': 960}}, 'sdm.devices.traits.CameraLiveStream': {'maxVideoResolution': {'width': 640, 'height': 480}, 'videoCodecs': ['H264'], 'audioCodecs': ['AAC'], 'supportedProtocols': ['RTSP', 'WEB_RTC']}, 'sdm.devices.traits.CameraMotion': {}, 'sdm.devices.traits.CameraPerson': {}, 'sdm.devices.traits.CameraSound': {}, 'sdm.devices.traits.Info': {'customName': 'LivingRoom Cam'}}, 'project_id': 'house-system-136791', 'parentRelations': [{'parent': 'enterprises/house-system-136791/structures/STRCT2/rooms/ROOM1', 'displayName': 'LivingRoom Cam'}]}, {'name': 'enterprises/house-system-136791/devices/CAM_002', 'type': 'sdm.devices.types.CAMERA', 'traits': {'sdm.devices.traits.CameraEventImage': {}, 'sdm.devices.traits.CameraImage': {'maxImageResolution': {'width': 1280, 'height': 960}}, 'sdm.devices.traits.CameraLiveStream': {'maxVideoResolution': {'width': 640, 'height': 480}, 'videoCodecs': ['H264'], 'audioCodecs': ['AAC'], 'supportedProtocols': ['RTSP', 'WEB_RTC']}, 'sdm.devices.traits.CameraMotion': {}, 'sdm.devices.traits.CameraPerson': {}, 'sdm.devices.traits.CameraSound': {}, 'sdm.devices.traits.Info': {'customName': 'Kitchen Cam'}}, 'project_id': 'house-system-136791', 'parentRelations': [{'parent': 'enterprises/house-system-136791/structures/STRCT2/rooms/ROOM2', 'displayName': 'Kitchen Cam'}]}, {'name': 'enterprises/house-system-136791/devices/CAM_003', 'type': 'sdm.devices.types.CAMERA', 'traits': {'sdm.devices.traits.CameraEventImage': {}, 'sdm.devices.traits.CameraImage': {'maxImageResolution': {'width': 1280, 'height': 960}}, 'sdm.devices.traits.CameraLiveStream': {'maxVideoResolution': {'width': 640, 'height': 480}, 'videoCodecs': ['H264'], 'audioCodecs': ['AAC'], 'supportedProtocols': ['RTSP']}, 'sdm.devices.traits.CameraMotion': {}, 'sdm.devices.traits.CameraPerson': {}, 'sdm.devices.traits.CameraSound': {}, 'sdm.devices.traits.Info': {'customName': 'Alley Cam'}}, 'project_id': 'house-system-136791', 'parentRelations': [{'parent': 'enterprises/house-system-136791/structures/STRCT1/rooms/OUT1', 'displayName': 'Alley Cam'}]}]}\n"
          ]
        }
      ],
      "source": [
        "import gmail\n",
        "import sdm\n",
        "from IPython.display import Image, display\n",
        "import base64\n",
        "\n",
        "def display_base64_image(image_base64):\n",
        "    \"\"\"Helper function to display a base 64 image\"\"\"\n",
        "    base64_string = image_base64.split(':')[1].strip()\n",
        "\n",
        "    try:\n",
        "        missing_padding = len(base64_string) % 4\n",
        "        if missing_padding:\n",
        "            base64_string += '=' * (4 - missing_padding)\n",
        "        image_data = base64.b64decode(base64_string)\n",
        "    except Exception as e:\n",
        "        print(f\"Error decoding base64 string: {e}\")\n",
        "        image_data = None\n",
        "\n",
        "    if image_data:\n",
        "        display(Image(data=image_data))\n",
        "\n",
        "# Context variables\n",
        "recipient_email = \"John1223@gmail.com\"\n",
        "\n",
        "# List all sdm devices\n",
        "sdm_devices = sdm.list_devices()\n",
        "print(f\"All available SDM devices: {sdm_devices}\")"
      ]
    },
    {
      "cell_type": "code",
      "execution_count": null,
      "metadata": {
        "colab": {
          "base_uri": "https://localhost:8080/"
        },
        "id": "RKFreouqOong",
        "outputId": "c68754a3-a4a9-41f8-ad33-e374d1899a61"
      },
      "outputs": [
        {
          "name": "stdout",
          "output_type": "stream",
          "text": [
            "Generated stream output: {'results': {'streamUrls': {'rtspUrl': 'rtsps://sdmvideostream.com/Zy4wLnN0cmVhbWluZ1Rva2VuSW1hZ2VzL0FsbGV5LzA1XzIwXzI1IDhfMjlfMTIgQU0uSlBH?auth=g.0.streamingToken'}, 'streamExtensionToken': 'gSey_A3wSR2n07j7t2-a0A', 'streamToken': 'g.0.streamingToken', 'expiresAt': '2025-07-08T12:41:38.367248'}}\n"
          ]
        }
      ],
      "source": [
        "# Set required ids\n",
        "\n",
        "# Assuming \"Alley Cam\" is the Alley Camera\n",
        "alley_cam_id = \"CAM_003\"\n",
        "project_id = \"house-system-136791\"\n",
        "\n",
        "# 2. Load front door cam image\n",
        "# Start RTSP stream\n",
        "generate_stream_command = {\"command\": \"sdm.devices.commands.generate_rtsp_stream\",\n",
        "                           \"params\": {}\n",
        "                           }\n",
        "generate_stream_output = sdm.execute_command(device_id=alley_cam_id, project_id=project_id, command_request=generate_stream_command)\n",
        "\n",
        "# Inspect stream output\n",
        "print(f\"Generated stream output: {generate_stream_output}\")"
      ]
    },
    {
      "cell_type": "code",
      "execution_count": null,
      "metadata": {
        "colab": {
          "base_uri": "https://localhost:8080/",
          "height": 377
        },
        "id": "0p-87GA3JVo2",
        "outputId": "bdbeccd1-4b81-4fe6-f9aa-99d8eba3648e"
      },
      "outputs": [
        {
          "data": {
            "image/jpeg": "[encoded data removed]",
            "text/plain": [
              "<IPython.core.display.Image object>"
            ]
          },
          "metadata": {},
          "output_type": "display_data"
        }
      ],
      "source": [
        "# Get image from stream\n",
        "generate_image_command = {\"command\": \"sdm.devices.commands.generate_image_from_rtsp_stream\",\n",
        "                          \"params\": {\n",
        "                              \"rtsp_url\": generate_stream_output.get(\"results\", {}).get(\"streamUrls\", \"\").get(\"rtspUrl\", \"\")\n",
        "                              }\n",
        "                          }\n",
        "image_1 = sdm.execute_command(device_id=alley_cam_id, project_id=project_id, command_request=generate_image_command)\n",
        "\n",
        "# Stop RTSP stream\n",
        "stop_stream_command = {\"command\": \"sdm.devices.commands.stop_rtsp_stream\",\n",
        "                       \"params\": {\n",
        "                           \"stream_extension_token\": generate_stream_output.get(\"results\", {}).get(\"streamExtensionToken\", \"\")\n",
        "                           }\n",
        "                       }\n",
        "stop_stream_output = sdm.execute_command(device_id=alley_cam_id, project_id=project_id, command_request=stop_stream_command)\n",
        "\n",
        "# THIS IS JUST FOR DEBUGGING, WILL BE REMOVED\n",
        "display_base64_image(image_1)"
      ]
    },
    {
      "cell_type": "code",
      "execution_count": null,
      "metadata": {
        "colab": {
          "base_uri": "https://localhost:8080/"
        },
        "id": "5HLgqPTh3SF_",
        "outputId": "fae863c6-f442-40e7-d179-f07d05352342"
      },
      "outputs": [
        {
          "name": "stdout",
          "output_type": "stream",
          "text": [
            "This image shows a garbage truck, confirming that trash pickup has occurred. I will send an email for confirmation.\n"
          ]
        }
      ],
      "source": [
        "# Mock reply from Gemini\n",
        "print(\"This image shows a garbage truck, confirming that trash pickup has occurred. I will send an email for confirmation.\")"
      ]
    },
    {
      "cell_type": "code",
      "execution_count": null,
      "metadata": {
        "colab": {
          "base_uri": "https://localhost:8080/"
        },
        "id": "3pI59S4Z-MNA",
        "outputId": "dd5fdaff-5e26-4a31-f7b3-222ac3f1caec"
      },
      "outputs": [
        {
          "name": "stdout",
          "output_type": "stream",
          "text": [
            "Email sent successfully. Details:\n",
            "{'id': 'msg_5', 'threadId': 'thread-5', 'labelIds': ['SENT'], 'raw': 'Q29udGVudC1UeXBlOiB0ZXh0L3BsYWluOyBjaGFyc2V0PSJ1cy1hc2NpaSIKTUlNRS1WZXJzaW9uOiAxLjAKQ29udGVudC1UcmFuc2Zlci1FbmNvZGluZzogN2JpdApUbzogSm9objEyMjNAZ21haWwuY29tClN1YmplY3Q6IFRyYXNoIFBpY2stVXAgVXBkYXRlCkZyb206IGpvaG4uZG9lQGdtYWlsLmNvbQoKSGksCgpUcmFzaCBwaWNrdXAgaGFzIGJlZW4gY29tcGxldGVkLgo', 'internalDate': '1751978198488', 'date': '', 'sender': 'john.doe@gmail.com', 'recipient': 'John1223@gmail.com', 'subject': 'Trash Pick-Up Update', 'body': 'Hi,\\n\\nTrash pickup has been completed.\\n', 'payload': {'mimeType': 'text/plain', 'headers': [{'name': 'From', 'value': 'john.doe@gmail.com'}, {'name': 'To', 'value': 'John1223@gmail.com'}, {'name': 'Subject', 'value': 'Trash Pick-Up Update'}, {'name': 'Date', 'value': ''}], 'body': {'data': 'SGksCgpUcmFzaCBwaWNrdXAgaGFzIGJlZW4gY29tcGxldGVkLgo='}}, 'headers': [{'name': 'From', 'value': 'john.doe@gmail.com'}, {'name': 'To', 'value': 'John1223@gmail.com'}, {'name': 'Subject', 'value': 'Trash Pick-Up Update'}, {'name': 'Date', 'value': ''}], 'isRead': False}\n"
          ]
        }
      ],
      "source": [
        "# Sending email\n",
        "sender_email = gmail.get_user_profile(\"me\").get(\"emailAddress\", \"\")\n",
        "subject = \"Trash Pick-Up Update\"\n",
        "message_text = (\n",
        "    \"Hi,\\n\\n\"\n",
        "    \"Trash pickup has been completed.\\n\"\n",
        ")\n",
        "\n",
        "# Message Dictionary\n",
        "msg_dictionary = {\n",
        "    'sender': sender_email,\n",
        "    'recipient': recipient_email,\n",
        "    'subject': subject,\n",
        "    'body': message_text\n",
        "}\n",
        "\n",
        "# Send the Email\n",
        "sent_email = gmail.send_message(userId=\"me\", msg=msg_dictionary)\n",
        "\n",
        "print(\"Email sent successfully. Details:\")\n",
        "print(sent_email)"
      ]
    },
    {
      "cell_type": "markdown",
      "metadata": {
        "id": "QC4sYtVqDZeJ"
      },
      "source": [
        "# Final Assertion\n",
        "1. Assert that the email was sent to John1223@gmail.com\n",
        "2. Assert that all the relevant images are utilized."
      ]
    },
    {
      "cell_type": "code",
      "execution_count": null,
      "metadata": {
        "id": "1zpEcNgODqBS"
      },
      "outputs": [],
      "source": [
        "import gmail\n",
        "import sdm\n",
        "\n",
        "# Context variables\n",
        "recipient_email = \"John1223@gmail.com\"\n",
        "\n",
        "# Helper functions\n",
        "def are_all_images_used(expected_paths: list[str], served_type: str) -> bool:\n",
        "    # Get served images\n",
        "    served_image_paths = sdm.devices.commands.get_served_images()\n",
        "    if served_type == \"event\":\n",
        "        image_paths = served_image_paths.get(\"EVENT_IMAGES\", [])\n",
        "    elif served_type == \"stream\":\n",
        "        image_paths = served_image_paths.get(\"STREAM_IMAGES\", [])\n",
        "    else:\n",
        "        print(\"Invalid served type.\")\n",
        "        return False\n",
        "\n",
        "    # Check if all expected paths are present in unique_used_paths\n",
        "    return set(expected_paths).issubset(set(image_paths))\n",
        "\n",
        "# 1. Assert that the email was sent to John1223@gmail.com\n",
        "\n",
        "# Find the email(s) sent to the recipient\n",
        "list_result = gmail.list_messages(userId=\"me\", q=f'to:{recipient_email}')\n",
        "messages = list_result.get(\"messages\", [])\n",
        "\n",
        "# Get the labels of the first found message, if it exists\n",
        "# This will be an empty list if not exactly one message was found.\n",
        "labels = gmail.get_message(userId=\"me\", id=messages[0]['id'], format='metadata').get(\"labelIds\", []) if len(messages) == 1 else []\n",
        "\n",
        "# 1. Assert that exactly one message was found AND it has the \"SENT\" label\n",
        "assert len(messages) == 1 and \"SENT\" in labels, \\\n",
        "    f\"Verification failed. Found {len(messages)} emails for {recipient_email} (expected 1 with 'SENT' label).\"\n",
        "\n",
        "# 2. Assert that all the relevant images are utilized.\n",
        "# Collect expected image paths from the image map\n",
        "image_map = sdm.load_image_map()\n",
        "all_expected_paths = []\n",
        "camera_image_entries = image_map.get(\"cameras\", {})\n",
        "event_image_entries = image_map.get(\"events\", [])\n",
        "\n",
        "for camera_id, image_entries in camera_image_entries.items():\n",
        "    for entry in image_entries:\n",
        "        if entry.get(\"expected\") == \"Yes\":\n",
        "            all_expected_paths.append(entry.get(\"image_path\"))\n",
        "\n",
        "expected_event_paths = []\n",
        "for event in event_image_entries:\n",
        "    expected_event_paths.append(event.get(\"image_path\"))\n",
        "\n",
        "expected_stream_paths = [path for path in all_expected_paths if path not in expected_event_paths]\n",
        "\n",
        "# Assert that all relevant images are used\n",
        "assert are_all_images_used(expected_event_paths, \"event\"), \"Mismatch: Not all expected event images were used.\"\n",
        "assert are_all_images_used(expected_stream_paths, \"stream\"), \"Mismatch: Not all expected stream images were used.\""
      ]
    }
  ],
  "metadata": {
    "colab": {
      "collapsed_sections": [
        "5aL3fBRI8eYa",
        "HkPZ3DqYAfEQ",
        "mqvXS8X6-ylx"
      ],
      "provenance": []
    },
    "kernelspec": {
      "display_name": "Python 3",
      "name": "python3"
    },
    "language_info": {
      "name": "python"
    }
  },
  "nbformat": 4,
  "nbformat_minor": 0
}